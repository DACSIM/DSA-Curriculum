{
  "cells": [
    {
      "cell_type": "markdown",
      "metadata": {
        "id": "oPYviUPiQbS2"
      },
      "source": [
        "## DAC(DSA): Recap to Python - Part 1"
      ]
    },
    {
      "cell_type": "markdown",
      "metadata": {
        "id": "5OCgJeP2rGhb"
      },
      "source": [
        "### Introduction"
      ]
    },
    {
      "cell_type": "code",
      "execution_count": 1,
      "metadata": {
        "colab": {
          "base_uri": "https://localhost:8080/"
        },
        "id": "hnHjqOE9QME-",
        "outputId": "f9b4748a-bd43-4466-a238-6351582e2bc0"
      },
      "outputs": [
        {
          "name": "stdout",
          "output_type": "stream",
          "text": [
            "3 is lesser than 5\n"
          ]
        }
      ],
      "source": [
        "#if statements with format function\n",
        "a = 5\n",
        "b = 3\n",
        "\n",
        "if b < a:\n",
        "  print(\"{1} is lesser than {0}\".format(a,b))"
      ]
    },
    {
      "cell_type": "code",
      "execution_count": 2,
      "metadata": {
        "colab": {
          "base_uri": "https://localhost:8080/"
        },
        "id": "t_iGY9pYQxQf",
        "outputId": "d3c69528-d5a0-4ac6-ccb1-ed95ac0df4c6"
      },
      "outputs": [
        {
          "name": "stdout",
          "output_type": "stream",
          "text": [
            "3 is lesser than 5\n"
          ]
        }
      ],
      "source": [
        "#else statements with format function\n",
        "a = 5\n",
        "b = 3\n",
        "\n",
        "if a < b:\n",
        "  print(\"{1} is not lesser than {0}\".format(a,b))\n",
        "else:\n",
        "  print(\"{1} is lesser than {0}\".format(a,b))"
      ]
    },
    {
      "cell_type": "code",
      "execution_count": 3,
      "metadata": {
        "colab": {
          "base_uri": "https://localhost:8080/"
        },
        "id": "Hg1qHVWrRYKi",
        "outputId": "536fa728-667f-416e-c324-233c52d60c6c"
      },
      "outputs": [
        {
          "name": "stdout",
          "output_type": "stream",
          "text": [
            "a and c are equal\n"
          ]
        }
      ],
      "source": [
        "#elif statements with format function\n",
        "a = 5\n",
        "b = 3\n",
        "c = 5\n",
        "\n",
        "if a < c:\n",
        "  print(\"{0} is lesser than {1}\".format(a,c))\n",
        "elif a > c:\n",
        "  print(\"{0} is not lesser than {1}\".format(a,c))\n",
        "else:\n",
        "  print(\"a and c are equal\")"
      ]
    },
    {
      "cell_type": "markdown",
      "metadata": {
        "id": "DKqrFzZ9VN6-"
      },
      "source": [
        "### Range\n",
        "\n",
        "1. Use range to generate a list of the number"
      ]
    },
    {
      "cell_type": "code",
      "execution_count": 4,
      "metadata": {
        "colab": {
          "base_uri": "https://localhost:8080/"
        },
        "id": "6jVFxKKhUxNX",
        "outputId": "5e0e00d7-07ca-482e-957c-d706a505df05"
      },
      "outputs": [
        {
          "name": "stdout",
          "output_type": "stream",
          "text": [
            "0\n",
            "1\n",
            "2\n",
            "3\n",
            "4\n"
          ]
        }
      ],
      "source": [
        "# simple for loop\n",
        "for i in range(5):\n",
        "  print(i)"
      ]
    },
    {
      "cell_type": "code",
      "execution_count": 5,
      "metadata": {
        "colab": {
          "base_uri": "https://localhost:8080/"
        },
        "id": "_nm6V36oV4vP",
        "outputId": "80484f56-b0ca-43ca-cdc6-8808e53475fa"
      },
      "outputs": [
        {
          "name": "stdout",
          "output_type": "stream",
          "text": [
            "[0, 1, 2, 3, 4, 5, 6, 7, 8, 9]\n"
          ]
        }
      ],
      "source": [
        "#list\n",
        "listr = list(range(10))\n",
        "print(listr)"
      ]
    },
    {
      "cell_type": "code",
      "execution_count": 6,
      "metadata": {
        "colab": {
          "base_uri": "https://localhost:8080/"
        },
        "id": "tIk-49LQV-PT",
        "outputId": "cd7309ea-baac-4858-b182-9f8134627b86"
      },
      "outputs": [
        {
          "name": "stdout",
          "output_type": "stream",
          "text": [
            "[5, 4, 3, 2, 1, 0, -1, -2, -3, -4]\n"
          ]
        }
      ],
      "source": [
        "#list with step\n",
        "#Syntax: list(range(start, stop, step)), The sequence decreases by 1 at each step.\n",
        "list_s = list(range(5,-5,-1))\n",
        "print(list_s)"
      ]
    },
    {
      "cell_type": "markdown",
      "metadata": {
        "id": "Pih6hmB3Soe3"
      },
      "source": [
        "### Loops\n",
        "\n",
        "1. Break statement\n",
        "2. Continue statement\n",
        "3. Pass statement\n",
        "\n",
        "The purpose of learning break, pass and continue statements is so that you can handle instances where you need to escape a loop fully when an external condition is triggered or when you want to bypass an action of the loop and begin the next iteration.\n",
        "\n",
        "Mostly used to improve efficiency of the loop"
      ]
    },
    {
      "cell_type": "code",
      "execution_count": 7,
      "metadata": {
        "colab": {
          "base_uri": "https://localhost:8080/"
        },
        "id": "FKxWVhLwSwvm",
        "outputId": "91325564-b6f2-4ce1-8ce1-2b9ab41154ea"
      },
      "outputs": [
        {
          "name": "stdout",
          "output_type": "stream",
          "text": [
            "1\n",
            "2\n",
            "3\n",
            "4\n",
            "5\n",
            "6\n",
            "7\n",
            "8\n",
            "9\n",
            "10\n",
            "The while loop ends here\n"
          ]
        }
      ],
      "source": [
        "#while loop\n",
        "#Break statement: When external condition is triggered, you can exit the loop\n",
        "\n",
        "n = 1\n",
        "while n <= 100: #loop will carry on as long as n is less than 100\n",
        "  print(n)\n",
        "  n = n + 1\n",
        "  if n > 10:\n",
        "    break #exits the current iteration\n",
        "print(\"The while loop ends here\")"
      ]
    },
    {
      "cell_type": "code",
      "execution_count": 8,
      "metadata": {
        "colab": {
          "base_uri": "https://localhost:8080/"
        },
        "id": "UmiIrtd9TiU-",
        "outputId": "dadfbeda-9370-4555-f1d5-233a2b0df651"
      },
      "outputs": [
        {
          "name": "stdout",
          "output_type": "stream",
          "text": [
            "Printed number: 0\n",
            "Printed number: 1\n",
            "Printed number: 2\n",
            "Printed number: 3\n",
            "Printed number: 5\n",
            "Loop ends here\n"
          ]
        }
      ],
      "source": [
        "#Continue statement: When the external condition is triggered, you can skip over that part of the loop to complete the loop\n",
        "\n",
        "num = 0\n",
        "for num in range(6):\n",
        "  if num == 4:\n",
        "    continue #skips the following steps to continue loop\n",
        "  print(\"Printed number: {0}\".format(num))\n",
        "print(\"Loop ends here\")"
      ]
    },
    {
      "cell_type": "code",
      "execution_count": 38,
      "metadata": {
        "colab": {
          "base_uri": "https://localhost:8080/"
        },
        "id": "M6r5B3hCUIeZ",
        "outputId": "17e30501-ab1e-4532-91ae-b791eab6d0cc"
      },
      "outputs": [
        {
          "name": "stdout",
          "output_type": "stream",
          "text": [
            "Printed number is: 0\n",
            "Printed number is: 1\n",
            "Printed number is: 2\n",
            "Printed number is: 3\n",
            "Printed number is: 4\n",
            "Printed number is: 5\n",
            "Out of loop\n"
          ]
        }
      ],
      "source": [
        "#Pass statement: When the external condition is triggered, you can handle the condition without the loop being impacted in any way\n",
        "\n",
        "num == 0\n",
        "for num in range(6):\n",
        "  if num == 4:\n",
        "    pass\n",
        "  print(\"Printed number is: {0}\".format(num))\n",
        "print(\"Out of loop\")"
      ]
    },
    {
      "cell_type": "code",
      "execution_count": 39,
      "metadata": {
        "colab": {
          "base_uri": "https://localhost:8080/"
        },
        "id": "b0_f5EBgWb_8",
        "outputId": "907f0a1a-6b91-4a4e-cdf0-6295ddd439d5"
      },
      "outputs": [
        {
          "name": "stdout",
          "output_type": "stream",
          "text": [
            "0\n",
            "hi\n",
            "1\n",
            "my\n",
            "2\n",
            "name\n",
            "3\n",
            "is\n",
            "4\n",
            "Jeff\n",
            "5\n",
            "Phone no:\n",
            "6\n",
            "12345678\n"
          ]
        }
      ],
      "source": [
        "#using len with index\n",
        "list_a = [\"hi\",\"my\",\"name\",\"is\",\"Jeff\",\"Phone no:\",12345678]\n",
        "for i in range(len(list_a)):\n",
        "  print(i)\n",
        "  print(list_a[i])"
      ]
    },
    {
      "cell_type": "code",
      "execution_count": 11,
      "metadata": {
        "colab": {
          "base_uri": "https://localhost:8080/"
        },
        "id": "VJOJog_FW8xh",
        "outputId": "73e5466d-d207-410d-9dde-065f547f00fe"
      },
      "outputs": [
        {
          "name": "stdout",
          "output_type": "stream",
          "text": [
            "[1, 2, 3, 4, 5, 6, 7]\n",
            "[7, 8, 9, 10, 11, 12, 13]\n"
          ]
        }
      ],
      "source": [
        "#Increasing value of the item in the list by 6\n",
        "list_y = [1,2,3,4,5,6,7]\n",
        "print(list_y)\n",
        "for i in range(len(list_y)):\n",
        "  list_y[i] = list_y[i] + 6\n",
        "print(list_y)"
      ]
    },
    {
      "cell_type": "markdown",
      "metadata": {
        "id": "T0kn_BSdqXjJ"
      },
      "source": [
        "## Dictionary \n",
        "### Question: Are dictionaries objects?"
      ]
    },
    {
      "cell_type": "markdown",
      "metadata": {
        "id": "AVzSeVDRJ16A"
      },
      "source": [
        "### Getting List of All Keys"
      ]
    },
    {
      "cell_type": "code",
      "execution_count": 12,
      "metadata": {
        "colab": {
          "base_uri": "https://localhost:8080/"
        },
        "id": "M_H59D57KR4B",
        "outputId": "02dfc276-7d39-4696-e752-9d29f74c5fb0"
      },
      "outputs": [
        {
          "name": "stdout",
          "output_type": "stream",
          "text": [
            "{'first_name': 'Richard', 'last_name': 'Anderson', 'age': 45, 'tattoos': True}\n",
            "dict_keys(['first_name', 'last_name', 'age', 'tattoos'])\n"
          ]
        }
      ],
      "source": [
        "#Dictionary keyvalue pair\n",
        "Richard = {\n",
        "    \"first_name\":\"Richard\",\n",
        "    \"last_name\":\"Anderson\",\n",
        "    \"age\": 45,\n",
        "    \"tattoos\": True\n",
        "}\n",
        "\n",
        "print(Richard)\n",
        "\n",
        "#keys function\n",
        "keys = Richard.keys()\n",
        "print(keys)"
      ]
    },
    {
      "cell_type": "code",
      "execution_count": 13,
      "metadata": {
        "colab": {
          "base_uri": "https://localhost:8080/"
        },
        "id": "qW19WN3JLrzP",
        "outputId": "91f71efd-d8c1-4ec4-ea4b-a042f3b64dae"
      },
      "outputs": [
        {
          "name": "stdout",
          "output_type": "stream",
          "text": [
            "dict_values(['Richard', 'Anderson', 45, True])\n"
          ]
        }
      ],
      "source": [
        "#Getting list of all values using values function\n",
        "values = Richard.values()\n",
        "print(values)"
      ]
    },
    {
      "cell_type": "code",
      "execution_count": 14,
      "metadata": {
        "colab": {
          "base_uri": "https://localhost:8080/"
        },
        "id": "hVlRH7VaLJi6",
        "outputId": "1cacf2d7-80b6-48f3-b5c9-1764de72792d"
      },
      "outputs": [
        {
          "name": "stdout",
          "output_type": "stream",
          "text": [
            "key = first_name, value = Richard\n",
            "key = last_name, value = Anderson\n",
            "key = age, value = 45\n",
            "key = tattoos, value = True\n"
          ]
        }
      ],
      "source": [
        "#all keys\n",
        "all_keys = Richard.keys()\n",
        "for key in all_keys:\n",
        "  r = Richard.get(key)\n",
        "  print(\"key = {0}, value = {1}\".format(key,r)) #data formating"
      ]
    },
    {
      "cell_type": "code",
      "execution_count": 15,
      "metadata": {
        "colab": {
          "base_uri": "https://localhost:8080/"
        },
        "id": "XsVBrSWLKeas",
        "outputId": "8ad05006-3653-4904-b714-11a2e0521720"
      },
      "outputs": [
        {
          "name": "stdout",
          "output_type": "stream",
          "text": [
            "{'name': 'Ryan', 'grade': 12, 'score': {'english': 87, 'math': 90, 'science': 95, 'mother tongue': 55}}\n",
            "dict_keys(['name', 'grade', 'score'])\n",
            "dict_keys(['english', 'math', 'science', 'mother tongue'])\n"
          ]
        }
      ],
      "source": [
        "#Nested dictionary\n",
        "sch_rec = {\n",
        "    \"name\": \"Ryan\",\n",
        "    \"grade\": 12,\n",
        "    \"score\":{\n",
        "        \"english\":87,\n",
        "        \"math\":90,\n",
        "        \"science\":95,\n",
        "        \"mother tongue\":55\n",
        "    }\n",
        "}\n",
        "print(sch_rec)\n",
        "\n",
        "#keys function\n",
        "keys_nested = sch_rec.keys()\n",
        "keys_score = sch_rec['score'].keys()\n",
        "print(keys_nested)\n",
        "print(keys_score)"
      ]
    },
    {
      "cell_type": "code",
      "execution_count": 16,
      "metadata": {
        "colab": {
          "base_uri": "https://localhost:8080/"
        },
        "id": "ayg8H4g6vYbH",
        "outputId": "f47b3fcd-cf1a-4a49-904c-733f1fe669b6"
      },
      "outputs": [
        {
          "data": {
            "text/plain": [
              "dict_items([('001', {'name': 'Ryan', 'grade': 12, 'avg_score': 95}), ('002', {'name': 'Jaslyn', 'grade': 12, 'avg_score': 90}), ('003', {'name': 'Ronald', 'grade': 10, 'avg_score': 55}), ('004', {'name': 'Chad', 'grade': 9, 'avg_score': 67}), ('005', {'name': 'Joyce', 'grade': 8, 'avg_score': 82.5}), ('006', {'name': 'Amanda', 'grade': 11, 'avg_score': 98})])"
            ]
          },
          "execution_count": 16,
          "metadata": {},
          "output_type": "execute_result"
        }
      ],
      "source": [
        "#Using Items function to get an overview\n",
        "sch_rec2 = {\n",
        "    '001':{\"name\":\"Ryan\", \"grade\": 12, \"avg_score\": 95},\n",
        "    '002':{\"name\":\"Jaslyn\", \"grade\": 12, \"avg_score\": 90},\n",
        "    '003':{\"name\":\"Ronald\", \"grade\": 10, \"avg_score\": 55},\n",
        "    '004':{\"name\":\"Chad\", \"grade\": 9, \"avg_score\": 67},\n",
        "    '005':{\"name\":\"Joyce\", \"grade\": 8, \"avg_score\": 82.5},\n",
        "    '006':{\"name\":\"Amanda\", \"grade\": 11, \"avg_score\": 98}\n",
        "}\n",
        "\n",
        "#items function\n",
        "sch_rec2.items()"
      ]
    },
    {
      "cell_type": "markdown",
      "metadata": {
        "id": "Dnt1Qk7JqrZt"
      },
      "source": [
        "### Presentation of the Information in the Dictionary"
      ]
    },
    {
      "cell_type": "code",
      "execution_count": 17,
      "metadata": {
        "colab": {
          "base_uri": "https://localhost:8080/"
        },
        "id": "0l57vIw_Lkbo",
        "outputId": "59d15123-9ca1-496c-9e2c-3b58fd332931"
      },
      "outputs": [
        {
          "name": "stdout",
          "output_type": "stream",
          "text": [
            "\n",
            "Student ID: 001\n",
            "name: Ryan\n",
            "grade: 12\n",
            "avg_score: 95\n",
            "\n",
            "Student ID: 002\n",
            "name: Jaslyn\n",
            "grade: 12\n",
            "avg_score: 90\n",
            "\n",
            "Student ID: 003\n",
            "name: Ronald\n",
            "grade: 10\n",
            "avg_score: 55\n",
            "\n",
            "Student ID: 004\n",
            "name: Chad\n",
            "grade: 9\n",
            "avg_score: 67\n",
            "\n",
            "Student ID: 005\n",
            "name: Joyce\n",
            "grade: 8\n",
            "avg_score: 82.5\n",
            "\n",
            "Student ID: 006\n",
            "name: Amanda\n",
            "grade: 11\n",
            "avg_score: 98\n"
          ]
        }
      ],
      "source": [
        "#presenting info in dict with double loops\n",
        "# e.g id = '001', and the corresponding info and so on. (Refer to the code on top to understand what sch_rec2.items() shows)\n",
        "for id, info in sch_rec2.items():\n",
        "  print(\"\\nStudent ID:\",id)\n",
        "  for key in info:\n",
        "    print(key + \":\",info[key])"
      ]
    },
    {
      "cell_type": "code",
      "execution_count": 18,
      "metadata": {
        "id": "yt5sXt7Pu9ZE"
      },
      "outputs": [],
      "source": [
        "#For QOL(Quality of Life) purposes\n",
        "Richard = {\n",
        "    \"first_name\":\"Richard\",\n",
        "    \"last_name\":\"Anderson\",\n",
        "    \"age\": 45,\n",
        "    \"tattoos\": True\n",
        "}"
      ]
    },
    {
      "cell_type": "code",
      "execution_count": 19,
      "metadata": {
        "colab": {
          "base_uri": "https://localhost:8080/"
        },
        "id": "N7khMKsgNHwL",
        "outputId": "7971d79f-7bdd-4e29-b824-10d31db4a7c9"
      },
      "outputs": [
        {
          "name": "stdout",
          "output_type": "stream",
          "text": [
            "Anderson\n",
            "Todd\n"
          ]
        }
      ],
      "source": [
        "#Changing existing values in a dictionary\n",
        "print(Richard.get(\"last_name\"))\n",
        "Richard[\"last_name\"] = \"Todd\"\n",
        "print(Richard.get(\"last_name\"))"
      ]
    },
    {
      "cell_type": "code",
      "execution_count": 20,
      "metadata": {
        "colab": {
          "base_uri": "https://localhost:8080/"
        },
        "id": "z3SsAqQ-NkUs",
        "outputId": "d2fd82ef-f6ba-4e90-fb3a-139a8709fd05"
      },
      "outputs": [
        {
          "name": "stdout",
          "output_type": "stream",
          "text": [
            "Ryan\n",
            "Ryan Tan\n"
          ]
        }
      ],
      "source": [
        "#Changing existing values in a nested dictionary\n",
        "print(sch_rec2['001'].get('name'))\n",
        "sch_rec2['001']['name'] = \"Ryan Tan\"\n",
        "print(sch_rec2['001'].get('name'))"
      ]
    },
    {
      "cell_type": "markdown",
      "metadata": {
        "id": "IUgzzmWLN8vf"
      },
      "source": [
        "### Adding a new key-value pair in a dictionary"
      ]
    },
    {
      "cell_type": "markdown",
      "metadata": {
        "id": "Lvx9Y2ZwOCpg"
      },
      "source": [
        "#### For Regular Dictionary case"
      ]
    },
    {
      "cell_type": "code",
      "execution_count": 21,
      "metadata": {
        "colab": {
          "base_uri": "https://localhost:8080/"
        },
        "id": "RHSHIXYmN3q7",
        "outputId": "a780260f-6d3d-4730-d561-ce2f1a16607e"
      },
      "outputs": [
        {
          "name": "stdout",
          "output_type": "stream",
          "text": [
            "Before Alteration:  {'first_name': 'Richard', 'last_name': 'Todd', 'age': 45, 'tattoos': True}\n"
          ]
        }
      ],
      "source": [
        "#Before alteration\n",
        "print(\"Before Alteration: \",Richard)"
      ]
    },
    {
      "cell_type": "code",
      "execution_count": 22,
      "metadata": {
        "id": "r3TTdOtVOQEa"
      },
      "outputs": [],
      "source": [
        "#Alteration\n",
        "Richard['email'] = \"richard148@gmail.com\""
      ]
    },
    {
      "cell_type": "code",
      "execution_count": 23,
      "metadata": {
        "colab": {
          "base_uri": "https://localhost:8080/"
        },
        "id": "sLXHxLGFOZfP",
        "outputId": "33afefaa-24dc-4e0a-d675-e31b1caa8c28"
      },
      "outputs": [
        {
          "name": "stdout",
          "output_type": "stream",
          "text": [
            "After Alteration:  {'first_name': 'Richard', 'last_name': 'Todd', 'age': 45, 'tattoos': True, 'email': 'richard148@gmail.com'}\n"
          ]
        }
      ],
      "source": [
        "#After alteration\n",
        "print(\"After Alteration: \",Richard)"
      ]
    },
    {
      "cell_type": "markdown",
      "metadata": {
        "id": "VxrmLPxIOnVQ"
      },
      "source": [
        "#### For Nested Dictionary case"
      ]
    },
    {
      "cell_type": "code",
      "execution_count": 24,
      "metadata": {
        "colab": {
          "base_uri": "https://localhost:8080/"
        },
        "id": "vk7vpuKOOmsp",
        "outputId": "ef2c2d52-877d-4b9a-aa56-c08f47c41afe"
      },
      "outputs": [
        {
          "name": "stdout",
          "output_type": "stream",
          "text": [
            "Before alteration:  {'001': {'name': 'Ryan Tan', 'grade': 12, 'avg_score': 95}, '002': {'name': 'Jaslyn', 'grade': 12, 'avg_score': 90}, '003': {'name': 'Ronald', 'grade': 10, 'avg_score': 55}, '004': {'name': 'Chad', 'grade': 9, 'avg_score': 67}, '005': {'name': 'Joyce', 'grade': 8, 'avg_score': 82.5}, '006': {'name': 'Amanda', 'grade': 11, 'avg_score': 98}}\n"
          ]
        }
      ],
      "source": [
        "#Before alteration\n",
        "print(\"Before alteration: \",sch_rec2)"
      ]
    },
    {
      "cell_type": "code",
      "execution_count": 25,
      "metadata": {
        "colab": {
          "base_uri": "https://localhost:8080/"
        },
        "id": "za1GyW8eOzkw",
        "outputId": "34a73bd0-59f3-49bf-af00-cc34708c2859"
      },
      "outputs": [
        {
          "name": "stdout",
          "output_type": "stream",
          "text": [
            "After alteration:  {'001': {'name': 'Ryan Tan', 'grade': 12, 'avg_score': 95, 'email': 'rand001@gmail.com'}, '002': {'name': 'Jaslyn', 'grade': 12, 'avg_score': 90, 'email': 'rand002@gmail.com'}, '003': {'name': 'Ronald', 'grade': 10, 'avg_score': 55, 'email': 'rand003@gmail.com'}, '004': {'name': 'Chad', 'grade': 9, 'avg_score': 67, 'email': 'rand004@gmail.com'}, '005': {'name': 'Joyce', 'grade': 8, 'avg_score': 82.5, 'email': 'rand005@gmail.com'}, '006': {'name': 'Amanda', 'grade': 11, 'avg_score': 98, 'email': 'rand006@gmail.com'}}\n"
          ]
        }
      ],
      "source": [
        "#Alteration\n",
        "sch_rec2['001']['email']='rand001@gmail.com'\n",
        "sch_rec2['002']['email']='rand002@gmail.com'\n",
        "sch_rec2['003']['email']='rand003@gmail.com'\n",
        "sch_rec2['004']['email']='rand004@gmail.com'\n",
        "sch_rec2['005']['email']='rand005@gmail.com'\n",
        "sch_rec2['006']['email']='rand006@gmail.com'\n",
        "\n",
        "print(\"After alteration: \",sch_rec2)"
      ]
    },
    {
      "cell_type": "markdown",
      "metadata": {
        "id": "UNp-IhUpPLaY"
      },
      "source": [
        "### Deleting key-value pair in a dictionary"
      ]
    },
    {
      "cell_type": "markdown",
      "metadata": {
        "id": "MuHKTPv9PRzD"
      },
      "source": [
        "#### For Regular Dictionary case"
      ]
    },
    {
      "cell_type": "code",
      "execution_count": 26,
      "metadata": {
        "colab": {
          "base_uri": "https://localhost:8080/"
        },
        "id": "RKRJXUV5PWY2",
        "outputId": "e63da6f8-9a4a-4c68-c7c6-a56f0f95e8b0"
      },
      "outputs": [
        {
          "name": "stdout",
          "output_type": "stream",
          "text": [
            "Before alteration:  {'first_name': 'Richard', 'last_name': 'Todd', 'age': 45, 'tattoos': True, 'email': 'richard148@gmail.com'}\n"
          ]
        }
      ],
      "source": [
        "#Before alteration\n",
        "print(\"Before alteration: \",Richard)"
      ]
    },
    {
      "cell_type": "code",
      "execution_count": 27,
      "metadata": {
        "id": "HjLkALKJPeIf"
      },
      "outputs": [],
      "source": [
        "#Alteration\n",
        "del Richard['email']"
      ]
    },
    {
      "cell_type": "code",
      "execution_count": 28,
      "metadata": {
        "colab": {
          "base_uri": "https://localhost:8080/"
        },
        "id": "Kr0I32w6PlR8",
        "outputId": "e12c390b-6a52-4be2-a9e1-161410e353b2"
      },
      "outputs": [
        {
          "name": "stdout",
          "output_type": "stream",
          "text": [
            "After alteration:  {'first_name': 'Richard', 'last_name': 'Todd', 'age': 45, 'tattoos': True}\n"
          ]
        }
      ],
      "source": [
        "#After alteration\n",
        "print(\"After alteration: \", Richard)"
      ]
    },
    {
      "cell_type": "markdown",
      "metadata": {
        "id": "ez26W1LTPq4H"
      },
      "source": [
        "#### For Nested Dictionary case"
      ]
    },
    {
      "cell_type": "code",
      "execution_count": 29,
      "metadata": {
        "colab": {
          "base_uri": "https://localhost:8080/"
        },
        "id": "oGUTIzwuPuEX",
        "outputId": "aa34d7f7-7db7-4e81-9dcc-e71e6312c934"
      },
      "outputs": [
        {
          "name": "stdout",
          "output_type": "stream",
          "text": [
            "Before alteration:  {'001': {'name': 'Ryan Tan', 'grade': 12, 'avg_score': 95, 'email': 'rand001@gmail.com'}, '002': {'name': 'Jaslyn', 'grade': 12, 'avg_score': 90, 'email': 'rand002@gmail.com'}, '003': {'name': 'Ronald', 'grade': 10, 'avg_score': 55, 'email': 'rand003@gmail.com'}, '004': {'name': 'Chad', 'grade': 9, 'avg_score': 67, 'email': 'rand004@gmail.com'}, '005': {'name': 'Joyce', 'grade': 8, 'avg_score': 82.5, 'email': 'rand005@gmail.com'}, '006': {'name': 'Amanda', 'grade': 11, 'avg_score': 98, 'email': 'rand006@gmail.com'}}\n"
          ]
        }
      ],
      "source": [
        "#Before alteration\n",
        "print(\"Before alteration: \",sch_rec2)"
      ]
    },
    {
      "cell_type": "code",
      "execution_count": 30,
      "metadata": {
        "id": "rpdOc0UXP8LX"
      },
      "outputs": [],
      "source": [
        "#Alteration\n",
        "del sch_rec2['001']['email']\n",
        "del sch_rec2['002']['email']\n",
        "del sch_rec2['003']['email']\n",
        "del sch_rec2['004']['email']\n",
        "del sch_rec2['005']['email']\n",
        "del sch_rec2['006']['email']"
      ]
    },
    {
      "cell_type": "code",
      "execution_count": 31,
      "metadata": {
        "colab": {
          "base_uri": "https://localhost:8080/"
        },
        "id": "nRVtrnlvQQZZ",
        "outputId": "8119f6aa-7251-4af6-e223-40c17f1ad7d7"
      },
      "outputs": [
        {
          "name": "stdout",
          "output_type": "stream",
          "text": [
            "After alteration:  {'001': {'name': 'Ryan Tan', 'grade': 12, 'avg_score': 95}, '002': {'name': 'Jaslyn', 'grade': 12, 'avg_score': 90}, '003': {'name': 'Ronald', 'grade': 10, 'avg_score': 55}, '004': {'name': 'Chad', 'grade': 9, 'avg_score': 67}, '005': {'name': 'Joyce', 'grade': 8, 'avg_score': 82.5}, '006': {'name': 'Amanda', 'grade': 11, 'avg_score': 98}}\n"
          ]
        }
      ],
      "source": [
        "#After alteration\n",
        "print(\"After alteration: \",sch_rec2)"
      ]
    },
    {
      "cell_type": "markdown",
      "metadata": {
        "id": "NB1Y213OXots"
      },
      "source": [
        "## Functions\n",
        "\n",
        "1. A group of related statements that perfrom a specific task\n",
        "2. Helps break down the program into smaller modules rather than a lengthy set of codes which can be unorganised"
      ]
    },
    {
      "cell_type": "code",
      "execution_count": 32,
      "metadata": {
        "id": "luHmIZ_dX2LI"
      },
      "outputs": [],
      "source": [
        "#define function\n",
        "def addition(num1,num2):\n",
        "  total = num1 + num2\n",
        "  return total"
      ]
    },
    {
      "cell_type": "code",
      "execution_count": 33,
      "metadata": {
        "colab": {
          "base_uri": "https://localhost:8080/"
        },
        "id": "pPL8Vs0lX_Ue",
        "outputId": "51842016-be1c-40e0-8f6b-3ae154075e77"
      },
      "outputs": [
        {
          "data": {
            "text/plain": [
              "12"
            ]
          },
          "execution_count": 33,
          "metadata": {},
          "output_type": "execute_result"
        }
      ],
      "source": [
        "#apply function\n",
        "addition(5,7)"
      ]
    },
    {
      "cell_type": "code",
      "execution_count": 34,
      "metadata": {
        "id": "_vChU4gBm4ZF"
      },
      "outputs": [],
      "source": [
        "#define\n",
        "def is_palindrome(word):\n",
        "    word = word.lower().replace(\" \", \"\")  # Convert to lowercase and remove spaces\n",
        "    return word == word[::-1]  #to check if the word is the same when reversed.\n",
        "    # Slicing to reverse string, start at the end of the string and end at position 0, moving with the step -1,\" effectively reversing the string \n",
        "    #list[<start>:<stop>:<step>]"
      ]
    },
    {
      "cell_type": "code",
      "execution_count": 35,
      "metadata": {
        "colab": {
          "base_uri": "https://localhost:8080/"
        },
        "id": "9reRulcym8hX",
        "outputId": "1157ef7e-b2a7-4199-8b4a-ddb96e9eb4b7"
      },
      "outputs": [
        {
          "data": {
            "text/plain": [
              "True"
            ]
          },
          "execution_count": 35,
          "metadata": {},
          "output_type": "execute_result"
        }
      ],
      "source": [
        "#apply\n",
        "is_palindrome(\"taco cat\")"
      ]
    },
    {
      "cell_type": "code",
      "execution_count": 36,
      "metadata": {
        "colab": {
          "base_uri": "https://localhost:8080/"
        },
        "id": "nmh6sXpntGEx",
        "outputId": "124d3ba7-006e-468d-b52e-f9fd44c18ab8"
      },
      "outputs": [
        {
          "name": "stdout",
          "output_type": "stream",
          "text": [
            "Question: Is it worthwhile to join DAC?\n",
            "Magic 8-Ball says: Very doubtful\n"
          ]
        }
      ],
      "source": [
        "#define\n",
        "import random\n",
        "\n",
        "def magic_8_ball():\n",
        "    responses = [\n",
        "        \"Yes\",\n",
        "        \"No\",\n",
        "        \"It is certain\",\n",
        "        \"Without a doubt\",\n",
        "        \"Reply hazy, try again\",\n",
        "        \"Don't count on it\",\n",
        "        \"My sources say no\",\n",
        "        \"Outlook not so good\",\n",
        "        \"Very doubtful\",\n",
        "        \"You may rely on it\",\n",
        "    ]\n",
        "\n",
        "    return random.choice(responses)\n",
        "\n",
        "# Example usage:\n",
        "question = \"Is it worthwhile to join DAC?\"\n",
        "answer = magic_8_ball()\n",
        "print(f\"Question: {question}\")\n",
        "print(f\"Magic 8-Ball says: {answer}\")"
      ]
    }
  ],
  "metadata": {
    "colab": {
      "provenance": []
    },
    "kernelspec": {
      "display_name": "Python 3",
      "name": "python3"
    },
    "language_info": {
      "codemirror_mode": {
        "name": "ipython",
        "version": 3
      },
      "file_extension": ".py",
      "mimetype": "text/x-python",
      "name": "python",
      "nbconvert_exporter": "python",
      "pygments_lexer": "ipython3",
      "version": "3.12.4"
    }
  },
  "nbformat": 4,
  "nbformat_minor": 0
}
