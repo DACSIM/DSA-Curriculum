{
  "cells": [
    {
      "cell_type": "markdown",
      "metadata": {
        "id": "HNTBgtOLgLyY"
      },
      "source": [
        "## DAC(DSA): Recap to Python - Part 2\n",
        "### Exploratory Data Analysis"
      ]
    },
    {
      "cell_type": "code",
      "execution_count": 1,
      "metadata": {
        "id": "yNKPBDvgViTh"
      },
      "outputs": [],
      "source": [
        "import pandas as pd\n",
        "import seaborn as sns\n",
        "import numpy as np\n",
        "import matplotlib.pyplot as plt"
      ]
    },
    {
      "cell_type": "markdown",
      "metadata": {
        "id": "gEyMH6nrV5Y8"
      },
      "source": [
        "## Step Process\n",
        "1. Load Data\n",
        "2. Inspect Data\n",
        "3. Clean Data (if needed)\n",
        "4. Explore + Visualise Data\n",
        "5. Derive insights from Data Exploration/Visualisation"
      ]
    },
    {
      "cell_type": "markdown",
      "metadata": {
        "id": "PTcprhAQWQgA"
      },
      "source": [
        "### Example 1: Forbes 2022 Dataset on Billionaires|"
      ]
    },
    {
      "cell_type": "markdown",
      "metadata": {
        "id": "S3jz6Jbhgq6l"
      },
      "source": [
        "#### 1. Load Data"
      ]
    },
    {
      "cell_type": "code",
      "execution_count": 2,
      "metadata": {
        "colab": {
          "base_uri": "https://localhost:8080/",
          "height": 423
        },
        "id": "fPbuxzJdVvB-",
        "outputId": "6c081aa6-5017-4629-de3a-0bf8b30248f4"
      },
      "outputs": [
        {
          "name": "stdout",
          "output_type": "stream",
          "text": [
            "Collecting gdown\n",
            "  Downloading gdown-5.2.0-py3-none-any.whl.metadata (5.8 kB)\n",
            "Requirement already satisfied: beautifulsoup4 in c:\\users\\shani\\anaconda3\\lib\\site-packages (from gdown) (4.12.3)\n",
            "Requirement already satisfied: filelock in c:\\users\\shani\\anaconda3\\lib\\site-packages (from gdown) (3.13.1)\n",
            "Requirement already satisfied: requests[socks] in c:\\users\\shani\\anaconda3\\lib\\site-packages (from gdown) (2.32.2)\n",
            "Requirement already satisfied: tqdm in c:\\users\\shani\\anaconda3\\lib\\site-packages (from gdown) (4.66.4)\n",
            "Requirement already satisfied: soupsieve>1.2 in c:\\users\\shani\\anaconda3\\lib\\site-packages (from beautifulsoup4->gdown) (2.5)\n",
            "Requirement already satisfied: charset-normalizer<4,>=2 in c:\\users\\shani\\anaconda3\\lib\\site-packages (from requests[socks]->gdown) (2.0.4)\n",
            "Requirement already satisfied: idna<4,>=2.5 in c:\\users\\shani\\anaconda3\\lib\\site-packages (from requests[socks]->gdown) (3.7)\n",
            "Requirement already satisfied: urllib3<3,>=1.21.1 in c:\\users\\shani\\anaconda3\\lib\\site-packages (from requests[socks]->gdown) (2.2.2)\n",
            "Requirement already satisfied: certifi>=2017.4.17 in c:\\users\\shani\\anaconda3\\lib\\site-packages (from requests[socks]->gdown) (2024.8.30)\n",
            "Requirement already satisfied: PySocks!=1.5.7,>=1.5.6 in c:\\users\\shani\\anaconda3\\lib\\site-packages (from requests[socks]->gdown) (1.7.1)\n",
            "Requirement already satisfied: colorama in c:\\users\\shani\\anaconda3\\lib\\site-packages (from tqdm->gdown) (0.4.6)\n",
            "Downloading gdown-5.2.0-py3-none-any.whl (18 kB)\n",
            "Installing collected packages: gdown\n",
            "Successfully installed gdown-5.2.0\n",
            "Note: you may need to restart the kernel to use updated packages.\n"
          ]
        },
        {
          "name": "stderr",
          "output_type": "stream",
          "text": [
            "Downloading...\n",
            "From: https://drive.google.com/uc?id=1M87zZudeEPAPQ-47_Tg-cFpUikrGH9eX\n",
            "To: c:\\Users\\shani\\DSA\\MY-DSA-Curriculum\\DSA-001-Python_Recap_Syntax_and_EDA\\2022_forbes_billionaires.csv\n",
            "100%|██████████| 194k/194k [00:00<00:00, 27.7MB/s]\n"
          ]
        },
        {
          "data": {
            "text/html": [
              "<div>\n",
              "<style scoped>\n",
              "    .dataframe tbody tr th:only-of-type {\n",
              "        vertical-align: middle;\n",
              "    }\n",
              "\n",
              "    .dataframe tbody tr th {\n",
              "        vertical-align: top;\n",
              "    }\n",
              "\n",
              "    .dataframe thead th {\n",
              "        text-align: right;\n",
              "    }\n",
              "</style>\n",
              "<table border=\"1\" class=\"dataframe\">\n",
              "  <thead>\n",
              "    <tr style=\"text-align: right;\">\n",
              "      <th></th>\n",
              "      <th>Unnamed: 0</th>\n",
              "      <th>rank</th>\n",
              "      <th>name</th>\n",
              "      <th>networth</th>\n",
              "      <th>age</th>\n",
              "      <th>country</th>\n",
              "      <th>source</th>\n",
              "      <th>industry</th>\n",
              "    </tr>\n",
              "  </thead>\n",
              "  <tbody>\n",
              "    <tr>\n",
              "      <th>0</th>\n",
              "      <td>0</td>\n",
              "      <td>1</td>\n",
              "      <td>Elon Musk</td>\n",
              "      <td>$219 B</td>\n",
              "      <td>50</td>\n",
              "      <td>United States</td>\n",
              "      <td>Tesla, SpaceX</td>\n",
              "      <td>Automotive</td>\n",
              "    </tr>\n",
              "    <tr>\n",
              "      <th>1</th>\n",
              "      <td>1</td>\n",
              "      <td>2</td>\n",
              "      <td>Jeff Bezos</td>\n",
              "      <td>$171 B</td>\n",
              "      <td>58</td>\n",
              "      <td>United States</td>\n",
              "      <td>Amazon</td>\n",
              "      <td>Technology</td>\n",
              "    </tr>\n",
              "    <tr>\n",
              "      <th>2</th>\n",
              "      <td>2</td>\n",
              "      <td>3</td>\n",
              "      <td>Bernard Arnault &amp; family</td>\n",
              "      <td>$158 B</td>\n",
              "      <td>73</td>\n",
              "      <td>France</td>\n",
              "      <td>LVMH</td>\n",
              "      <td>Fashion &amp; Retail</td>\n",
              "    </tr>\n",
              "    <tr>\n",
              "      <th>3</th>\n",
              "      <td>3</td>\n",
              "      <td>4</td>\n",
              "      <td>Bill Gates</td>\n",
              "      <td>$129 B</td>\n",
              "      <td>66</td>\n",
              "      <td>United States</td>\n",
              "      <td>Microsoft</td>\n",
              "      <td>Technology</td>\n",
              "    </tr>\n",
              "    <tr>\n",
              "      <th>4</th>\n",
              "      <td>4</td>\n",
              "      <td>5</td>\n",
              "      <td>Warren Buffett</td>\n",
              "      <td>$118 B</td>\n",
              "      <td>91</td>\n",
              "      <td>United States</td>\n",
              "      <td>Berkshire Hathaway</td>\n",
              "      <td>Finance &amp; Investments</td>\n",
              "    </tr>\n",
              "    <tr>\n",
              "      <th>...</th>\n",
              "      <td>...</td>\n",
              "      <td>...</td>\n",
              "      <td>...</td>\n",
              "      <td>...</td>\n",
              "      <td>...</td>\n",
              "      <td>...</td>\n",
              "      <td>...</td>\n",
              "      <td>...</td>\n",
              "    </tr>\n",
              "    <tr>\n",
              "      <th>2595</th>\n",
              "      <td>2595</td>\n",
              "      <td>2578</td>\n",
              "      <td>Jorge Gallardo Ballart</td>\n",
              "      <td>$1 B</td>\n",
              "      <td>80</td>\n",
              "      <td>Spain</td>\n",
              "      <td>pharmaceuticals</td>\n",
              "      <td>Healthcare</td>\n",
              "    </tr>\n",
              "    <tr>\n",
              "      <th>2596</th>\n",
              "      <td>2596</td>\n",
              "      <td>2578</td>\n",
              "      <td>Nari Genomal</td>\n",
              "      <td>$1 B</td>\n",
              "      <td>82</td>\n",
              "      <td>Philippines</td>\n",
              "      <td>apparel</td>\n",
              "      <td>Fashion &amp; Retail</td>\n",
              "    </tr>\n",
              "    <tr>\n",
              "      <th>2597</th>\n",
              "      <td>2597</td>\n",
              "      <td>2578</td>\n",
              "      <td>Ramesh Genomal</td>\n",
              "      <td>$1 B</td>\n",
              "      <td>71</td>\n",
              "      <td>Philippines</td>\n",
              "      <td>apparel</td>\n",
              "      <td>Fashion &amp; Retail</td>\n",
              "    </tr>\n",
              "    <tr>\n",
              "      <th>2598</th>\n",
              "      <td>2598</td>\n",
              "      <td>2578</td>\n",
              "      <td>Sunder Genomal</td>\n",
              "      <td>$1 B</td>\n",
              "      <td>68</td>\n",
              "      <td>Philippines</td>\n",
              "      <td>garments</td>\n",
              "      <td>Fashion &amp; Retail</td>\n",
              "    </tr>\n",
              "    <tr>\n",
              "      <th>2599</th>\n",
              "      <td>2599</td>\n",
              "      <td>2578</td>\n",
              "      <td>Horst-Otto Gerberding</td>\n",
              "      <td>$1 B</td>\n",
              "      <td>69</td>\n",
              "      <td>Germany</td>\n",
              "      <td>flavors and fragrances</td>\n",
              "      <td>Food &amp; Beverage</td>\n",
              "    </tr>\n",
              "  </tbody>\n",
              "</table>\n",
              "<p>2600 rows × 8 columns</p>\n",
              "</div>"
            ],
            "text/plain": [
              "      Unnamed: 0  rank                       name networth  age  \\\n",
              "0              0     1                 Elon Musk    $219 B   50   \n",
              "1              1     2                Jeff Bezos    $171 B   58   \n",
              "2              2     3  Bernard Arnault & family    $158 B   73   \n",
              "3              3     4                Bill Gates    $129 B   66   \n",
              "4              4     5            Warren Buffett    $118 B   91   \n",
              "...          ...   ...                        ...      ...  ...   \n",
              "2595        2595  2578    Jorge Gallardo Ballart      $1 B   80   \n",
              "2596        2596  2578              Nari Genomal      $1 B   82   \n",
              "2597        2597  2578            Ramesh Genomal      $1 B   71   \n",
              "2598        2598  2578            Sunder Genomal      $1 B   68   \n",
              "2599        2599  2578     Horst-Otto Gerberding      $1 B   69   \n",
              "\n",
              "            country                  source                industry  \n",
              "0     United States           Tesla, SpaceX             Automotive   \n",
              "1     United States                  Amazon             Technology   \n",
              "2            France                    LVMH       Fashion & Retail   \n",
              "3     United States               Microsoft             Technology   \n",
              "4     United States      Berkshire Hathaway  Finance & Investments   \n",
              "...             ...                     ...                     ...  \n",
              "2595          Spain         pharmaceuticals             Healthcare   \n",
              "2596    Philippines                 apparel       Fashion & Retail   \n",
              "2597    Philippines                 apparel       Fashion & Retail   \n",
              "2598    Philippines                garments       Fashion & Retail   \n",
              "2599        Germany  flavors and fragrances        Food & Beverage   \n",
              "\n",
              "[2600 rows x 8 columns]"
            ]
          },
          "execution_count": 2,
          "metadata": {},
          "output_type": "execute_result"
        }
      ],
      "source": [
        "%pip install gdown\n",
        "import gdown\n",
        "\n",
        "def download_from_gdrive(file_id, output_name):\n",
        "    url = f'https://drive.google.com/uc?id={file_id}'\n",
        "    gdown.download(url, output_name, quiet=False)\n",
        "    \n",
        "forbes_id = '1M87zZudeEPAPQ-47_Tg-cFpUikrGH9eX'\n",
        "forbes_output = '2022_forbes_billionaires.csv'\n",
        "download_from_gdrive(forbes_id, forbes_output)\n",
        "\n",
        "forbes = pd.read_csv('2022_forbes_billionaires.csv')\n",
        "forbes"
      ]
    },
    {
      "cell_type": "markdown",
      "metadata": {
        "id": "745zRJ8agunC"
      },
      "source": [
        "#### 2. Inspect Data"
      ]
    },
    {
      "cell_type": "code",
      "execution_count": 3,
      "metadata": {
        "colab": {
          "base_uri": "https://localhost:8080/"
        },
        "id": "aOl8fsH6W51W",
        "outputId": "69466bb9-7c30-4b06-90b2-7c5f8ec05444"
      },
      "outputs": [
        {
          "data": {
            "text/plain": [
              "0       False\n",
              "1       False\n",
              "2       False\n",
              "3       False\n",
              "4       False\n",
              "        ...  \n",
              "2595    False\n",
              "2596    False\n",
              "2597    False\n",
              "2598    False\n",
              "2599    False\n",
              "Length: 2600, dtype: bool"
            ]
          },
          "execution_count": 3,
          "metadata": {},
          "output_type": "execute_result"
        }
      ],
      "source": [
        "forbes.duplicated() #If True, means duplicate"
      ]
    },
    {
      "cell_type": "code",
      "execution_count": 4,
      "metadata": {
        "colab": {
          "base_uri": "https://localhost:8080/"
        },
        "id": "SFQOa_IwW8m-",
        "outputId": "d830e4b8-0542-4b1c-cad5-a4302c405dc3"
      },
      "outputs": [
        {
          "data": {
            "text/plain": [
              "0"
            ]
          },
          "execution_count": 4,
          "metadata": {},
          "output_type": "execute_result"
        }
      ],
      "source": [
        "forbes.duplicated().sum()"
      ]
    },
    {
      "cell_type": "code",
      "execution_count": 5,
      "metadata": {
        "colab": {
          "base_uri": "https://localhost:8080/"
        },
        "id": "BYiWkQ46XEb5",
        "outputId": "294dd423-903f-4cf7-db4c-ffdcff3e8166"
      },
      "outputs": [
        {
          "data": {
            "text/plain": [
              "Unnamed: 0    0\n",
              "rank          0\n",
              "name          0\n",
              "networth      0\n",
              "age           0\n",
              "country       0\n",
              "source        0\n",
              "industry      0\n",
              "dtype: int64"
            ]
          },
          "execution_count": 5,
          "metadata": {},
          "output_type": "execute_result"
        }
      ],
      "source": [
        "forbes.isnull().sum()"
      ]
    },
    {
      "cell_type": "code",
      "execution_count": 6,
      "metadata": {
        "id": "nsRhAbMEalv8"
      },
      "outputs": [],
      "source": [
        "#if has null value\n",
        "#forbes.dropna()"
      ]
    },
    {
      "cell_type": "code",
      "execution_count": 7,
      "metadata": {
        "colab": {
          "base_uri": "https://localhost:8080/"
        },
        "id": "-SKw9TcOXIAr",
        "outputId": "49659bee-b129-43a1-f89a-d9c81a062f0e"
      },
      "outputs": [
        {
          "name": "stdout",
          "output_type": "stream",
          "text": [
            "<class 'pandas.core.frame.DataFrame'>\n",
            "RangeIndex: 2600 entries, 0 to 2599\n",
            "Data columns (total 8 columns):\n",
            " #   Column      Non-Null Count  Dtype \n",
            "---  ------      --------------  ----- \n",
            " 0   Unnamed: 0  2600 non-null   int64 \n",
            " 1   rank        2600 non-null   int64 \n",
            " 2   name        2600 non-null   object\n",
            " 3   networth    2600 non-null   object\n",
            " 4   age         2600 non-null   int64 \n",
            " 5   country     2600 non-null   object\n",
            " 6   source      2600 non-null   object\n",
            " 7   industry    2600 non-null   object\n",
            "dtypes: int64(3), object(5)\n",
            "memory usage: 162.6+ KB\n"
          ]
        }
      ],
      "source": [
        "#Check data type, see if the type makes sense\n",
        "forbes.info()"
      ]
    },
    {
      "cell_type": "markdown",
      "metadata": {
        "id": "D_s1D22ig4S_"
      },
      "source": [
        "#### 3. Clean Data"
      ]
    },
    {
      "cell_type": "code",
      "execution_count": 8,
      "metadata": {
        "colab": {
          "base_uri": "https://localhost:8080/"
        },
        "id": "gUh5_VK9XjQt",
        "outputId": "603efde5-7299-481b-c8d0-95a214a296ec"
      },
      "outputs": [
        {
          "name": "stderr",
          "output_type": "stream",
          "text": [
            "<>:10: SyntaxWarning: invalid escape sequence '\\$'\n",
            "<>:10: SyntaxWarning: invalid escape sequence '\\$'\n",
            "C:\\Users\\shani\\AppData\\Local\\Temp\\ipykernel_4464\\87173152.py:10: SyntaxWarning: invalid escape sequence '\\$'\n",
            "  '''\n"
          ]
        }
      ],
      "source": [
        "#Dtype is object indicates a generic type that can represent any Python object, including string, numbers..\n",
        "#for a dataframe in pandas, it usually represents string\n",
        "\n",
        "#Replace the $ and B with empty string\n",
        "#str.replace(oldvalue,newvalue,count)\n",
        "forbes['networth'] = forbes['networth'].str.replace('$','')\n",
        "forbes['networth'] = forbes['networth'].str.replace('B','')\n",
        "\n",
        "#OR\n",
        "'''\n",
        "\"\\$(\\d+).*\" - is a regex string that is pattern to find its mathing text\n",
        "\n",
        "Each character has its own Expression. Eg: '\\d' is a expression for any digit , '+' is to find one or more  , '.' is any single character\n",
        "\n",
        "\"https://regex101.com/\" , you can use this site to test out regular expression as well as more information\n",
        "\n",
        "'''\n",
        "#forbes['networth'] = forbes['networth'].str.extract(r'\\$(\\d+).*')\n",
        "\n",
        "#Change type to numeric\n",
        "forbes['networth'] = pd.to_numeric(forbes['networth'])\n",
        "#OR forbes['networth'] = forbes['networth'].apply(pd.to_numeric)"
      ]
    },
    {
      "cell_type": "markdown",
      "metadata": {
        "id": "S98esECag_5s"
      },
      "source": [
        "#### 4. Explore Data"
      ]
    },
    {
      "cell_type": "code",
      "execution_count": 9,
      "metadata": {
        "colab": {
          "base_uri": "https://localhost:8080/",
          "height": 206
        },
        "id": "E18asV1vYI9d",
        "outputId": "8bf8acff-3362-468f-ee1f-d889fe26405c"
      },
      "outputs": [
        {
          "data": {
            "text/html": [
              "<div>\n",
              "<style scoped>\n",
              "    .dataframe tbody tr th:only-of-type {\n",
              "        vertical-align: middle;\n",
              "    }\n",
              "\n",
              "    .dataframe tbody tr th {\n",
              "        vertical-align: top;\n",
              "    }\n",
              "\n",
              "    .dataframe thead th {\n",
              "        text-align: right;\n",
              "    }\n",
              "</style>\n",
              "<table border=\"1\" class=\"dataframe\">\n",
              "  <thead>\n",
              "    <tr style=\"text-align: right;\">\n",
              "      <th></th>\n",
              "      <th>Unnamed: 0</th>\n",
              "      <th>rank</th>\n",
              "      <th>name</th>\n",
              "      <th>networth</th>\n",
              "      <th>age</th>\n",
              "      <th>country</th>\n",
              "      <th>source</th>\n",
              "      <th>industry</th>\n",
              "    </tr>\n",
              "  </thead>\n",
              "  <tbody>\n",
              "    <tr>\n",
              "      <th>0</th>\n",
              "      <td>0</td>\n",
              "      <td>1</td>\n",
              "      <td>Elon Musk</td>\n",
              "      <td>219.0</td>\n",
              "      <td>50</td>\n",
              "      <td>United States</td>\n",
              "      <td>Tesla, SpaceX</td>\n",
              "      <td>Automotive</td>\n",
              "    </tr>\n",
              "    <tr>\n",
              "      <th>1</th>\n",
              "      <td>1</td>\n",
              "      <td>2</td>\n",
              "      <td>Jeff Bezos</td>\n",
              "      <td>171.0</td>\n",
              "      <td>58</td>\n",
              "      <td>United States</td>\n",
              "      <td>Amazon</td>\n",
              "      <td>Technology</td>\n",
              "    </tr>\n",
              "    <tr>\n",
              "      <th>2</th>\n",
              "      <td>2</td>\n",
              "      <td>3</td>\n",
              "      <td>Bernard Arnault &amp; family</td>\n",
              "      <td>158.0</td>\n",
              "      <td>73</td>\n",
              "      <td>France</td>\n",
              "      <td>LVMH</td>\n",
              "      <td>Fashion &amp; Retail</td>\n",
              "    </tr>\n",
              "    <tr>\n",
              "      <th>3</th>\n",
              "      <td>3</td>\n",
              "      <td>4</td>\n",
              "      <td>Bill Gates</td>\n",
              "      <td>129.0</td>\n",
              "      <td>66</td>\n",
              "      <td>United States</td>\n",
              "      <td>Microsoft</td>\n",
              "      <td>Technology</td>\n",
              "    </tr>\n",
              "    <tr>\n",
              "      <th>4</th>\n",
              "      <td>4</td>\n",
              "      <td>5</td>\n",
              "      <td>Warren Buffett</td>\n",
              "      <td>118.0</td>\n",
              "      <td>91</td>\n",
              "      <td>United States</td>\n",
              "      <td>Berkshire Hathaway</td>\n",
              "      <td>Finance &amp; Investments</td>\n",
              "    </tr>\n",
              "  </tbody>\n",
              "</table>\n",
              "</div>"
            ],
            "text/plain": [
              "   Unnamed: 0  rank                       name  networth  age        country  \\\n",
              "0           0     1                 Elon Musk      219.0   50  United States   \n",
              "1           1     2                Jeff Bezos      171.0   58  United States   \n",
              "2           2     3  Bernard Arnault & family      158.0   73         France   \n",
              "3           3     4                Bill Gates      129.0   66  United States   \n",
              "4           4     5            Warren Buffett      118.0   91  United States   \n",
              "\n",
              "               source                industry  \n",
              "0       Tesla, SpaceX             Automotive   \n",
              "1              Amazon             Technology   \n",
              "2                LVMH       Fashion & Retail   \n",
              "3           Microsoft             Technology   \n",
              "4  Berkshire Hathaway  Finance & Investments   "
            ]
          },
          "execution_count": 9,
          "metadata": {},
          "output_type": "execute_result"
        }
      ],
      "source": [
        "forbes.head()"
      ]
    },
    {
      "cell_type": "code",
      "execution_count": 10,
      "metadata": {
        "colab": {
          "base_uri": "https://localhost:8080/"
        },
        "id": "vyPuURZZYcAr",
        "outputId": "947eabd3-3834-4724-917d-6b11aa9eb806"
      },
      "outputs": [
        {
          "data": {
            "text/plain": [
              "industry\n",
              "Automotive                      69\n",
              "Construction & Engineering      43\n",
              "Diversified                    178\n",
              "Energy                          93\n",
              "Fashion & Retail               246\n",
              "Finance & Investments          386\n",
              "Food & Beverage                201\n",
              "Gambling & Casinos              23\n",
              "Healthcare                     212\n",
              "Logistics                       35\n",
              "Manufacturing                  322\n",
              "Media & Entertainment           95\n",
              "Metals & Mining                 67\n",
              "Real Estate                    189\n",
              "Service                         51\n",
              "Sports                          26\n",
              "Technology                     329\n",
              "Telecom                         35\n",
              "Name: count, dtype: int64"
            ]
          },
          "execution_count": 10,
          "metadata": {},
          "output_type": "execute_result"
        }
      ],
      "source": [
        "# Finding the industry with the highest number of billionaires\n",
        "#value_counts() counts the frequency of unique values in specific columns of a dataframe\n",
        "forbes['industry'].value_counts().sort_index()"
      ]
    },
    {
      "cell_type": "code",
      "execution_count": 11,
      "metadata": {
        "colab": {
          "base_uri": "https://localhost:8080/"
        },
        "id": "bBm50NQtYznW",
        "outputId": "d64deb66-1be0-4da3-f788-d71ba2c0e633"
      },
      "outputs": [
        {
          "data": {
            "text/plain": [
              "industry\n",
              "Finance & Investments     386\n",
              "Technology                329\n",
              "Manufacturing             322\n",
              "Fashion & Retail          246\n",
              "Healthcare                212\n",
              "Name: count, dtype: int64"
            ]
          },
          "execution_count": 11,
          "metadata": {},
          "output_type": "execute_result"
        }
      ],
      "source": [
        "# To display the top 5 industries with the most number of billionaires\n",
        "forbes['industry'].value_counts()[:5]"
      ]
    },
    {
      "cell_type": "code",
      "execution_count": 12,
      "metadata": {
        "colab": {
          "base_uri": "https://localhost:8080/",
          "height": 612
        },
        "id": "KayBfo93ZFtY",
        "outputId": "5756324d-41d1-4bfd-804a-9b2d209f3bfc"
      },
      "outputs": [
        {
          "data": {
            "image/png": "[encoded data removed]",
            "text/plain": [
              "<Figure size 640x480 with 1 Axes>"
            ]
          },
          "metadata": {},
          "output_type": "display_data"
        }
      ],
      "source": [
        "# show the number of billionaires in each industry with bar chart\n",
        "forbes['industry'].value_counts().plot(kind = 'bar')\n",
        "\n",
        "plt.show()"
      ]
    },
    {
      "cell_type": "code",
      "execution_count": 13,
      "metadata": {
        "colab": {
          "base_uri": "https://localhost:8080/",
          "height": 430
        },
        "id": "VE2oxd_wZmlN",
        "outputId": "622f495f-c776-47a2-b791-edbad9013769"
      },
      "outputs": [
        {
          "data": {
            "image/png": "[encoded data removed]",
            "text/plain": [
              "<Figure size 640x480 with 1 Axes>"
            ]
          },
          "metadata": {},
          "output_type": "display_data"
        }
      ],
      "source": [
        "forbes['industry'].value_counts().plot(kind = 'barh') #Horizontal bar\n",
        "plt.show()"
      ]
    },
    {
      "cell_type": "code",
      "execution_count": 14,
      "metadata": {
        "colab": {
          "base_uri": "https://localhost:8080/",
          "height": 430
        },
        "id": "4YT9BwjKZsl6",
        "outputId": "4fe5c872-756b-4a67-9156-85d635366f62"
      },
      "outputs": [
        {
          "data": {
            "image/png": "[encoded data removed]",
            "text/plain": [
              "<Figure size 640x480 with 1 Axes>"
            ]
          },
          "metadata": {},
          "output_type": "display_data"
        }
      ],
      "source": [
        "forbes['industry'].value_counts()[:5].plot(kind = 'barh')\n",
        "plt.show()"
      ]
    },
    {
      "cell_type": "code",
      "execution_count": 15,
      "metadata": {
        "colab": {
          "base_uri": "https://localhost:8080/"
        },
        "id": "CTO16LAqZ0m4",
        "outputId": "e97f997d-75ff-4a23-9698-c3ce4a4ec802"
      },
      "outputs": [
        {
          "data": {
            "text/plain": [
              "country\n",
              "United States           719\n",
              "China                   515\n",
              "India                   161\n",
              "Germany                 130\n",
              "Russia                   81\n",
              "                       ... \n",
              "Venezuela                 1\n",
              "Portugal                  1\n",
              "Algeria                   1\n",
              "Eswatini (Swaziland)      1\n",
              "Estonia                   1\n",
              "Name: count, Length: 75, dtype: int64"
            ]
          },
          "execution_count": 15,
          "metadata": {},
          "output_type": "execute_result"
        }
      ],
      "source": [
        "# Finding the country with the highest number of billionaires\n",
        "\n",
        "forbes['country'].value_counts()"
      ]
    },
    {
      "cell_type": "code",
      "execution_count": 16,
      "metadata": {
        "colab": {
          "base_uri": "https://localhost:8080/"
        },
        "id": "MIGWloAgaLER",
        "outputId": "3d2bdf66-2150-4fd7-fb32-6889217157a7"
      },
      "outputs": [
        {
          "data": {
            "text/plain": [
              "country\n",
              "United States    719\n",
              "China            515\n",
              "India            161\n",
              "Name: count, dtype: int64"
            ]
          },
          "execution_count": 16,
          "metadata": {},
          "output_type": "execute_result"
        }
      ],
      "source": [
        "#display the top 3 countries with the most billionaries\n",
        "forbes['country'].value_counts()[0:3]"
      ]
    },
    {
      "cell_type": "code",
      "execution_count": 17,
      "metadata": {
        "colab": {
          "base_uri": "https://localhost:8080/",
          "height": 510
        },
        "id": "XIRJ_YBAagjW",
        "outputId": "4a2da69b-085c-4c5b-ac7c-a1dfcd9880c7"
      },
      "outputs": [
        {
          "data": {
            "image/png": "[encoded data removed]",
            "text/plain": [
              "<Figure size 640x480 with 1 Axes>"
            ]
          },
          "metadata": {},
          "output_type": "display_data"
        }
      ],
      "source": [
        "forbes['country'].value_counts()[0:5].plot(kind = 'bar')\n",
        "\n",
        "plt.show()"
      ]
    },
    {
      "cell_type": "code",
      "execution_count": 18,
      "metadata": {
        "colab": {
          "base_uri": "https://localhost:8080/",
          "height": 676
        },
        "id": "tnojr-qBbMF_",
        "outputId": "741a93b0-e9ef-41f1-d071-1e6c2e28ca42"
      },
      "outputs": [
        {
          "data": {
            "text/html": [
              "<div>\n",
              "<style scoped>\n",
              "    .dataframe tbody tr th:only-of-type {\n",
              "        vertical-align: middle;\n",
              "    }\n",
              "\n",
              "    .dataframe tbody tr th {\n",
              "        vertical-align: top;\n",
              "    }\n",
              "\n",
              "    .dataframe thead th {\n",
              "        text-align: right;\n",
              "    }\n",
              "</style>\n",
              "<table border=\"1\" class=\"dataframe\">\n",
              "  <thead>\n",
              "    <tr style=\"text-align: right;\">\n",
              "      <th></th>\n",
              "      <th>Unnamed: 0</th>\n",
              "      <th>rank</th>\n",
              "      <th>name</th>\n",
              "      <th>networth</th>\n",
              "      <th>age</th>\n",
              "      <th>country</th>\n",
              "      <th>source</th>\n",
              "      <th>industry</th>\n",
              "    </tr>\n",
              "  </thead>\n",
              "  <tbody>\n",
              "    <tr>\n",
              "      <th>0</th>\n",
              "      <td>0</td>\n",
              "      <td>1</td>\n",
              "      <td>Elon Musk</td>\n",
              "      <td>219.0</td>\n",
              "      <td>50</td>\n",
              "      <td>United States</td>\n",
              "      <td>Tesla, SpaceX</td>\n",
              "      <td>Automotive</td>\n",
              "    </tr>\n",
              "    <tr>\n",
              "      <th>1</th>\n",
              "      <td>1</td>\n",
              "      <td>2</td>\n",
              "      <td>Jeff Bezos</td>\n",
              "      <td>171.0</td>\n",
              "      <td>58</td>\n",
              "      <td>United States</td>\n",
              "      <td>Amazon</td>\n",
              "      <td>Technology</td>\n",
              "    </tr>\n",
              "    <tr>\n",
              "      <th>2</th>\n",
              "      <td>2</td>\n",
              "      <td>3</td>\n",
              "      <td>Bernard Arnault &amp; family</td>\n",
              "      <td>158.0</td>\n",
              "      <td>73</td>\n",
              "      <td>France</td>\n",
              "      <td>LVMH</td>\n",
              "      <td>Fashion &amp; Retail</td>\n",
              "    </tr>\n",
              "    <tr>\n",
              "      <th>3</th>\n",
              "      <td>3</td>\n",
              "      <td>4</td>\n",
              "      <td>Bill Gates</td>\n",
              "      <td>129.0</td>\n",
              "      <td>66</td>\n",
              "      <td>United States</td>\n",
              "      <td>Microsoft</td>\n",
              "      <td>Technology</td>\n",
              "    </tr>\n",
              "    <tr>\n",
              "      <th>4</th>\n",
              "      <td>4</td>\n",
              "      <td>5</td>\n",
              "      <td>Warren Buffett</td>\n",
              "      <td>118.0</td>\n",
              "      <td>91</td>\n",
              "      <td>United States</td>\n",
              "      <td>Berkshire Hathaway</td>\n",
              "      <td>Finance &amp; Investments</td>\n",
              "    </tr>\n",
              "    <tr>\n",
              "      <th>5</th>\n",
              "      <td>5</td>\n",
              "      <td>6</td>\n",
              "      <td>Larry Page</td>\n",
              "      <td>111.0</td>\n",
              "      <td>49</td>\n",
              "      <td>United States</td>\n",
              "      <td>Google</td>\n",
              "      <td>Technology</td>\n",
              "    </tr>\n",
              "    <tr>\n",
              "      <th>6</th>\n",
              "      <td>6</td>\n",
              "      <td>7</td>\n",
              "      <td>Sergey Brin</td>\n",
              "      <td>107.0</td>\n",
              "      <td>48</td>\n",
              "      <td>United States</td>\n",
              "      <td>Google</td>\n",
              "      <td>Technology</td>\n",
              "    </tr>\n",
              "    <tr>\n",
              "      <th>7</th>\n",
              "      <td>7</td>\n",
              "      <td>8</td>\n",
              "      <td>Larry Ellison</td>\n",
              "      <td>106.0</td>\n",
              "      <td>77</td>\n",
              "      <td>United States</td>\n",
              "      <td>software</td>\n",
              "      <td>Technology</td>\n",
              "    </tr>\n",
              "    <tr>\n",
              "      <th>8</th>\n",
              "      <td>8</td>\n",
              "      <td>9</td>\n",
              "      <td>Steve Ballmer</td>\n",
              "      <td>91.4</td>\n",
              "      <td>66</td>\n",
              "      <td>United States</td>\n",
              "      <td>Microsoft</td>\n",
              "      <td>Technology</td>\n",
              "    </tr>\n",
              "    <tr>\n",
              "      <th>9</th>\n",
              "      <td>9</td>\n",
              "      <td>10</td>\n",
              "      <td>Mukesh Ambani</td>\n",
              "      <td>90.7</td>\n",
              "      <td>64</td>\n",
              "      <td>India</td>\n",
              "      <td>diversified</td>\n",
              "      <td>Diversified</td>\n",
              "    </tr>\n",
              "    <tr>\n",
              "      <th>10</th>\n",
              "      <td>10</td>\n",
              "      <td>11</td>\n",
              "      <td>Gautam Adani &amp; family</td>\n",
              "      <td>90.0</td>\n",
              "      <td>59</td>\n",
              "      <td>India</td>\n",
              "      <td>infrastructure, commodities</td>\n",
              "      <td>Diversified</td>\n",
              "    </tr>\n",
              "    <tr>\n",
              "      <th>11</th>\n",
              "      <td>11</td>\n",
              "      <td>12</td>\n",
              "      <td>Michael Bloomberg</td>\n",
              "      <td>82.0</td>\n",
              "      <td>80</td>\n",
              "      <td>United States</td>\n",
              "      <td>Bloomberg LP</td>\n",
              "      <td>Media &amp; Entertainment</td>\n",
              "    </tr>\n",
              "    <tr>\n",
              "      <th>12</th>\n",
              "      <td>12</td>\n",
              "      <td>13</td>\n",
              "      <td>Carlos Slim Helu &amp; family</td>\n",
              "      <td>81.2</td>\n",
              "      <td>82</td>\n",
              "      <td>Mexico</td>\n",
              "      <td>telecom</td>\n",
              "      <td>Telecom</td>\n",
              "    </tr>\n",
              "    <tr>\n",
              "      <th>13</th>\n",
              "      <td>13</td>\n",
              "      <td>14</td>\n",
              "      <td>Francoise Bettencourt Meyers &amp; family</td>\n",
              "      <td>74.8</td>\n",
              "      <td>68</td>\n",
              "      <td>France</td>\n",
              "      <td>L'Oréal</td>\n",
              "      <td>Fashion &amp; Retail</td>\n",
              "    </tr>\n",
              "    <tr>\n",
              "      <th>14</th>\n",
              "      <td>14</td>\n",
              "      <td>15</td>\n",
              "      <td>Mark Zuckerberg</td>\n",
              "      <td>67.3</td>\n",
              "      <td>37</td>\n",
              "      <td>United States</td>\n",
              "      <td>Facebook</td>\n",
              "      <td>Technology</td>\n",
              "    </tr>\n",
              "    <tr>\n",
              "      <th>15</th>\n",
              "      <td>15</td>\n",
              "      <td>16</td>\n",
              "      <td>Jim Walton</td>\n",
              "      <td>66.2</td>\n",
              "      <td>73</td>\n",
              "      <td>United States</td>\n",
              "      <td>Walmart</td>\n",
              "      <td>Fashion &amp; Retail</td>\n",
              "    </tr>\n",
              "    <tr>\n",
              "      <th>16</th>\n",
              "      <td>16</td>\n",
              "      <td>17</td>\n",
              "      <td>Zhong Shanshan</td>\n",
              "      <td>65.7</td>\n",
              "      <td>67</td>\n",
              "      <td>China</td>\n",
              "      <td>beverages, pharmaceuticals</td>\n",
              "      <td>Food &amp; Beverage</td>\n",
              "    </tr>\n",
              "    <tr>\n",
              "      <th>17</th>\n",
              "      <td>17</td>\n",
              "      <td>18</td>\n",
              "      <td>Alice Walton</td>\n",
              "      <td>65.3</td>\n",
              "      <td>72</td>\n",
              "      <td>United States</td>\n",
              "      <td>Walmart</td>\n",
              "      <td>Fashion &amp; Retail</td>\n",
              "    </tr>\n",
              "    <tr>\n",
              "      <th>18</th>\n",
              "      <td>18</td>\n",
              "      <td>19</td>\n",
              "      <td>Rob Walton</td>\n",
              "      <td>65.0</td>\n",
              "      <td>77</td>\n",
              "      <td>United States</td>\n",
              "      <td>Walmart</td>\n",
              "      <td>Fashion &amp; Retail</td>\n",
              "    </tr>\n",
              "    <tr>\n",
              "      <th>19</th>\n",
              "      <td>19</td>\n",
              "      <td>19</td>\n",
              "      <td>Changpeng Zhao</td>\n",
              "      <td>65.0</td>\n",
              "      <td>44</td>\n",
              "      <td>Canada</td>\n",
              "      <td>cryptocurrency exchange</td>\n",
              "      <td>Finance &amp; Investments</td>\n",
              "    </tr>\n",
              "    <tr>\n",
              "      <th>20</th>\n",
              "      <td>20</td>\n",
              "      <td>21</td>\n",
              "      <td>Charles Koch</td>\n",
              "      <td>60.0</td>\n",
              "      <td>86</td>\n",
              "      <td>United States</td>\n",
              "      <td>Koch Industries</td>\n",
              "      <td>Diversified</td>\n",
              "    </tr>\n",
              "    <tr>\n",
              "      <th>21</th>\n",
              "      <td>21</td>\n",
              "      <td>21</td>\n",
              "      <td>Julia Koch &amp; family</td>\n",
              "      <td>60.0</td>\n",
              "      <td>59</td>\n",
              "      <td>United States</td>\n",
              "      <td>Koch Industries</td>\n",
              "      <td>Diversified</td>\n",
              "    </tr>\n",
              "  </tbody>\n",
              "</table>\n",
              "</div>"
            ],
            "text/plain": [
              "    Unnamed: 0  rank                                    name  networth  age  \\\n",
              "0            0     1                              Elon Musk      219.0   50   \n",
              "1            1     2                             Jeff Bezos      171.0   58   \n",
              "2            2     3               Bernard Arnault & family      158.0   73   \n",
              "3            3     4                             Bill Gates      129.0   66   \n",
              "4            4     5                         Warren Buffett      118.0   91   \n",
              "5            5     6                             Larry Page      111.0   49   \n",
              "6            6     7                            Sergey Brin      107.0   48   \n",
              "7            7     8                          Larry Ellison      106.0   77   \n",
              "8            8     9                          Steve Ballmer       91.4   66   \n",
              "9            9    10                          Mukesh Ambani       90.7   64   \n",
              "10          10    11                  Gautam Adani & family       90.0   59   \n",
              "11          11    12                      Michael Bloomberg       82.0   80   \n",
              "12          12    13              Carlos Slim Helu & family       81.2   82   \n",
              "13          13    14  Francoise Bettencourt Meyers & family       74.8   68   \n",
              "14          14    15                        Mark Zuckerberg       67.3   37   \n",
              "15          15    16                             Jim Walton       66.2   73   \n",
              "16          16    17                         Zhong Shanshan       65.7   67   \n",
              "17          17    18                           Alice Walton       65.3   72   \n",
              "18          18    19                             Rob Walton       65.0   77   \n",
              "19          19    19                         Changpeng Zhao       65.0   44   \n",
              "20          20    21                           Charles Koch       60.0   86   \n",
              "21          21    21                    Julia Koch & family       60.0   59   \n",
              "\n",
              "          country                       source                industry  \n",
              "0   United States                Tesla, SpaceX             Automotive   \n",
              "1   United States                       Amazon             Technology   \n",
              "2          France                         LVMH       Fashion & Retail   \n",
              "3   United States                    Microsoft             Technology   \n",
              "4   United States           Berkshire Hathaway  Finance & Investments   \n",
              "5   United States                       Google             Technology   \n",
              "6   United States                       Google             Technology   \n",
              "7   United States                     software             Technology   \n",
              "8   United States                    Microsoft             Technology   \n",
              "9           India                  diversified            Diversified   \n",
              "10          India  infrastructure, commodities            Diversified   \n",
              "11  United States                 Bloomberg LP  Media & Entertainment   \n",
              "12         Mexico                      telecom                Telecom   \n",
              "13         France                      L'Oréal       Fashion & Retail   \n",
              "14  United States                     Facebook             Technology   \n",
              "15  United States                      Walmart       Fashion & Retail   \n",
              "16          China   beverages, pharmaceuticals        Food & Beverage   \n",
              "17  United States                      Walmart       Fashion & Retail   \n",
              "18  United States                      Walmart       Fashion & Retail   \n",
              "19         Canada      cryptocurrency exchange  Finance & Investments   \n",
              "20  United States              Koch Industries            Diversified   \n",
              "21  United States              Koch Industries            Diversified   "
            ]
          },
          "execution_count": 18,
          "metadata": {},
          "output_type": "execute_result"
        }
      ],
      "source": [
        "# Find the billionaires with networth more than 60 billion dollars\n",
        "#To filter a dataframe base on a condition, we need to use dataframe[condition] where the condition is a boolean expression\n",
        "#condition=forbes['networth']>=60,True-more than or equal 60, False-less than 60\n",
        "forbes[forbes['networth'] >= 60]\n",
        "\n",
        "# OR\n",
        "\n",
        "forbes.query('networth >= 60 ')"
      ]
    },
    {
      "cell_type": "markdown",
      "metadata": {},
      "source": [
        "# Find the top 5 youngest billionaires"
      ]
    },
    {
      "cell_type": "code",
      "execution_count": 19,
      "metadata": {
        "colab": {
          "base_uri": "https://localhost:8080/"
        },
        "id": "K0daHMcucdip",
        "outputId": "75b15ed4-51df-4a4c-e134-19f91bedde15"
      },
      "outputs": [
        {
          "data": {
            "text/html": [
              "<div>\n",
              "<style scoped>\n",
              "    .dataframe tbody tr th:only-of-type {\n",
              "        vertical-align: middle;\n",
              "    }\n",
              "\n",
              "    .dataframe tbody tr th {\n",
              "        vertical-align: top;\n",
              "    }\n",
              "\n",
              "    .dataframe thead th {\n",
              "        text-align: right;\n",
              "    }\n",
              "</style>\n",
              "<table border=\"1\" class=\"dataframe\">\n",
              "  <thead>\n",
              "    <tr style=\"text-align: right;\">\n",
              "      <th></th>\n",
              "      <th>Unnamed: 0</th>\n",
              "      <th>rank</th>\n",
              "      <th>name</th>\n",
              "      <th>networth</th>\n",
              "      <th>age</th>\n",
              "      <th>country</th>\n",
              "      <th>source</th>\n",
              "      <th>industry</th>\n",
              "    </tr>\n",
              "  </thead>\n",
              "  <tbody>\n",
              "    <tr>\n",
              "      <th>1311</th>\n",
              "      <td>1311</td>\n",
              "      <td>1292</td>\n",
              "      <td>Kevin David Lehmann</td>\n",
              "      <td>2.4</td>\n",
              "      <td>19</td>\n",
              "      <td>Germany</td>\n",
              "      <td>drugstores</td>\n",
              "      <td>Fashion &amp; Retail</td>\n",
              "    </tr>\n",
              "    <tr>\n",
              "      <th>2062</th>\n",
              "      <td>2062</td>\n",
              "      <td>1929</td>\n",
              "      <td>Wang Zelong</td>\n",
              "      <td>1.5</td>\n",
              "      <td>25</td>\n",
              "      <td>China</td>\n",
              "      <td>chemicals</td>\n",
              "      <td>Metals &amp; Mining</td>\n",
              "    </tr>\n",
              "    <tr>\n",
              "      <th>1975</th>\n",
              "      <td>1975</td>\n",
              "      <td>1929</td>\n",
              "      <td>Pedro Franceschi</td>\n",
              "      <td>1.5</td>\n",
              "      <td>25</td>\n",
              "      <td>Brazil</td>\n",
              "      <td>fintech</td>\n",
              "      <td>Finance &amp; Investments</td>\n",
              "    </tr>\n",
              "    <tr>\n",
              "      <th>2190</th>\n",
              "      <td>2190</td>\n",
              "      <td>2190</td>\n",
              "      <td>Alexandra Andresen</td>\n",
              "      <td>1.3</td>\n",
              "      <td>25</td>\n",
              "      <td>Norway</td>\n",
              "      <td>investments</td>\n",
              "      <td>Diversified</td>\n",
              "    </tr>\n",
              "    <tr>\n",
              "      <th>1961</th>\n",
              "      <td>1961</td>\n",
              "      <td>1929</td>\n",
              "      <td>Henrique Dubugras</td>\n",
              "      <td>1.5</td>\n",
              "      <td>26</td>\n",
              "      <td>Brazil</td>\n",
              "      <td>fintech</td>\n",
              "      <td>Finance &amp; Investments</td>\n",
              "    </tr>\n",
              "    <tr>\n",
              "      <th>...</th>\n",
              "      <td>...</td>\n",
              "      <td>...</td>\n",
              "      <td>...</td>\n",
              "      <td>...</td>\n",
              "      <td>...</td>\n",
              "      <td>...</td>\n",
              "      <td>...</td>\n",
              "      <td>...</td>\n",
              "    </tr>\n",
              "    <tr>\n",
              "      <th>1939</th>\n",
              "      <td>1939</td>\n",
              "      <td>1929</td>\n",
              "      <td>Ana Maria Brescia Cafferata</td>\n",
              "      <td>1.5</td>\n",
              "      <td>97</td>\n",
              "      <td>Peru</td>\n",
              "      <td>mining, banking</td>\n",
              "      <td>Diversified</td>\n",
              "    </tr>\n",
              "    <tr>\n",
              "      <th>1273</th>\n",
              "      <td>1273</td>\n",
              "      <td>1238</td>\n",
              "      <td>Charles Munger</td>\n",
              "      <td>2.5</td>\n",
              "      <td>98</td>\n",
              "      <td>United States</td>\n",
              "      <td>Berkshire Hathaway</td>\n",
              "      <td>Finance &amp; Investments</td>\n",
              "    </tr>\n",
              "    <tr>\n",
              "      <th>1377</th>\n",
              "      <td>1377</td>\n",
              "      <td>1341</td>\n",
              "      <td>David Murdock</td>\n",
              "      <td>2.3</td>\n",
              "      <td>98</td>\n",
              "      <td>United States</td>\n",
              "      <td>Dole, real estate</td>\n",
              "      <td>Food &amp; Beverage</td>\n",
              "    </tr>\n",
              "    <tr>\n",
              "      <th>162</th>\n",
              "      <td>162</td>\n",
              "      <td>163</td>\n",
              "      <td>Robert Kuok</td>\n",
              "      <td>11.7</td>\n",
              "      <td>98</td>\n",
              "      <td>Malaysia</td>\n",
              "      <td>palm oil, shipping, property</td>\n",
              "      <td>Diversified</td>\n",
              "    </tr>\n",
              "    <tr>\n",
              "      <th>1681</th>\n",
              "      <td>1681</td>\n",
              "      <td>1645</td>\n",
              "      <td>George Joseph</td>\n",
              "      <td>1.8</td>\n",
              "      <td>100</td>\n",
              "      <td>United States</td>\n",
              "      <td>insurance</td>\n",
              "      <td>Finance &amp; Investments</td>\n",
              "    </tr>\n",
              "  </tbody>\n",
              "</table>\n",
              "<p>2600 rows × 8 columns</p>\n",
              "</div>"
            ],
            "text/plain": [
              "      Unnamed: 0  rank                          name  networth  age  \\\n",
              "1311        1311  1292          Kevin David Lehmann        2.4   19   \n",
              "2062        2062  1929                  Wang Zelong        1.5   25   \n",
              "1975        1975  1929             Pedro Franceschi        1.5   25   \n",
              "2190        2190  2190           Alexandra Andresen        1.3   25   \n",
              "1961        1961  1929            Henrique Dubugras        1.5   26   \n",
              "...          ...   ...                           ...       ...  ...   \n",
              "1939        1939  1929  Ana Maria Brescia Cafferata        1.5   97   \n",
              "1273        1273  1238               Charles Munger        2.5   98   \n",
              "1377        1377  1341                David Murdock        2.3   98   \n",
              "162          162   163                  Robert Kuok       11.7   98   \n",
              "1681        1681  1645                George Joseph        1.8  100   \n",
              "\n",
              "            country                        source                industry  \n",
              "1311        Germany                    drugstores       Fashion & Retail   \n",
              "2062          China                     chemicals        Metals & Mining   \n",
              "1975         Brazil                       fintech  Finance & Investments   \n",
              "2190         Norway                   investments            Diversified   \n",
              "1961         Brazil                       fintech  Finance & Investments   \n",
              "...             ...                           ...                     ...  \n",
              "1939           Peru               mining, banking            Diversified   \n",
              "1273  United States            Berkshire Hathaway  Finance & Investments   \n",
              "1377  United States             Dole, real estate        Food & Beverage   \n",
              "162        Malaysia  palm oil, shipping, property            Diversified   \n",
              "1681  United States                     insurance  Finance & Investments   \n",
              "\n",
              "[2600 rows x 8 columns]"
            ]
          },
          "execution_count": 19,
          "metadata": {},
          "output_type": "execute_result"
        }
      ],
      "source": [
        "# rearrange the dataframe by ascending or descending order of specific column\n",
        "#parameter of sort_values: by-specify label to sort by, axis:0 or 1, ascending:True or False\n",
        "forbes.sort_values(by=['age'])"
      ]
    },
    {
      "cell_type": "code",
      "execution_count": 20,
      "metadata": {
        "colab": {
          "base_uri": "https://localhost:8080/"
        },
        "id": "algQ_z9Ecmsl",
        "outputId": "600addf2-6732-4a57-c399-909cc3d9655b"
      },
      "outputs": [
        {
          "data": {
            "text/html": [
              "<div>\n",
              "<style scoped>\n",
              "    .dataframe tbody tr th:only-of-type {\n",
              "        vertical-align: middle;\n",
              "    }\n",
              "\n",
              "    .dataframe tbody tr th {\n",
              "        vertical-align: top;\n",
              "    }\n",
              "\n",
              "    .dataframe thead th {\n",
              "        text-align: right;\n",
              "    }\n",
              "</style>\n",
              "<table border=\"1\" class=\"dataframe\">\n",
              "  <thead>\n",
              "    <tr style=\"text-align: right;\">\n",
              "      <th></th>\n",
              "      <th>Unnamed: 0</th>\n",
              "      <th>rank</th>\n",
              "      <th>name</th>\n",
              "      <th>networth</th>\n",
              "      <th>age</th>\n",
              "      <th>country</th>\n",
              "      <th>source</th>\n",
              "      <th>industry</th>\n",
              "    </tr>\n",
              "  </thead>\n",
              "  <tbody>\n",
              "    <tr>\n",
              "      <th>1311</th>\n",
              "      <td>1311</td>\n",
              "      <td>1292</td>\n",
              "      <td>Kevin David Lehmann</td>\n",
              "      <td>2.4</td>\n",
              "      <td>19</td>\n",
              "      <td>Germany</td>\n",
              "      <td>drugstores</td>\n",
              "      <td>Fashion &amp; Retail</td>\n",
              "    </tr>\n",
              "    <tr>\n",
              "      <th>2062</th>\n",
              "      <td>2062</td>\n",
              "      <td>1929</td>\n",
              "      <td>Wang Zelong</td>\n",
              "      <td>1.5</td>\n",
              "      <td>25</td>\n",
              "      <td>China</td>\n",
              "      <td>chemicals</td>\n",
              "      <td>Metals &amp; Mining</td>\n",
              "    </tr>\n",
              "    <tr>\n",
              "      <th>1975</th>\n",
              "      <td>1975</td>\n",
              "      <td>1929</td>\n",
              "      <td>Pedro Franceschi</td>\n",
              "      <td>1.5</td>\n",
              "      <td>25</td>\n",
              "      <td>Brazil</td>\n",
              "      <td>fintech</td>\n",
              "      <td>Finance &amp; Investments</td>\n",
              "    </tr>\n",
              "    <tr>\n",
              "      <th>2190</th>\n",
              "      <td>2190</td>\n",
              "      <td>2190</td>\n",
              "      <td>Alexandra Andresen</td>\n",
              "      <td>1.3</td>\n",
              "      <td>25</td>\n",
              "      <td>Norway</td>\n",
              "      <td>investments</td>\n",
              "      <td>Diversified</td>\n",
              "    </tr>\n",
              "    <tr>\n",
              "      <th>1961</th>\n",
              "      <td>1961</td>\n",
              "      <td>1929</td>\n",
              "      <td>Henrique Dubugras</td>\n",
              "      <td>1.5</td>\n",
              "      <td>26</td>\n",
              "      <td>Brazil</td>\n",
              "      <td>fintech</td>\n",
              "      <td>Finance &amp; Investments</td>\n",
              "    </tr>\n",
              "  </tbody>\n",
              "</table>\n",
              "</div>"
            ],
            "text/plain": [
              "      Unnamed: 0  rank                  name  networth  age  country  \\\n",
              "1311        1311  1292  Kevin David Lehmann        2.4   19  Germany   \n",
              "2062        2062  1929          Wang Zelong        1.5   25    China   \n",
              "1975        1975  1929     Pedro Franceschi        1.5   25   Brazil   \n",
              "2190        2190  2190   Alexandra Andresen        1.3   25   Norway   \n",
              "1961        1961  1929    Henrique Dubugras        1.5   26   Brazil   \n",
              "\n",
              "           source                industry  \n",
              "1311   drugstores       Fashion & Retail   \n",
              "2062    chemicals        Metals & Mining   \n",
              "1975      fintech  Finance & Investments   \n",
              "2190  investments            Diversified   \n",
              "1961      fintech  Finance & Investments   "
            ]
          },
          "execution_count": 20,
          "metadata": {},
          "output_type": "execute_result"
        }
      ],
      "source": [
        "forbes.sort_values(by = ['age'])[:5]"
      ]
    },
    {
      "cell_type": "code",
      "execution_count": 21,
      "metadata": {
        "colab": {
          "base_uri": "https://localhost:8080/",
          "height": 833
        },
        "id": "aiW0j3F4ddZ4",
        "outputId": "ad012bf9-8e9f-4b0e-eff8-636c49c88951"
      },
      "outputs": [
        {
          "data": {
            "text/html": [
              "<div>\n",
              "<style scoped>\n",
              "    .dataframe tbody tr th:only-of-type {\n",
              "        vertical-align: middle;\n",
              "    }\n",
              "\n",
              "    .dataframe tbody tr th {\n",
              "        vertical-align: top;\n",
              "    }\n",
              "\n",
              "    .dataframe thead th {\n",
              "        text-align: right;\n",
              "    }\n",
              "</style>\n",
              "<table border=\"1\" class=\"dataframe\">\n",
              "  <thead>\n",
              "    <tr style=\"text-align: right;\">\n",
              "      <th></th>\n",
              "      <th>Unnamed: 0</th>\n",
              "      <th>rank</th>\n",
              "      <th>name</th>\n",
              "      <th>networth</th>\n",
              "      <th>age</th>\n",
              "      <th>country</th>\n",
              "      <th>source</th>\n",
              "      <th>industry</th>\n",
              "    </tr>\n",
              "  </thead>\n",
              "  <tbody>\n",
              "    <tr>\n",
              "      <th>0</th>\n",
              "      <td>0</td>\n",
              "      <td>1</td>\n",
              "      <td>Elon Musk</td>\n",
              "      <td>219.0</td>\n",
              "      <td>50</td>\n",
              "      <td>United States</td>\n",
              "      <td>Tesla, SpaceX</td>\n",
              "      <td>Automotive</td>\n",
              "    </tr>\n",
              "    <tr>\n",
              "      <th>1</th>\n",
              "      <td>1</td>\n",
              "      <td>2</td>\n",
              "      <td>Jeff Bezos</td>\n",
              "      <td>171.0</td>\n",
              "      <td>58</td>\n",
              "      <td>United States</td>\n",
              "      <td>Amazon</td>\n",
              "      <td>Technology</td>\n",
              "    </tr>\n",
              "    <tr>\n",
              "      <th>2</th>\n",
              "      <td>2</td>\n",
              "      <td>3</td>\n",
              "      <td>Bernard Arnault &amp; family</td>\n",
              "      <td>158.0</td>\n",
              "      <td>73</td>\n",
              "      <td>France</td>\n",
              "      <td>LVMH</td>\n",
              "      <td>Fashion &amp; Retail</td>\n",
              "    </tr>\n",
              "    <tr>\n",
              "      <th>3</th>\n",
              "      <td>3</td>\n",
              "      <td>4</td>\n",
              "      <td>Bill Gates</td>\n",
              "      <td>129.0</td>\n",
              "      <td>66</td>\n",
              "      <td>United States</td>\n",
              "      <td>Microsoft</td>\n",
              "      <td>Technology</td>\n",
              "    </tr>\n",
              "    <tr>\n",
              "      <th>4</th>\n",
              "      <td>4</td>\n",
              "      <td>5</td>\n",
              "      <td>Warren Buffett</td>\n",
              "      <td>118.0</td>\n",
              "      <td>91</td>\n",
              "      <td>United States</td>\n",
              "      <td>Berkshire Hathaway</td>\n",
              "      <td>Finance &amp; Investments</td>\n",
              "    </tr>\n",
              "    <tr>\n",
              "      <th>5</th>\n",
              "      <td>5</td>\n",
              "      <td>6</td>\n",
              "      <td>Larry Page</td>\n",
              "      <td>111.0</td>\n",
              "      <td>49</td>\n",
              "      <td>United States</td>\n",
              "      <td>Google</td>\n",
              "      <td>Technology</td>\n",
              "    </tr>\n",
              "    <tr>\n",
              "      <th>6</th>\n",
              "      <td>6</td>\n",
              "      <td>7</td>\n",
              "      <td>Sergey Brin</td>\n",
              "      <td>107.0</td>\n",
              "      <td>48</td>\n",
              "      <td>United States</td>\n",
              "      <td>Google</td>\n",
              "      <td>Technology</td>\n",
              "    </tr>\n",
              "    <tr>\n",
              "      <th>7</th>\n",
              "      <td>7</td>\n",
              "      <td>8</td>\n",
              "      <td>Larry Ellison</td>\n",
              "      <td>106.0</td>\n",
              "      <td>77</td>\n",
              "      <td>United States</td>\n",
              "      <td>software</td>\n",
              "      <td>Technology</td>\n",
              "    </tr>\n",
              "    <tr>\n",
              "      <th>8</th>\n",
              "      <td>8</td>\n",
              "      <td>9</td>\n",
              "      <td>Steve Ballmer</td>\n",
              "      <td>91.4</td>\n",
              "      <td>66</td>\n",
              "      <td>United States</td>\n",
              "      <td>Microsoft</td>\n",
              "      <td>Technology</td>\n",
              "    </tr>\n",
              "    <tr>\n",
              "      <th>9</th>\n",
              "      <td>9</td>\n",
              "      <td>10</td>\n",
              "      <td>Mukesh Ambani</td>\n",
              "      <td>90.7</td>\n",
              "      <td>64</td>\n",
              "      <td>India</td>\n",
              "      <td>diversified</td>\n",
              "      <td>Diversified</td>\n",
              "    </tr>\n",
              "    <tr>\n",
              "      <th>10</th>\n",
              "      <td>10</td>\n",
              "      <td>11</td>\n",
              "      <td>Gautam Adani &amp; family</td>\n",
              "      <td>90.0</td>\n",
              "      <td>59</td>\n",
              "      <td>India</td>\n",
              "      <td>infrastructure, commodities</td>\n",
              "      <td>Diversified</td>\n",
              "    </tr>\n",
              "    <tr>\n",
              "      <th>11</th>\n",
              "      <td>11</td>\n",
              "      <td>12</td>\n",
              "      <td>Michael Bloomberg</td>\n",
              "      <td>82.0</td>\n",
              "      <td>80</td>\n",
              "      <td>United States</td>\n",
              "      <td>Bloomberg LP</td>\n",
              "      <td>Media &amp; Entertainment</td>\n",
              "    </tr>\n",
              "    <tr>\n",
              "      <th>12</th>\n",
              "      <td>12</td>\n",
              "      <td>13</td>\n",
              "      <td>Carlos Slim Helu &amp; family</td>\n",
              "      <td>81.2</td>\n",
              "      <td>82</td>\n",
              "      <td>Mexico</td>\n",
              "      <td>telecom</td>\n",
              "      <td>Telecom</td>\n",
              "    </tr>\n",
              "    <tr>\n",
              "      <th>13</th>\n",
              "      <td>13</td>\n",
              "      <td>14</td>\n",
              "      <td>Francoise Bettencourt Meyers &amp; family</td>\n",
              "      <td>74.8</td>\n",
              "      <td>68</td>\n",
              "      <td>France</td>\n",
              "      <td>L'Oréal</td>\n",
              "      <td>Fashion &amp; Retail</td>\n",
              "    </tr>\n",
              "    <tr>\n",
              "      <th>14</th>\n",
              "      <td>14</td>\n",
              "      <td>15</td>\n",
              "      <td>Mark Zuckerberg</td>\n",
              "      <td>67.3</td>\n",
              "      <td>37</td>\n",
              "      <td>United States</td>\n",
              "      <td>Facebook</td>\n",
              "      <td>Technology</td>\n",
              "    </tr>\n",
              "    <tr>\n",
              "      <th>15</th>\n",
              "      <td>15</td>\n",
              "      <td>16</td>\n",
              "      <td>Jim Walton</td>\n",
              "      <td>66.2</td>\n",
              "      <td>73</td>\n",
              "      <td>United States</td>\n",
              "      <td>Walmart</td>\n",
              "      <td>Fashion &amp; Retail</td>\n",
              "    </tr>\n",
              "    <tr>\n",
              "      <th>16</th>\n",
              "      <td>16</td>\n",
              "      <td>17</td>\n",
              "      <td>Zhong Shanshan</td>\n",
              "      <td>65.7</td>\n",
              "      <td>67</td>\n",
              "      <td>China</td>\n",
              "      <td>beverages, pharmaceuticals</td>\n",
              "      <td>Food &amp; Beverage</td>\n",
              "    </tr>\n",
              "    <tr>\n",
              "      <th>17</th>\n",
              "      <td>17</td>\n",
              "      <td>18</td>\n",
              "      <td>Alice Walton</td>\n",
              "      <td>65.3</td>\n",
              "      <td>72</td>\n",
              "      <td>United States</td>\n",
              "      <td>Walmart</td>\n",
              "      <td>Fashion &amp; Retail</td>\n",
              "    </tr>\n",
              "    <tr>\n",
              "      <th>18</th>\n",
              "      <td>18</td>\n",
              "      <td>19</td>\n",
              "      <td>Rob Walton</td>\n",
              "      <td>65.0</td>\n",
              "      <td>77</td>\n",
              "      <td>United States</td>\n",
              "      <td>Walmart</td>\n",
              "      <td>Fashion &amp; Retail</td>\n",
              "    </tr>\n",
              "    <tr>\n",
              "      <th>19</th>\n",
              "      <td>19</td>\n",
              "      <td>19</td>\n",
              "      <td>Changpeng Zhao</td>\n",
              "      <td>65.0</td>\n",
              "      <td>44</td>\n",
              "      <td>Canada</td>\n",
              "      <td>cryptocurrency exchange</td>\n",
              "      <td>Finance &amp; Investments</td>\n",
              "    </tr>\n",
              "    <tr>\n",
              "      <th>20</th>\n",
              "      <td>20</td>\n",
              "      <td>21</td>\n",
              "      <td>Charles Koch</td>\n",
              "      <td>60.0</td>\n",
              "      <td>86</td>\n",
              "      <td>United States</td>\n",
              "      <td>Koch Industries</td>\n",
              "      <td>Diversified</td>\n",
              "    </tr>\n",
              "    <tr>\n",
              "      <th>21</th>\n",
              "      <td>21</td>\n",
              "      <td>21</td>\n",
              "      <td>Julia Koch &amp; family</td>\n",
              "      <td>60.0</td>\n",
              "      <td>59</td>\n",
              "      <td>United States</td>\n",
              "      <td>Koch Industries</td>\n",
              "      <td>Diversified</td>\n",
              "    </tr>\n",
              "    <tr>\n",
              "      <th>22</th>\n",
              "      <td>22</td>\n",
              "      <td>23</td>\n",
              "      <td>Amancio Ortega</td>\n",
              "      <td>59.6</td>\n",
              "      <td>86</td>\n",
              "      <td>Spain</td>\n",
              "      <td>Zara</td>\n",
              "      <td>Fashion &amp; Retail</td>\n",
              "    </tr>\n",
              "    <tr>\n",
              "      <th>23</th>\n",
              "      <td>23</td>\n",
              "      <td>24</td>\n",
              "      <td>Michael Dell</td>\n",
              "      <td>55.1</td>\n",
              "      <td>57</td>\n",
              "      <td>United States</td>\n",
              "      <td>Dell computers</td>\n",
              "      <td>Technology</td>\n",
              "    </tr>\n",
              "    <tr>\n",
              "      <th>24</th>\n",
              "      <td>24</td>\n",
              "      <td>25</td>\n",
              "      <td>Zhang Yiming</td>\n",
              "      <td>50.0</td>\n",
              "      <td>38</td>\n",
              "      <td>China</td>\n",
              "      <td>TikTok</td>\n",
              "      <td>Media &amp; Entertainment</td>\n",
              "    </tr>\n",
              "  </tbody>\n",
              "</table>\n",
              "</div>"
            ],
            "text/plain": [
              "    Unnamed: 0  rank                                    name  networth  age  \\\n",
              "0            0     1                              Elon Musk      219.0   50   \n",
              "1            1     2                             Jeff Bezos      171.0   58   \n",
              "2            2     3               Bernard Arnault & family      158.0   73   \n",
              "3            3     4                             Bill Gates      129.0   66   \n",
              "4            4     5                         Warren Buffett      118.0   91   \n",
              "5            5     6                             Larry Page      111.0   49   \n",
              "6            6     7                            Sergey Brin      107.0   48   \n",
              "7            7     8                          Larry Ellison      106.0   77   \n",
              "8            8     9                          Steve Ballmer       91.4   66   \n",
              "9            9    10                          Mukesh Ambani       90.7   64   \n",
              "10          10    11                  Gautam Adani & family       90.0   59   \n",
              "11          11    12                      Michael Bloomberg       82.0   80   \n",
              "12          12    13              Carlos Slim Helu & family       81.2   82   \n",
              "13          13    14  Francoise Bettencourt Meyers & family       74.8   68   \n",
              "14          14    15                        Mark Zuckerberg       67.3   37   \n",
              "15          15    16                             Jim Walton       66.2   73   \n",
              "16          16    17                         Zhong Shanshan       65.7   67   \n",
              "17          17    18                           Alice Walton       65.3   72   \n",
              "18          18    19                             Rob Walton       65.0   77   \n",
              "19          19    19                         Changpeng Zhao       65.0   44   \n",
              "20          20    21                           Charles Koch       60.0   86   \n",
              "21          21    21                    Julia Koch & family       60.0   59   \n",
              "22          22    23                         Amancio Ortega       59.6   86   \n",
              "23          23    24                           Michael Dell       55.1   57   \n",
              "24          24    25                           Zhang Yiming       50.0   38   \n",
              "\n",
              "          country                       source                industry  \n",
              "0   United States                Tesla, SpaceX             Automotive   \n",
              "1   United States                       Amazon             Technology   \n",
              "2          France                         LVMH       Fashion & Retail   \n",
              "3   United States                    Microsoft             Technology   \n",
              "4   United States           Berkshire Hathaway  Finance & Investments   \n",
              "5   United States                       Google             Technology   \n",
              "6   United States                       Google             Technology   \n",
              "7   United States                     software             Technology   \n",
              "8   United States                    Microsoft             Technology   \n",
              "9           India                  diversified            Diversified   \n",
              "10          India  infrastructure, commodities            Diversified   \n",
              "11  United States                 Bloomberg LP  Media & Entertainment   \n",
              "12         Mexico                      telecom                Telecom   \n",
              "13         France                      L'Oréal       Fashion & Retail   \n",
              "14  United States                     Facebook             Technology   \n",
              "15  United States                      Walmart       Fashion & Retail   \n",
              "16          China   beverages, pharmaceuticals        Food & Beverage   \n",
              "17  United States                      Walmart       Fashion & Retail   \n",
              "18  United States                      Walmart       Fashion & Retail   \n",
              "19         Canada      cryptocurrency exchange  Finance & Investments   \n",
              "20  United States              Koch Industries            Diversified   \n",
              "21  United States              Koch Industries            Diversified   \n",
              "22          Spain                         Zara       Fashion & Retail   \n",
              "23  United States               Dell computers             Technology   \n",
              "24          China                       TikTok  Media & Entertainment   "
            ]
          },
          "execution_count": 21,
          "metadata": {},
          "output_type": "execute_result"
        }
      ],
      "source": [
        "# Finding the top 5 youngest people who have networth of more than 50 billion\n",
        "forbes_more_50 = forbes[forbes['networth'] >= 50]\n",
        "\n",
        "#Or\n",
        "forbes_more_50 = forbes.query('networth >= 50')\n",
        "\n",
        "forbes_more_50"
      ]
    },
    {
      "cell_type": "code",
      "execution_count": 22,
      "metadata": {
        "colab": {
          "base_uri": "https://localhost:8080/"
        },
        "id": "gEo0lyzLdwxO",
        "outputId": "e3bd5f13-870e-4fb1-b698-3f12fd3f0d1b"
      },
      "outputs": [
        {
          "data": {
            "text/html": [
              "<div>\n",
              "<style scoped>\n",
              "    .dataframe tbody tr th:only-of-type {\n",
              "        vertical-align: middle;\n",
              "    }\n",
              "\n",
              "    .dataframe tbody tr th {\n",
              "        vertical-align: top;\n",
              "    }\n",
              "\n",
              "    .dataframe thead th {\n",
              "        text-align: right;\n",
              "    }\n",
              "</style>\n",
              "<table border=\"1\" class=\"dataframe\">\n",
              "  <thead>\n",
              "    <tr style=\"text-align: right;\">\n",
              "      <th></th>\n",
              "      <th>Unnamed: 0</th>\n",
              "      <th>rank</th>\n",
              "      <th>name</th>\n",
              "      <th>networth</th>\n",
              "      <th>age</th>\n",
              "      <th>country</th>\n",
              "      <th>source</th>\n",
              "      <th>industry</th>\n",
              "    </tr>\n",
              "  </thead>\n",
              "  <tbody>\n",
              "    <tr>\n",
              "      <th>14</th>\n",
              "      <td>14</td>\n",
              "      <td>15</td>\n",
              "      <td>Mark Zuckerberg</td>\n",
              "      <td>67.3</td>\n",
              "      <td>37</td>\n",
              "      <td>United States</td>\n",
              "      <td>Facebook</td>\n",
              "      <td>Technology</td>\n",
              "    </tr>\n",
              "    <tr>\n",
              "      <th>24</th>\n",
              "      <td>24</td>\n",
              "      <td>25</td>\n",
              "      <td>Zhang Yiming</td>\n",
              "      <td>50.0</td>\n",
              "      <td>38</td>\n",
              "      <td>China</td>\n",
              "      <td>TikTok</td>\n",
              "      <td>Media &amp; Entertainment</td>\n",
              "    </tr>\n",
              "    <tr>\n",
              "      <th>19</th>\n",
              "      <td>19</td>\n",
              "      <td>19</td>\n",
              "      <td>Changpeng Zhao</td>\n",
              "      <td>65.0</td>\n",
              "      <td>44</td>\n",
              "      <td>Canada</td>\n",
              "      <td>cryptocurrency exchange</td>\n",
              "      <td>Finance &amp; Investments</td>\n",
              "    </tr>\n",
              "    <tr>\n",
              "      <th>6</th>\n",
              "      <td>6</td>\n",
              "      <td>7</td>\n",
              "      <td>Sergey Brin</td>\n",
              "      <td>107.0</td>\n",
              "      <td>48</td>\n",
              "      <td>United States</td>\n",
              "      <td>Google</td>\n",
              "      <td>Technology</td>\n",
              "    </tr>\n",
              "    <tr>\n",
              "      <th>5</th>\n",
              "      <td>5</td>\n",
              "      <td>6</td>\n",
              "      <td>Larry Page</td>\n",
              "      <td>111.0</td>\n",
              "      <td>49</td>\n",
              "      <td>United States</td>\n",
              "      <td>Google</td>\n",
              "      <td>Technology</td>\n",
              "    </tr>\n",
              "  </tbody>\n",
              "</table>\n",
              "</div>"
            ],
            "text/plain": [
              "    Unnamed: 0  rank              name  networth  age        country  \\\n",
              "14          14    15  Mark Zuckerberg       67.3   37  United States   \n",
              "24          24    25     Zhang Yiming       50.0   38          China   \n",
              "19          19    19   Changpeng Zhao       65.0   44         Canada   \n",
              "6            6     7      Sergey Brin      107.0   48  United States   \n",
              "5            5     6       Larry Page      111.0   49  United States   \n",
              "\n",
              "                     source                industry  \n",
              "14                 Facebook             Technology   \n",
              "24                   TikTok  Media & Entertainment   \n",
              "19  cryptocurrency exchange  Finance & Investments   \n",
              "6                    Google             Technology   \n",
              "5                    Google             Technology   "
            ]
          },
          "execution_count": 22,
          "metadata": {},
          "output_type": "execute_result"
        }
      ],
      "source": [
        "forbes_more_50.sort_values(by = ['age'])[0:5]"
      ]
    },
    {
      "cell_type": "code",
      "execution_count": 23,
      "metadata": {
        "colab": {
          "base_uri": "https://localhost:8080/"
        },
        "id": "aGMO3LD9cHdG",
        "outputId": "f8079eb8-51bd-4f09-ed8e-41ac09a364b3"
      },
      "outputs": [
        {
          "data": {
            "image/png": "[encoded data removed]",
            "text/plain": [
              "<Figure size 1000x1000 with 1 Axes>"
            ]
          },
          "metadata": {},
          "output_type": "display_data"
        }
      ],
      "source": [
        "#Using the method we used previously\n",
        "fig, ax = plt.subplots(figsize = (10,10))\n",
        "ax.hist(forbes.networth, bins = 20, edgecolor = 'black', color = 'yellow') \n",
        "# the higher the bin, the closer it is to the distribution plot which will be explained later\n",
        "plt.show() #Notice the graphs are still similar to each other"
      ]
    },
    {
      "cell_type": "markdown",
      "metadata": {
        "id": "D3CMdsgledTN"
      },
      "source": [
        "##### Data Visualisation - Distribution Plot\n",
        "- Shows how a variable in your data is distributed"
      ]
    },
    {
      "cell_type": "markdown",
      "metadata": {
        "id": "Xs3_fcZjqByu"
      },
      "source": [
        "# Distribution Plot\n",
        "\n",
        "> parameter:\n",
        "* data: dataframe name\n",
        "* x,y,hue: variable name\n",
        "* kind:{“hist”, “kde”, “ecdf”} hist by default, same as histplot(), kdeplot(), ecdfplot(univariate data only)\n",
        "* color, palette, height...\n",
        "\n",
        "1.   kernel density estimation:KDE represents the data using a continuous probability density curve, more smooth\n",
        "2.    empirical cumulative distribution function: represents the proportion or counts of observations\n"
      ]
    },
    {
      "cell_type": "code",
      "execution_count": 24,
      "metadata": {
        "colab": {
          "base_uri": "https://localhost:8080/"
        },
        "id": "xejufrTReagm",
        "outputId": "da0aa71a-29e7-4f1e-aae9-569f49549205"
      },
      "outputs": [
        {
          "data": {
            "image/png": "[encoded data removed]",
            "text/plain": [
              "<Figure size 500x500 with 1 Axes>"
            ]
          },
          "metadata": {},
          "output_type": "display_data"
        }
      ],
      "source": [
        "#Distribution plot of the age variable\n",
        "sns.displot(x = 'age', data = forbes)\n",
        "plt.show()"
      ]
    },
    {
      "cell_type": "code",
      "execution_count": 25,
      "metadata": {
        "colab": {
          "base_uri": "https://localhost:8080/"
        },
        "id": "mq-JK0RjfF7j",
        "outputId": "a3375c12-025d-4d1f-c46c-9f704e7f787b"
      },
      "outputs": [
        {
          "data": {
            "image/png": "[encoded data removed]",
            "text/plain": [
              "<Figure size 745.5x500 with 1 Axes>"
            ]
          },
          "metadata": {},
          "output_type": "display_data"
        }
      ],
      "source": [
        "sns.displot(x = 'age',hue='industry',kind='ecdf', data = forbes, stat='count',complementary=True)\n",
        "plt.show()"
      ]
    },
    {
      "cell_type": "markdown",
      "metadata": {
        "id": "2Hh7NsUlftPC"
      },
      "source": [
        "Observation from dataset:\n",
        "1. Most saturated industry/best industry (Finance & Investments)\n",
        "2. Country with the most opportunity (US) - may be too saturated\n",
        "3. Who to learn from (THose that really made it)\n",
        "4. Probable age for someone to get really rich (50-70 years old)"
      ]
    },
    {
      "cell_type": "markdown",
      "metadata": {
        "id": "-n_e6eCMmRiQ"
      },
      "source": [
        "### Example 2: Annual Sales 2018 Data"
      ]
    },
    {
      "cell_type": "markdown",
      "metadata": {
        "id": "PNa9tYcBhf1M"
      },
      "source": [
        "#### 1. Load Data"
      ]
    },
    {
      "cell_type": "code",
      "execution_count": 26,
      "metadata": {
        "colab": {
          "base_uri": "https://localhost:8080/",
          "height": 206
        },
        "id": "G4DiGLZFg9Ng",
        "outputId": "6965aa2f-4c7c-462e-f039-4dff75580b2e"
      },
      "outputs": [
        {
          "name": "stderr",
          "output_type": "stream",
          "text": [
            "Downloading...\n",
            "From: https://drive.google.com/uc?id=1S6rk62YIKLeX4DTUd-l5ImfNG9ZaoYhR\n",
            "To: c:\\Users\\shani\\DSA\\MY-DSA-Curriculum\\DSA-001-Python_Recap_Syntax_and_EDA\\2018_Annual_Sales.csv\n",
            "100%|██████████| 16.4M/16.4M [00:01<00:00, 8.86MB/s]\n"
          ]
        },
        {
          "data": {
            "text/html": [
              "<div>\n",
              "<style scoped>\n",
              "    .dataframe tbody tr th:only-of-type {\n",
              "        vertical-align: middle;\n",
              "    }\n",
              "\n",
              "    .dataframe tbody tr th {\n",
              "        vertical-align: top;\n",
              "    }\n",
              "\n",
              "    .dataframe thead th {\n",
              "        text-align: right;\n",
              "    }\n",
              "</style>\n",
              "<table border=\"1\" class=\"dataframe\">\n",
              "  <thead>\n",
              "    <tr style=\"text-align: right;\">\n",
              "      <th></th>\n",
              "      <th>Order ID</th>\n",
              "      <th>Product</th>\n",
              "      <th>Quantity Ordered</th>\n",
              "      <th>Price Each</th>\n",
              "      <th>Order Date</th>\n",
              "      <th>Purchase Address</th>\n",
              "    </tr>\n",
              "  </thead>\n",
              "  <tbody>\n",
              "    <tr>\n",
              "      <th>0</th>\n",
              "      <td>176558</td>\n",
              "      <td>USB-C Charging Cable</td>\n",
              "      <td>2</td>\n",
              "      <td>11.95</td>\n",
              "      <td>04/19/19 08:46</td>\n",
              "      <td>917 1st St, Dallas, TX 75001</td>\n",
              "    </tr>\n",
              "    <tr>\n",
              "      <th>1</th>\n",
              "      <td>NaN</td>\n",
              "      <td>NaN</td>\n",
              "      <td>NaN</td>\n",
              "      <td>NaN</td>\n",
              "      <td>NaN</td>\n",
              "      <td>NaN</td>\n",
              "    </tr>\n",
              "    <tr>\n",
              "      <th>2</th>\n",
              "      <td>176559</td>\n",
              "      <td>Bose SoundSport Headphones</td>\n",
              "      <td>1</td>\n",
              "      <td>99.99</td>\n",
              "      <td>04/07/19 22:30</td>\n",
              "      <td>682 Chestnut St, Boston, MA 02215</td>\n",
              "    </tr>\n",
              "    <tr>\n",
              "      <th>3</th>\n",
              "      <td>176560</td>\n",
              "      <td>Google Phone</td>\n",
              "      <td>1</td>\n",
              "      <td>600</td>\n",
              "      <td>04/12/19 14:38</td>\n",
              "      <td>669 Spruce St, Los Angeles, CA 90001</td>\n",
              "    </tr>\n",
              "    <tr>\n",
              "      <th>4</th>\n",
              "      <td>176560</td>\n",
              "      <td>Wired Headphones</td>\n",
              "      <td>1</td>\n",
              "      <td>11.99</td>\n",
              "      <td>04/12/19 14:38</td>\n",
              "      <td>669 Spruce St, Los Angeles, CA 90001</td>\n",
              "    </tr>\n",
              "  </tbody>\n",
              "</table>\n",
              "</div>"
            ],
            "text/plain": [
              "  Order ID                     Product Quantity Ordered Price Each  \\\n",
              "0   176558        USB-C Charging Cable                2      11.95   \n",
              "1      NaN                         NaN              NaN        NaN   \n",
              "2   176559  Bose SoundSport Headphones                1      99.99   \n",
              "3   176560                Google Phone                1        600   \n",
              "4   176560            Wired Headphones                1      11.99   \n",
              "\n",
              "       Order Date                      Purchase Address  \n",
              "0  04/19/19 08:46          917 1st St, Dallas, TX 75001  \n",
              "1             NaN                                   NaN  \n",
              "2  04/07/19 22:30     682 Chestnut St, Boston, MA 02215  \n",
              "3  04/12/19 14:38  669 Spruce St, Los Angeles, CA 90001  \n",
              "4  04/12/19 14:38  669 Spruce St, Los Angeles, CA 90001  "
            ]
          },
          "execution_count": 26,
          "metadata": {},
          "output_type": "execute_result"
        }
      ],
      "source": [
        "data_id = '1S6rk62YIKLeX4DTUd-l5ImfNG9ZaoYhR'\n",
        "data_output = '2018_Annual_Sales.csv'\n",
        "download_from_gdrive(data_id, data_output)\n",
        "\n",
        "data = pd.read_csv('2018_Annual_Sales.csv')\n",
        "data.head()"
      ]
    },
    {
      "cell_type": "markdown",
      "metadata": {
        "id": "51DKtOeWhlgI"
      },
      "source": [
        "#### 2. Inspect Data"
      ]
    },
    {
      "cell_type": "code",
      "execution_count": 27,
      "metadata": {
        "colab": {
          "base_uri": "https://localhost:8080/"
        },
        "id": "eKnFKiI8nieV",
        "outputId": "9d5ef896-a4d7-4939-a6cb-79c9d745905f"
      },
      "outputs": [
        {
          "name": "stdout",
          "output_type": "stream",
          "text": [
            "<class 'pandas.core.frame.DataFrame'>\n",
            "RangeIndex: 186850 entries, 0 to 186849\n",
            "Data columns (total 6 columns):\n",
            " #   Column            Non-Null Count   Dtype \n",
            "---  ------            --------------   ----- \n",
            " 0   Order ID          186305 non-null  object\n",
            " 1   Product           186305 non-null  object\n",
            " 2   Quantity Ordered  186305 non-null  object\n",
            " 3   Price Each        186305 non-null  object\n",
            " 4   Order Date        186305 non-null  object\n",
            " 5   Purchase Address  186305 non-null  object\n",
            "dtypes: object(6)\n",
            "memory usage: 8.6+ MB\n"
          ]
        }
      ],
      "source": [
        "data.info()"
      ]
    },
    {
      "cell_type": "markdown",
      "metadata": {
        "id": "B6VEowJ2hq3W"
      },
      "source": [
        "#### 3. Clean Data"
      ]
    },
    {
      "cell_type": "code",
      "execution_count": 28,
      "metadata": {
        "colab": {
          "base_uri": "https://localhost:8080/"
        },
        "id": "x3uI9hQrnoaL",
        "outputId": "7e7529b3-9b51-4342-c946-179484ed02c3"
      },
      "outputs": [
        {
          "name": "stderr",
          "output_type": "stream",
          "text": [
            "C:\\Users\\shani\\AppData\\Local\\Temp\\ipykernel_4464\\3685969344.py:5: SettingWithCopyWarning: \n",
            "A value is trying to be set on a copy of a slice from a DataFrame.\n",
            "Try using .loc[row_indexer,col_indexer] = value instead\n",
            "\n",
            "See the caveats in the documentation: https://pandas.pydata.org/pandas-docs/stable/user_guide/indexing.html#returning-a-view-versus-a-copy\n",
            "  df['Quantity Ordered'] = pd.to_numeric(df['Quantity Ordered'], errors='coerce')\n",
            "C:\\Users\\shani\\AppData\\Local\\Temp\\ipykernel_4464\\3685969344.py:6: SettingWithCopyWarning: \n",
            "A value is trying to be set on a copy of a slice from a DataFrame.\n",
            "Try using .loc[row_indexer,col_indexer] = value instead\n",
            "\n",
            "See the caveats in the documentation: https://pandas.pydata.org/pandas-docs/stable/user_guide/indexing.html#returning-a-view-versus-a-copy\n",
            "  df['Price Each'] = pd.to_numeric(df['Price Each'], errors='coerce')\n",
            "C:\\Users\\shani\\AppData\\Local\\Temp\\ipykernel_4464\\3685969344.py:9: UserWarning: Could not infer format, so each element will be parsed individually, falling back to `dateutil`. To ensure parsing is consistent and as-expected, please specify a format.\n",
            "  df['Order Date'] = pd.to_datetime(df['Order Date'], errors='coerce')\n"
          ]
        },
        {
          "name": "stdout",
          "output_type": "stream",
          "text": [
            "<class 'pandas.core.frame.DataFrame'>\n",
            "Index: 185687 entries, 0 to 186849\n",
            "Data columns (total 6 columns):\n",
            " #   Column            Non-Null Count   Dtype         \n",
            "---  ------            --------------   -----         \n",
            " 0   Order ID          185687 non-null  object        \n",
            " 1   Product           185687 non-null  object        \n",
            " 2   Quantity Ordered  185686 non-null  float64       \n",
            " 3   Price Each        185686 non-null  float64       \n",
            " 4   Order Date        185686 non-null  datetime64[ns]\n",
            " 5   Purchase Address  185687 non-null  object        \n",
            "dtypes: datetime64[ns](1), float64(2), object(3)\n",
            "memory usage: 9.9+ MB\n"
          ]
        },
        {
          "name": "stderr",
          "output_type": "stream",
          "text": [
            "C:\\Users\\shani\\AppData\\Local\\Temp\\ipykernel_4464\\3685969344.py:9: SettingWithCopyWarning: \n",
            "A value is trying to be set on a copy of a slice from a DataFrame.\n",
            "Try using .loc[row_indexer,col_indexer] = value instead\n",
            "\n",
            "See the caveats in the documentation: https://pandas.pydata.org/pandas-docs/stable/user_guide/indexing.html#returning-a-view-versus-a-copy\n",
            "  df['Order Date'] = pd.to_datetime(df['Order Date'], errors='coerce')\n"
          ]
        }
      ],
      "source": [
        "#Remove rows with missing values\n",
        "df = data.dropna()\n",
        "\n",
        "#Convert 'Quantity Ordered' and 'Price Each' to numeric\n",
        "df['Quantity Ordered'] = pd.to_numeric(df['Quantity Ordered'], errors='coerce')\n",
        "df['Price Each'] = pd.to_numeric(df['Price Each'], errors='coerce')\n",
        "\n",
        "#Convert 'Order Date' column into datetime type\n",
        "df['Order Date'] = pd.to_datetime(df['Order Date'], errors='coerce')\n",
        "\n",
        "#Remove any duplicate rows\n",
        "df = df.drop_duplicates()\n",
        "\n",
        "df.info()"
      ]
    },
    {
      "cell_type": "code",
      "execution_count": 29,
      "metadata": {
        "colab": {
          "base_uri": "https://localhost:8080/",
          "height": 206
        },
        "id": "HJH1hwq5oAhn",
        "outputId": "e59b87b3-28ea-4764-b484-d036b51db82e"
      },
      "outputs": [
        {
          "data": {
            "text/html": [
              "<div>\n",
              "<style scoped>\n",
              "    .dataframe tbody tr th:only-of-type {\n",
              "        vertical-align: middle;\n",
              "    }\n",
              "\n",
              "    .dataframe tbody tr th {\n",
              "        vertical-align: top;\n",
              "    }\n",
              "\n",
              "    .dataframe thead th {\n",
              "        text-align: right;\n",
              "    }\n",
              "</style>\n",
              "<table border=\"1\" class=\"dataframe\">\n",
              "  <thead>\n",
              "    <tr style=\"text-align: right;\">\n",
              "      <th></th>\n",
              "      <th>Order ID</th>\n",
              "      <th>Product</th>\n",
              "      <th>Quantity Ordered</th>\n",
              "      <th>Price Each</th>\n",
              "      <th>Order Date</th>\n",
              "      <th>Purchase Address</th>\n",
              "    </tr>\n",
              "  </thead>\n",
              "  <tbody>\n",
              "    <tr>\n",
              "      <th>0</th>\n",
              "      <td>176558</td>\n",
              "      <td>USB-C Charging Cable</td>\n",
              "      <td>2.0</td>\n",
              "      <td>11.95</td>\n",
              "      <td>2019-04-19 08:46:00</td>\n",
              "      <td>917 1st St, Dallas, TX 75001</td>\n",
              "    </tr>\n",
              "    <tr>\n",
              "      <th>2</th>\n",
              "      <td>176559</td>\n",
              "      <td>Bose SoundSport Headphones</td>\n",
              "      <td>1.0</td>\n",
              "      <td>99.99</td>\n",
              "      <td>2019-04-07 22:30:00</td>\n",
              "      <td>682 Chestnut St, Boston, MA 02215</td>\n",
              "    </tr>\n",
              "    <tr>\n",
              "      <th>3</th>\n",
              "      <td>176560</td>\n",
              "      <td>Google Phone</td>\n",
              "      <td>1.0</td>\n",
              "      <td>600.00</td>\n",
              "      <td>2019-04-12 14:38:00</td>\n",
              "      <td>669 Spruce St, Los Angeles, CA 90001</td>\n",
              "    </tr>\n",
              "    <tr>\n",
              "      <th>4</th>\n",
              "      <td>176560</td>\n",
              "      <td>Wired Headphones</td>\n",
              "      <td>1.0</td>\n",
              "      <td>11.99</td>\n",
              "      <td>2019-04-12 14:38:00</td>\n",
              "      <td>669 Spruce St, Los Angeles, CA 90001</td>\n",
              "    </tr>\n",
              "    <tr>\n",
              "      <th>5</th>\n",
              "      <td>176561</td>\n",
              "      <td>Wired Headphones</td>\n",
              "      <td>1.0</td>\n",
              "      <td>11.99</td>\n",
              "      <td>2019-04-30 09:27:00</td>\n",
              "      <td>333 8th St, Los Angeles, CA 90001</td>\n",
              "    </tr>\n",
              "  </tbody>\n",
              "</table>\n",
              "</div>"
            ],
            "text/plain": [
              "  Order ID                     Product  Quantity Ordered  Price Each  \\\n",
              "0   176558        USB-C Charging Cable               2.0       11.95   \n",
              "2   176559  Bose SoundSport Headphones               1.0       99.99   \n",
              "3   176560                Google Phone               1.0      600.00   \n",
              "4   176560            Wired Headphones               1.0       11.99   \n",
              "5   176561            Wired Headphones               1.0       11.99   \n",
              "\n",
              "           Order Date                      Purchase Address  \n",
              "0 2019-04-19 08:46:00          917 1st St, Dallas, TX 75001  \n",
              "2 2019-04-07 22:30:00     682 Chestnut St, Boston, MA 02215  \n",
              "3 2019-04-12 14:38:00  669 Spruce St, Los Angeles, CA 90001  \n",
              "4 2019-04-12 14:38:00  669 Spruce St, Los Angeles, CA 90001  \n",
              "5 2019-04-30 09:27:00     333 8th St, Los Angeles, CA 90001  "
            ]
          },
          "execution_count": 29,
          "metadata": {},
          "output_type": "execute_result"
        }
      ],
      "source": [
        "df.head()"
      ]
    },
    {
      "cell_type": "markdown",
      "metadata": {
        "id": "FFdsR8izhzL8"
      },
      "source": [
        "#### 4. Explore Data"
      ]
    },
    {
      "cell_type": "code",
      "execution_count": 30,
      "metadata": {
        "colab": {
          "base_uri": "https://localhost:8080/",
          "height": 206
        },
        "id": "AUL_CUbkok9K",
        "outputId": "3ce27ae3-c0fb-406f-b398-d293f75dfe11"
      },
      "outputs": [
        {
          "data": {
            "text/html": [
              "<div>\n",
              "<style scoped>\n",
              "    .dataframe tbody tr th:only-of-type {\n",
              "        vertical-align: middle;\n",
              "    }\n",
              "\n",
              "    .dataframe tbody tr th {\n",
              "        vertical-align: top;\n",
              "    }\n",
              "\n",
              "    .dataframe thead th {\n",
              "        text-align: right;\n",
              "    }\n",
              "</style>\n",
              "<table border=\"1\" class=\"dataframe\">\n",
              "  <thead>\n",
              "    <tr style=\"text-align: right;\">\n",
              "      <th></th>\n",
              "      <th>Order ID</th>\n",
              "      <th>Product</th>\n",
              "      <th>Quantity Ordered</th>\n",
              "      <th>Price Each</th>\n",
              "      <th>Order Date</th>\n",
              "      <th>Purchase Address</th>\n",
              "      <th>Year</th>\n",
              "    </tr>\n",
              "  </thead>\n",
              "  <tbody>\n",
              "    <tr>\n",
              "      <th>0</th>\n",
              "      <td>176558</td>\n",
              "      <td>USB-C Charging Cable</td>\n",
              "      <td>2.0</td>\n",
              "      <td>11.95</td>\n",
              "      <td>2019-04-19 08:46:00</td>\n",
              "      <td>917 1st St, Dallas, TX 75001</td>\n",
              "      <td>2019.0</td>\n",
              "    </tr>\n",
              "    <tr>\n",
              "      <th>2</th>\n",
              "      <td>176559</td>\n",
              "      <td>Bose SoundSport Headphones</td>\n",
              "      <td>1.0</td>\n",
              "      <td>99.99</td>\n",
              "      <td>2019-04-07 22:30:00</td>\n",
              "      <td>682 Chestnut St, Boston, MA 02215</td>\n",
              "      <td>2019.0</td>\n",
              "    </tr>\n",
              "    <tr>\n",
              "      <th>3</th>\n",
              "      <td>176560</td>\n",
              "      <td>Google Phone</td>\n",
              "      <td>1.0</td>\n",
              "      <td>600.00</td>\n",
              "      <td>2019-04-12 14:38:00</td>\n",
              "      <td>669 Spruce St, Los Angeles, CA 90001</td>\n",
              "      <td>2019.0</td>\n",
              "    </tr>\n",
              "    <tr>\n",
              "      <th>4</th>\n",
              "      <td>176560</td>\n",
              "      <td>Wired Headphones</td>\n",
              "      <td>1.0</td>\n",
              "      <td>11.99</td>\n",
              "      <td>2019-04-12 14:38:00</td>\n",
              "      <td>669 Spruce St, Los Angeles, CA 90001</td>\n",
              "      <td>2019.0</td>\n",
              "    </tr>\n",
              "    <tr>\n",
              "      <th>5</th>\n",
              "      <td>176561</td>\n",
              "      <td>Wired Headphones</td>\n",
              "      <td>1.0</td>\n",
              "      <td>11.99</td>\n",
              "      <td>2019-04-30 09:27:00</td>\n",
              "      <td>333 8th St, Los Angeles, CA 90001</td>\n",
              "      <td>2019.0</td>\n",
              "    </tr>\n",
              "  </tbody>\n",
              "</table>\n",
              "</div>"
            ],
            "text/plain": [
              "  Order ID                     Product  Quantity Ordered  Price Each  \\\n",
              "0   176558        USB-C Charging Cable               2.0       11.95   \n",
              "2   176559  Bose SoundSport Headphones               1.0       99.99   \n",
              "3   176560                Google Phone               1.0      600.00   \n",
              "4   176560            Wired Headphones               1.0       11.99   \n",
              "5   176561            Wired Headphones               1.0       11.99   \n",
              "\n",
              "           Order Date                      Purchase Address    Year  \n",
              "0 2019-04-19 08:46:00          917 1st St, Dallas, TX 75001  2019.0  \n",
              "2 2019-04-07 22:30:00     682 Chestnut St, Boston, MA 02215  2019.0  \n",
              "3 2019-04-12 14:38:00  669 Spruce St, Los Angeles, CA 90001  2019.0  \n",
              "4 2019-04-12 14:38:00  669 Spruce St, Los Angeles, CA 90001  2019.0  \n",
              "5 2019-04-30 09:27:00     333 8th St, Los Angeles, CA 90001  2019.0  "
            ]
          },
          "execution_count": 30,
          "metadata": {},
          "output_type": "execute_result"
        }
      ],
      "source": [
        "# series.dt can be used to access the values of the series as datetimelike and return several properties\n",
        "#dt.year will return year, dt.weekday will return the day of week\n",
        "df['Year'] = df['Order Date'].dt.year\n",
        "df.head()"
      ]
    },
    {
      "cell_type": "code",
      "execution_count": 31,
      "metadata": {
        "colab": {
          "base_uri": "https://localhost:8080/",
          "height": 206
        },
        "id": "EHC6nTTKpamd",
        "outputId": "badf861e-8f38-4075-e378-6c33c68a10ef"
      },
      "outputs": [
        {
          "data": {
            "text/html": [
              "<div>\n",
              "<style scoped>\n",
              "    .dataframe tbody tr th:only-of-type {\n",
              "        vertical-align: middle;\n",
              "    }\n",
              "\n",
              "    .dataframe tbody tr th {\n",
              "        vertical-align: top;\n",
              "    }\n",
              "\n",
              "    .dataframe thead th {\n",
              "        text-align: right;\n",
              "    }\n",
              "</style>\n",
              "<table border=\"1\" class=\"dataframe\">\n",
              "  <thead>\n",
              "    <tr style=\"text-align: right;\">\n",
              "      <th></th>\n",
              "      <th>Order ID</th>\n",
              "      <th>Product</th>\n",
              "      <th>Quantity Ordered</th>\n",
              "      <th>Price Each</th>\n",
              "      <th>Order Date</th>\n",
              "      <th>Purchase Address</th>\n",
              "      <th>Year</th>\n",
              "      <th>Month</th>\n",
              "    </tr>\n",
              "  </thead>\n",
              "  <tbody>\n",
              "    <tr>\n",
              "      <th>0</th>\n",
              "      <td>176558</td>\n",
              "      <td>USB-C Charging Cable</td>\n",
              "      <td>2.0</td>\n",
              "      <td>11.95</td>\n",
              "      <td>2019-04-19 08:46:00</td>\n",
              "      <td>917 1st St, Dallas, TX 75001</td>\n",
              "      <td>2019.0</td>\n",
              "      <td>4.0</td>\n",
              "    </tr>\n",
              "    <tr>\n",
              "      <th>2</th>\n",
              "      <td>176559</td>\n",
              "      <td>Bose SoundSport Headphones</td>\n",
              "      <td>1.0</td>\n",
              "      <td>99.99</td>\n",
              "      <td>2019-04-07 22:30:00</td>\n",
              "      <td>682 Chestnut St, Boston, MA 02215</td>\n",
              "      <td>2019.0</td>\n",
              "      <td>4.0</td>\n",
              "    </tr>\n",
              "    <tr>\n",
              "      <th>3</th>\n",
              "      <td>176560</td>\n",
              "      <td>Google Phone</td>\n",
              "      <td>1.0</td>\n",
              "      <td>600.00</td>\n",
              "      <td>2019-04-12 14:38:00</td>\n",
              "      <td>669 Spruce St, Los Angeles, CA 90001</td>\n",
              "      <td>2019.0</td>\n",
              "      <td>4.0</td>\n",
              "    </tr>\n",
              "    <tr>\n",
              "      <th>4</th>\n",
              "      <td>176560</td>\n",
              "      <td>Wired Headphones</td>\n",
              "      <td>1.0</td>\n",
              "      <td>11.99</td>\n",
              "      <td>2019-04-12 14:38:00</td>\n",
              "      <td>669 Spruce St, Los Angeles, CA 90001</td>\n",
              "      <td>2019.0</td>\n",
              "      <td>4.0</td>\n",
              "    </tr>\n",
              "    <tr>\n",
              "      <th>5</th>\n",
              "      <td>176561</td>\n",
              "      <td>Wired Headphones</td>\n",
              "      <td>1.0</td>\n",
              "      <td>11.99</td>\n",
              "      <td>2019-04-30 09:27:00</td>\n",
              "      <td>333 8th St, Los Angeles, CA 90001</td>\n",
              "      <td>2019.0</td>\n",
              "      <td>4.0</td>\n",
              "    </tr>\n",
              "  </tbody>\n",
              "</table>\n",
              "</div>"
            ],
            "text/plain": [
              "  Order ID                     Product  Quantity Ordered  Price Each  \\\n",
              "0   176558        USB-C Charging Cable               2.0       11.95   \n",
              "2   176559  Bose SoundSport Headphones               1.0       99.99   \n",
              "3   176560                Google Phone               1.0      600.00   \n",
              "4   176560            Wired Headphones               1.0       11.99   \n",
              "5   176561            Wired Headphones               1.0       11.99   \n",
              "\n",
              "           Order Date                      Purchase Address    Year  Month  \n",
              "0 2019-04-19 08:46:00          917 1st St, Dallas, TX 75001  2019.0    4.0  \n",
              "2 2019-04-07 22:30:00     682 Chestnut St, Boston, MA 02215  2019.0    4.0  \n",
              "3 2019-04-12 14:38:00  669 Spruce St, Los Angeles, CA 90001  2019.0    4.0  \n",
              "4 2019-04-12 14:38:00  669 Spruce St, Los Angeles, CA 90001  2019.0    4.0  \n",
              "5 2019-04-30 09:27:00     333 8th St, Los Angeles, CA 90001  2019.0    4.0  "
            ]
          },
          "execution_count": 31,
          "metadata": {},
          "output_type": "execute_result"
        }
      ],
      "source": [
        "#Which month had the best sales?\n",
        "df['Month'] = df['Order Date'].dt.month\n",
        "df.head()"
      ]
    },
    {
      "cell_type": "code",
      "execution_count": 32,
      "metadata": {
        "colab": {
          "base_uri": "https://localhost:8080/",
          "height": 206
        },
        "id": "CQyqUhe-p942",
        "outputId": "1b171123-1e57-4cdc-ef3b-2ad268fd0e5a"
      },
      "outputs": [
        {
          "data": {
            "text/html": [
              "<div>\n",
              "<style scoped>\n",
              "    .dataframe tbody tr th:only-of-type {\n",
              "        vertical-align: middle;\n",
              "    }\n",
              "\n",
              "    .dataframe tbody tr th {\n",
              "        vertical-align: top;\n",
              "    }\n",
              "\n",
              "    .dataframe thead th {\n",
              "        text-align: right;\n",
              "    }\n",
              "</style>\n",
              "<table border=\"1\" class=\"dataframe\">\n",
              "  <thead>\n",
              "    <tr style=\"text-align: right;\">\n",
              "      <th></th>\n",
              "      <th>Order ID</th>\n",
              "      <th>Product</th>\n",
              "      <th>Quantity Ordered</th>\n",
              "      <th>Price Each</th>\n",
              "      <th>Order Date</th>\n",
              "      <th>Purchase Address</th>\n",
              "      <th>Year</th>\n",
              "      <th>Month</th>\n",
              "      <th>Sales</th>\n",
              "    </tr>\n",
              "  </thead>\n",
              "  <tbody>\n",
              "    <tr>\n",
              "      <th>0</th>\n",
              "      <td>176558</td>\n",
              "      <td>USB-C Charging Cable</td>\n",
              "      <td>2.0</td>\n",
              "      <td>11.95</td>\n",
              "      <td>2019-04-19 08:46:00</td>\n",
              "      <td>917 1st St, Dallas, TX 75001</td>\n",
              "      <td>2019.0</td>\n",
              "      <td>4.0</td>\n",
              "      <td>23.90</td>\n",
              "    </tr>\n",
              "    <tr>\n",
              "      <th>2</th>\n",
              "      <td>176559</td>\n",
              "      <td>Bose SoundSport Headphones</td>\n",
              "      <td>1.0</td>\n",
              "      <td>99.99</td>\n",
              "      <td>2019-04-07 22:30:00</td>\n",
              "      <td>682 Chestnut St, Boston, MA 02215</td>\n",
              "      <td>2019.0</td>\n",
              "      <td>4.0</td>\n",
              "      <td>99.99</td>\n",
              "    </tr>\n",
              "    <tr>\n",
              "      <th>3</th>\n",
              "      <td>176560</td>\n",
              "      <td>Google Phone</td>\n",
              "      <td>1.0</td>\n",
              "      <td>600.00</td>\n",
              "      <td>2019-04-12 14:38:00</td>\n",
              "      <td>669 Spruce St, Los Angeles, CA 90001</td>\n",
              "      <td>2019.0</td>\n",
              "      <td>4.0</td>\n",
              "      <td>600.00</td>\n",
              "    </tr>\n",
              "    <tr>\n",
              "      <th>4</th>\n",
              "      <td>176560</td>\n",
              "      <td>Wired Headphones</td>\n",
              "      <td>1.0</td>\n",
              "      <td>11.99</td>\n",
              "      <td>2019-04-12 14:38:00</td>\n",
              "      <td>669 Spruce St, Los Angeles, CA 90001</td>\n",
              "      <td>2019.0</td>\n",
              "      <td>4.0</td>\n",
              "      <td>11.99</td>\n",
              "    </tr>\n",
              "    <tr>\n",
              "      <th>5</th>\n",
              "      <td>176561</td>\n",
              "      <td>Wired Headphones</td>\n",
              "      <td>1.0</td>\n",
              "      <td>11.99</td>\n",
              "      <td>2019-04-30 09:27:00</td>\n",
              "      <td>333 8th St, Los Angeles, CA 90001</td>\n",
              "      <td>2019.0</td>\n",
              "      <td>4.0</td>\n",
              "      <td>11.99</td>\n",
              "    </tr>\n",
              "  </tbody>\n",
              "</table>\n",
              "</div>"
            ],
            "text/plain": [
              "  Order ID                     Product  Quantity Ordered  Price Each  \\\n",
              "0   176558        USB-C Charging Cable               2.0       11.95   \n",
              "2   176559  Bose SoundSport Headphones               1.0       99.99   \n",
              "3   176560                Google Phone               1.0      600.00   \n",
              "4   176560            Wired Headphones               1.0       11.99   \n",
              "5   176561            Wired Headphones               1.0       11.99   \n",
              "\n",
              "           Order Date                      Purchase Address    Year  Month  \\\n",
              "0 2019-04-19 08:46:00          917 1st St, Dallas, TX 75001  2019.0    4.0   \n",
              "2 2019-04-07 22:30:00     682 Chestnut St, Boston, MA 02215  2019.0    4.0   \n",
              "3 2019-04-12 14:38:00  669 Spruce St, Los Angeles, CA 90001  2019.0    4.0   \n",
              "4 2019-04-12 14:38:00  669 Spruce St, Los Angeles, CA 90001  2019.0    4.0   \n",
              "5 2019-04-30 09:27:00     333 8th St, Los Angeles, CA 90001  2019.0    4.0   \n",
              "\n",
              "    Sales  \n",
              "0   23.90  \n",
              "2   99.99  \n",
              "3  600.00  \n",
              "4   11.99  \n",
              "5   11.99  "
            ]
          },
          "execution_count": 32,
          "metadata": {},
          "output_type": "execute_result"
        }
      ],
      "source": [
        "#creat a new column called Sale\n",
        "df['Sales'] = df['Price Each']*df['Quantity Ordered']\n",
        "df.head()"
      ]
    },
    {
      "cell_type": "code",
      "execution_count": 33,
      "metadata": {
        "colab": {
          "base_uri": "https://localhost:8080/"
        },
        "id": "33TRyDgpq3gf",
        "outputId": "8e540e56-bdb6-47c6-a974-c8fd9b5b869c"
      },
      "outputs": [
        {
          "name": "stdout",
          "output_type": "stream",
          "text": [
            "Month\n",
            "1.0     1821413.16\n",
            "9.0     2094465.69\n",
            "2.0     2200078.08\n",
            "8.0     2241083.37\n",
            "6.0     2576280.15\n",
            "7.0     2646461.32\n",
            "3.0     2804973.35\n",
            "5.0     3150616.23\n",
            "11.0    3197875.05\n",
            "4.0     3389217.98\n",
            "10.0    3734777.86\n",
            "12.0    4608295.70\n",
            "Name: Sales, dtype: float64\n"
          ]
        }
      ],
      "source": [
        "#Extract month from 'Order Date'\n",
        "df['Month'] = df['Order Date'].dt.month\n",
        "\n",
        "#Group by 'Month'\n",
        "groupby_month = df.groupby('Month')\n",
        "\n",
        "#Sum sales for each month\n",
        "gross_sales_by_month = groupby_month['Sales'].sum().sort_values()\n",
        "\n",
        "#Display result\n",
        "print(gross_sales_by_month)\n"
      ]
    },
    {
      "cell_type": "code",
      "execution_count": 34,
      "metadata": {
        "id": "uiGs_i16m9Wx"
      },
      "outputs": [
        {
          "data": {
            "text/plain": [
              "Index([1.0, 9.0, 2.0, 8.0, 6.0, 7.0, 3.0, 5.0, 11.0, 4.0, 10.0, 12.0], dtype='float64', name='Month')"
            ]
          },
          "execution_count": 34,
          "metadata": {},
          "output_type": "execute_result"
        }
      ],
      "source": [
        "#here Month is index label not variable\n",
        "gross_sales_by_month.index"
      ]
    },
    {
      "cell_type": "markdown",
      "metadata": {
        "id": "rGnn1mEBvjzm"
      },
      "source": [
        "#### Data Visualisation"
      ]
    },
    {
      "cell_type": "code",
      "execution_count": 35,
      "metadata": {
        "colab": {
          "base_uri": "https://localhost:8080/",
          "height": 445
        },
        "id": "0qFGyJCDs8jZ",
        "outputId": "eb7ececf-6ac8-4b49-f373-3bd289720d8a"
      },
      "outputs": [
        {
          "data": {
            "image/png": "[encoded data removed]",
            "text/plain": [
              "<Figure size 640x480 with 1 Axes>"
            ]
          },
          "metadata": {},
          "output_type": "display_data"
        }
      ],
      "source": [
        "#Data Visualisation\n",
        "plt.bar(gross_sales_by_month.index, gross_sales_by_month)\n",
        "plt.show()"
      ]
    },
    {
      "cell_type": "code",
      "execution_count": 36,
      "metadata": {
        "colab": {
          "base_uri": "https://localhost:8080/",
          "height": 206
        },
        "id": "38e7AQTauZk8",
        "outputId": "ec22a2c6-52e6-46c1-90da-362fab55d9ec"
      },
      "outputs": [
        {
          "data": {
            "text/html": [
              "<div>\n",
              "<style scoped>\n",
              "    .dataframe tbody tr th:only-of-type {\n",
              "        vertical-align: middle;\n",
              "    }\n",
              "\n",
              "    .dataframe tbody tr th {\n",
              "        vertical-align: top;\n",
              "    }\n",
              "\n",
              "    .dataframe thead th {\n",
              "        text-align: right;\n",
              "    }\n",
              "</style>\n",
              "<table border=\"1\" class=\"dataframe\">\n",
              "  <thead>\n",
              "    <tr style=\"text-align: right;\">\n",
              "      <th></th>\n",
              "      <th>Order ID</th>\n",
              "      <th>Product</th>\n",
              "      <th>Quantity Ordered</th>\n",
              "      <th>Price Each</th>\n",
              "      <th>Order Date</th>\n",
              "      <th>Purchase Address</th>\n",
              "      <th>Year</th>\n",
              "      <th>Month</th>\n",
              "      <th>Sales</th>\n",
              "      <th>City</th>\n",
              "    </tr>\n",
              "  </thead>\n",
              "  <tbody>\n",
              "    <tr>\n",
              "      <th>0</th>\n",
              "      <td>176558</td>\n",
              "      <td>USB-C Charging Cable</td>\n",
              "      <td>2.0</td>\n",
              "      <td>11.95</td>\n",
              "      <td>2019-04-19 08:46:00</td>\n",
              "      <td>917 1st St, Dallas, TX 75001</td>\n",
              "      <td>2019.0</td>\n",
              "      <td>4.0</td>\n",
              "      <td>23.90</td>\n",
              "      <td>Dallas</td>\n",
              "    </tr>\n",
              "    <tr>\n",
              "      <th>2</th>\n",
              "      <td>176559</td>\n",
              "      <td>Bose SoundSport Headphones</td>\n",
              "      <td>1.0</td>\n",
              "      <td>99.99</td>\n",
              "      <td>2019-04-07 22:30:00</td>\n",
              "      <td>682 Chestnut St, Boston, MA 02215</td>\n",
              "      <td>2019.0</td>\n",
              "      <td>4.0</td>\n",
              "      <td>99.99</td>\n",
              "      <td>Boston</td>\n",
              "    </tr>\n",
              "    <tr>\n",
              "      <th>3</th>\n",
              "      <td>176560</td>\n",
              "      <td>Google Phone</td>\n",
              "      <td>1.0</td>\n",
              "      <td>600.00</td>\n",
              "      <td>2019-04-12 14:38:00</td>\n",
              "      <td>669 Spruce St, Los Angeles, CA 90001</td>\n",
              "      <td>2019.0</td>\n",
              "      <td>4.0</td>\n",
              "      <td>600.00</td>\n",
              "      <td>Los Angeles</td>\n",
              "    </tr>\n",
              "    <tr>\n",
              "      <th>4</th>\n",
              "      <td>176560</td>\n",
              "      <td>Wired Headphones</td>\n",
              "      <td>1.0</td>\n",
              "      <td>11.99</td>\n",
              "      <td>2019-04-12 14:38:00</td>\n",
              "      <td>669 Spruce St, Los Angeles, CA 90001</td>\n",
              "      <td>2019.0</td>\n",
              "      <td>4.0</td>\n",
              "      <td>11.99</td>\n",
              "      <td>Los Angeles</td>\n",
              "    </tr>\n",
              "    <tr>\n",
              "      <th>5</th>\n",
              "      <td>176561</td>\n",
              "      <td>Wired Headphones</td>\n",
              "      <td>1.0</td>\n",
              "      <td>11.99</td>\n",
              "      <td>2019-04-30 09:27:00</td>\n",
              "      <td>333 8th St, Los Angeles, CA 90001</td>\n",
              "      <td>2019.0</td>\n",
              "      <td>4.0</td>\n",
              "      <td>11.99</td>\n",
              "      <td>Los Angeles</td>\n",
              "    </tr>\n",
              "  </tbody>\n",
              "</table>\n",
              "</div>"
            ],
            "text/plain": [
              "  Order ID                     Product  Quantity Ordered  Price Each  \\\n",
              "0   176558        USB-C Charging Cable               2.0       11.95   \n",
              "2   176559  Bose SoundSport Headphones               1.0       99.99   \n",
              "3   176560                Google Phone               1.0      600.00   \n",
              "4   176560            Wired Headphones               1.0       11.99   \n",
              "5   176561            Wired Headphones               1.0       11.99   \n",
              "\n",
              "           Order Date                      Purchase Address    Year  Month  \\\n",
              "0 2019-04-19 08:46:00          917 1st St, Dallas, TX 75001  2019.0    4.0   \n",
              "2 2019-04-07 22:30:00     682 Chestnut St, Boston, MA 02215  2019.0    4.0   \n",
              "3 2019-04-12 14:38:00  669 Spruce St, Los Angeles, CA 90001  2019.0    4.0   \n",
              "4 2019-04-12 14:38:00  669 Spruce St, Los Angeles, CA 90001  2019.0    4.0   \n",
              "5 2019-04-30 09:27:00     333 8th St, Los Angeles, CA 90001  2019.0    4.0   \n",
              "\n",
              "    Sales         City  \n",
              "0   23.90       Dallas  \n",
              "2   99.99       Boston  \n",
              "3  600.00  Los Angeles  \n",
              "4   11.99  Los Angeles  \n",
              "5   11.99  Los Angeles  "
            ]
          },
          "execution_count": 36,
          "metadata": {},
          "output_type": "execute_result"
        }
      ],
      "source": [
        "def city_from_address(address):\n",
        "    try:\n",
        "        # Split the address by commas\n",
        "        substrs = address.split(',')\n",
        "        \n",
        "        # Ensure there are at least 2 parts (city is the second part)\n",
        "        if len(substrs) >= 2:\n",
        "            city = substrs[1].strip()\n",
        "        else:\n",
        "            city = None  # Return None if the format is unexpected\n",
        "    except Exception as e:\n",
        "        city = None  # If something goes wrong, return None\n",
        "    \n",
        "    return city\n",
        "\n",
        "# Apply the function to create a new 'City' column\n",
        "df['City'] = df['Purchase Address'].apply(city_from_address)\n",
        "\n",
        "# Check the first few rows of the dataframe\n",
        "df.head()\n"
      ]
    },
    {
      "cell_type": "code",
      "execution_count": 37,
      "metadata": {
        "colab": {
          "base_uri": "https://localhost:8080/"
        },
        "id": "saHrBm1fvg4T",
        "outputId": "2cc91df7-5204-4cf3-fa80-e6d588c2a713"
      },
      "outputs": [
        {
          "name": "stdout",
          "output_type": "stream",
          "text": [
            "City\n",
            "Atlanta          2794199.07\n",
            "Austin           1818044.33\n",
            "Boston           3658627.65\n",
            "Dallas           2765373.96\n",
            "Los Angeles      5448304.28\n",
            "New York City    4661867.14\n",
            "Portland         2319331.94\n",
            "San Francisco    8254743.55\n",
            "Seattle          2745046.02\n",
            "Name: Sales, dtype: float64\n"
          ]
        }
      ],
      "source": [
        "# Group by city\n",
        "groupby_city = df.groupby('City')\n",
        "\n",
        "# Sum only the 'Sales' column for each city\n",
        "gross_sales_by_city = groupby_city['Sales'].sum()\n",
        "\n",
        "# Display the result\n",
        "print(gross_sales_by_city)"
      ]
    },
    {
      "cell_type": "code",
      "execution_count": 38,
      "metadata": {
        "colab": {
          "base_uri": "https://localhost:8080/",
          "height": 526
        },
        "id": "C9AWLTPFwOL2",
        "outputId": "984bd863-d350-4e39-ad36-1da4668ef323"
      },
      "outputs": [
        {
          "data": {
            "image/png": "[encoded data removed]",
            "text/plain": [
              "<Figure size 640x480 with 1 Axes>"
            ]
          },
          "metadata": {},
          "output_type": "display_data"
        }
      ],
      "source": [
        "plt.bar(gross_sales_by_city.index,gross_sales_by_city)\n",
        "\n",
        "plt.xticks(rotation = 90)\n",
        "plt.show()"
      ]
    },
    {
      "cell_type": "code",
      "execution_count": 39,
      "metadata": {
        "colab": {
          "base_uri": "https://localhost:8080/"
        },
        "id": "NVjBL0VGws73",
        "outputId": "89e766b9-c344-434c-d119-61ab20321d84"
      },
      "outputs": [
        {
          "name": "stdout",
          "output_type": "stream",
          "text": [
            "Month  City         \n",
            "1.0    Atlanta           149159.54\n",
            "       Austin             88087.06\n",
            "       Boston            201057.75\n",
            "       Dallas            143450.52\n",
            "       Los Angeles       288589.95\n",
            "                           ...    \n",
            "12.0   Los Angeles       682740.98\n",
            "       New York City     646508.85\n",
            "       Portland          303461.13\n",
            "       San Francisco    1105582.13\n",
            "       Seattle           386005.95\n",
            "Name: Sales, Length: 108, dtype: float64\n"
          ]
        }
      ],
      "source": [
        "#Which city makes the best sales across all 12 months\n",
        "\n",
        "#Extract month from 'Order Date' if not already done\n",
        "df['Month'] = df['Order Date'].dt.month\n",
        "\n",
        "#Group by both 'Month' and 'City' and sum the 'Sales' column\n",
        "groupby_data = df.groupby(['Month', 'City'])['Sales'].sum()\n",
        "\n",
        "#Display the result\n",
        "print(groupby_data)\n",
        "\n",
        "\n",
        "\n"
      ]
    },
    {
      "cell_type": "code",
      "execution_count": 40,
      "metadata": {},
      "outputs": [
        {
          "name": "stdout",
          "output_type": "stream",
          "text": [
            "City\n",
            "San Francisco    8254743.55\n",
            "Name: Sales, dtype: float64\n"
          ]
        }
      ],
      "source": [
        "#Sum sales by city across all months\n",
        "total_sales_by_city = groupby_data.groupby('City').sum()\n",
        "\n",
        "#Sort cities by total sales and find the city with the highest sales\n",
        "best_city = total_sales_by_city.sort_values(ascending=False).head(1)\n",
        "\n",
        "#Display the result\n",
        "print(best_city)"
      ]
    },
    {
      "cell_type": "code",
      "execution_count": 41,
      "metadata": {
        "colab": {
          "base_uri": "https://localhost:8080/"
        },
        "id": "71ZkD3Zmxwmm",
        "outputId": "987e30c1-14d3-49d0-dc94-43fd05ea15ad"
      },
      "outputs": [
        {
          "data": {
            "text/plain": [
              "Month  City         \n",
              "1.0    Atlanta          149159.54\n",
              "       Austin            88087.06\n",
              "       Boston           201057.75\n",
              "       Dallas           143450.52\n",
              "       Los Angeles      288589.95\n",
              "       New York City    259829.34\n",
              "       Portland         114985.56\n",
              "       San Francisco    435561.39\n",
              "       Seattle          140692.05\n",
              "2.0    Atlanta          176458.31\n",
              "       Austin           108358.52\n",
              "       Boston           213612.59\n",
              "       Dallas           186656.00\n",
              "       Los Angeles      341958.68\n",
              "       New York City    305372.26\n",
              "       Portland         149439.87\n",
              "       San Francisco    546891.60\n",
              "       Seattle          171330.25\n",
              "3.0    Atlanta          231605.38\n",
              "       Austin           154391.59\n",
              "       Boston           301023.81\n",
              "       Dallas           222373.69\n",
              "       Los Angeles      429613.58\n",
              "       New York City    367226.31\n",
              "       Portland         186948.03\n",
              "       San Francisco    693102.14\n",
              "       Seattle          218688.82\n",
              "Name: Sales, dtype: float64"
            ]
          },
          "execution_count": 41,
          "metadata": {},
          "output_type": "execute_result"
        }
      ],
      "source": [
        "#display information of gross sales in every city for 1st 3 months\n",
        "#loc, accedd a group of rows based on positional index\n",
        "# group_data.loc[3,:] means select a specific row based on 3 and all its columns\n",
        "#why use []? In pandas, using [] to access elements form df, () for function calls\n",
        "groupby_data.loc[1:3, : ]"
      ]
    },
    {
      "cell_type": "code",
      "execution_count": 42,
      "metadata": {
        "colab": {
          "base_uri": "https://localhost:8080/"
        },
        "id": "xAKu2BX3x7vU",
        "outputId": "9740ff80-8ba2-4100-a6dd-cfc8d0799500"
      },
      "outputs": [
        {
          "data": {
            "text/plain": [
              "Month  City   \n",
              "1.0    Atlanta    149159.54\n",
              "2.0    Atlanta    176458.31\n",
              "3.0    Atlanta    231605.38\n",
              "Name: Sales, dtype: float64"
            ]
          },
          "execution_count": 42,
          "metadata": {},
          "output_type": "execute_result"
        }
      ],
      "source": [
        "# Can query individual cities (Example: Atlanta)\n",
        "groupby_data.loc[1:3,'Atlanta']"
      ]
    },
    {
      "cell_type": "code",
      "execution_count": 43,
      "metadata": {
        "colab": {
          "base_uri": "https://localhost:8080/"
        },
        "id": "uLMMgstpyjbP",
        "outputId": "6d8bfbc6-b99a-4193-e389-e778fdd19757"
      },
      "outputs": [
        {
          "data": {
            "text/plain": [
              "Month\n",
              "1.0     201057.75\n",
              "2.0     213612.59\n",
              "3.0     301023.81\n",
              "4.0     353392.17\n",
              "5.0     328791.70\n",
              "6.0     254461.17\n",
              "7.0     291478.35\n",
              "8.0     239260.31\n",
              "9.0     248231.83\n",
              "10.0    367003.51\n",
              "11.0    350834.08\n",
              "12.0    509480.38\n",
              "Name: Sales, dtype: float64"
            ]
          },
          "execution_count": 43,
          "metadata": {},
          "output_type": "execute_result"
        }
      ],
      "source": [
        "#query each month sales for specific city\n",
        "groupby_data.loc[:,'Boston']"
      ]
    },
    {
      "cell_type": "markdown",
      "metadata": {
        "id": "UJxUqHPks1le"
      },
      "source": [
        "# create a line chart to show how the sale change in each city for 12 months?"
      ]
    },
    {
      "cell_type": "code",
      "execution_count": 44,
      "metadata": {
        "colab": {
          "base_uri": "https://localhost:8080/"
        },
        "id": "_4PzKSipyxJO",
        "outputId": "188cb766-890a-4543-e523-43f41284e0a2"
      },
      "outputs": [
        {
          "data": {
            "text/plain": [
              "array(['Dallas', 'Boston', 'Los Angeles', 'San Francisco', 'Seattle',\n",
              "       'Atlanta', 'New York City', 'Portland', 'Austin', None],\n",
              "      dtype=object)"
            ]
          },
          "execution_count": 44,
          "metadata": {},
          "output_type": "execute_result"
        }
      ],
      "source": [
        "# Get a list of cities\n",
        "cities = df['City'].unique() #so there will be no duplicate\n",
        "cities"
      ]
    },
    {
      "cell_type": "code",
      "execution_count": 45,
      "metadata": {},
      "outputs": [
        {
          "name": "stdout",
          "output_type": "stream",
          "text": [
            "City 'None' not found in groupby_data.\n"
          ]
        },
        {
          "data": {
            "image/png": "[encoded data removed]",
            "text/plain": [
              "<Figure size 1500x800 with 1 Axes>"
            ]
          },
          "metadata": {},
          "output_type": "display_data"
        }
      ],
      "source": [
        "fig, ax = plt.subplots(figsize=(15, 8))\n",
        "\n",
        "for city in cities:\n",
        "    #Check if the city exists in the groupby_data index,\n",
        "    #the get_level_values() method in Pandas is used to access the values of a specific level from a MultiIndex.\n",
        "    if city in groupby_data.index.get_level_values('City'):\n",
        "        \n",
        "        #Get the city's 12 months of sales\n",
        "        current_sales = groupby_data.xs(city, level='City')\n",
        "        #The .xs() method is used to filter a specific level of a MultiIndex (in this case, City). \n",
        "\n",
        "        #Plot line plot for this city\n",
        "        ax.plot(current_sales.index, current_sales.values, label=city)  # Month on x-axis, Sales on y-axis\n",
        "    else:\n",
        "        print(f\"City '{city}' not found in groupby_data.\")\n",
        "\n",
        "plt.grid()\n",
        "plt.legend()\n",
        "plt.title(\"Sales by City Across 12 Months\")\n",
        "plt.xlabel(\"Month\")\n",
        "plt.ylabel(\"Sales\")\n",
        "plt.show()\n"
      ]
    }
  ],
  "metadata": {
    "colab": {
      "collapsed_sections": [
        "HNTBgtOLgLyY"
      ],
      "provenance": []
    },
    "kernelspec": {
      "display_name": "Python 3",
      "name": "python3"
    },
    "language_info": {
      "codemirror_mode": {
        "name": "ipython",
        "version": 3
      },
      "file_extension": ".py",
      "mimetype": "text/x-python",
      "name": "python",
      "nbconvert_exporter": "python",
      "pygments_lexer": "ipython3",
      "version": "3.12.4"
    }
  },
  "nbformat": 4,
  "nbformat_minor": 0
}
