{
  "cells": [
    {
      "cell_type": "markdown",
      "metadata": {
        "id": "HNTBgtOLgLyY"
      },
      "source": [
        "## Data Visualisation with Python"
      ]
    },
    {
      "cell_type": "code",
      "execution_count": 1,
      "metadata": {
        "id": "yNKPBDvgViTh"
      },
      "outputs": [
        {
          "name": "stderr",
          "output_type": "stream",
          "text": [
            "/Users/iggyloh/anaconda3/lib/python3.11/site-packages/pandas/core/arrays/masked.py:60: UserWarning: Pandas requires version '1.3.6' or newer of 'bottleneck' (version '1.3.5' currently installed).\n",
            "  from pandas.core import (\n"
          ]
        }
      ],
      "source": [
        "# Import the necessary libraries\n",
        "import pandas as pd\n",
        "import seaborn as sns\n",
        "import numpy as np\n",
        "import matplotlib.pyplot as plt"
      ]
    },
    {
      "cell_type": "markdown",
      "metadata": {
        "id": "gEyMH6nrV5Y8"
      },
      "source": [
        "## Step Process\n",
        "1. Load Data\n",
        "2. Inspect Data\n",
        "3. Clean Data (if needed)\n",
        "4. Explore + Visualise Data\n",
        "5. Derive insights from Data Exploration/Visualisation"
      ]
    },
    {
      "cell_type": "markdown",
      "metadata": {
        "id": "PTcprhAQWQgA"
      },
      "source": [
        "### Example 1: Forbes 2022 Data"
      ]
    },
    {
      "cell_type": "markdown",
      "metadata": {
        "id": "S3jz6Jbhgq6l"
      },
      "source": [
        "#### 1. Load Data"
      ]
    },
    {
      "cell_type": "code",
      "execution_count": 2,
      "metadata": {
        "colab": {
          "base_uri": "https://localhost:8080/",
          "height": 423
        },
        "id": "fPbuxzJdVvB-",
        "outputId": "6c081aa6-5017-4629-de3a-0bf8b30248f4"
      },
      "outputs": [
        {
          "data": {
            "text/html": [
              "<div>\n",
              "<style scoped>\n",
              "    .dataframe tbody tr th:only-of-type {\n",
              "        vertical-align: middle;\n",
              "    }\n",
              "\n",
              "    .dataframe tbody tr th {\n",
              "        vertical-align: top;\n",
              "    }\n",
              "\n",
              "    .dataframe thead th {\n",
              "        text-align: right;\n",
              "    }\n",
              "</style>\n",
              "<table border=\"1\" class=\"dataframe\">\n",
              "  <thead>\n",
              "    <tr style=\"text-align: right;\">\n",
              "      <th></th>\n",
              "      <th>Unnamed: 0</th>\n",
              "      <th>rank</th>\n",
              "      <th>name</th>\n",
              "      <th>networth</th>\n",
              "      <th>age</th>\n",
              "      <th>country</th>\n",
              "      <th>source</th>\n",
              "      <th>industry</th>\n",
              "    </tr>\n",
              "  </thead>\n",
              "  <tbody>\n",
              "    <tr>\n",
              "      <th>0</th>\n",
              "      <td>0</td>\n",
              "      <td>1</td>\n",
              "      <td>Elon Musk</td>\n",
              "      <td>$219 B</td>\n",
              "      <td>50</td>\n",
              "      <td>United States</td>\n",
              "      <td>Tesla, SpaceX</td>\n",
              "      <td>Automotive</td>\n",
              "    </tr>\n",
              "    <tr>\n",
              "      <th>1</th>\n",
              "      <td>1</td>\n",
              "      <td>2</td>\n",
              "      <td>Jeff Bezos</td>\n",
              "      <td>$171 B</td>\n",
              "      <td>58</td>\n",
              "      <td>United States</td>\n",
              "      <td>Amazon</td>\n",
              "      <td>Technology</td>\n",
              "    </tr>\n",
              "    <tr>\n",
              "      <th>2</th>\n",
              "      <td>2</td>\n",
              "      <td>3</td>\n",
              "      <td>Bernard Arnault &amp; family</td>\n",
              "      <td>$158 B</td>\n",
              "      <td>73</td>\n",
              "      <td>France</td>\n",
              "      <td>LVMH</td>\n",
              "      <td>Fashion &amp; Retail</td>\n",
              "    </tr>\n",
              "    <tr>\n",
              "      <th>3</th>\n",
              "      <td>3</td>\n",
              "      <td>4</td>\n",
              "      <td>Bill Gates</td>\n",
              "      <td>$129 B</td>\n",
              "      <td>66</td>\n",
              "      <td>United States</td>\n",
              "      <td>Microsoft</td>\n",
              "      <td>Technology</td>\n",
              "    </tr>\n",
              "    <tr>\n",
              "      <th>4</th>\n",
              "      <td>4</td>\n",
              "      <td>5</td>\n",
              "      <td>Warren Buffett</td>\n",
              "      <td>$118 B</td>\n",
              "      <td>91</td>\n",
              "      <td>United States</td>\n",
              "      <td>Berkshire Hathaway</td>\n",
              "      <td>Finance &amp; Investments</td>\n",
              "    </tr>\n",
              "    <tr>\n",
              "      <th>...</th>\n",
              "      <td>...</td>\n",
              "      <td>...</td>\n",
              "      <td>...</td>\n",
              "      <td>...</td>\n",
              "      <td>...</td>\n",
              "      <td>...</td>\n",
              "      <td>...</td>\n",
              "      <td>...</td>\n",
              "    </tr>\n",
              "    <tr>\n",
              "      <th>2595</th>\n",
              "      <td>2595</td>\n",
              "      <td>2578</td>\n",
              "      <td>Jorge Gallardo Ballart</td>\n",
              "      <td>$1 B</td>\n",
              "      <td>80</td>\n",
              "      <td>Spain</td>\n",
              "      <td>pharmaceuticals</td>\n",
              "      <td>Healthcare</td>\n",
              "    </tr>\n",
              "    <tr>\n",
              "      <th>2596</th>\n",
              "      <td>2596</td>\n",
              "      <td>2578</td>\n",
              "      <td>Nari Genomal</td>\n",
              "      <td>$1 B</td>\n",
              "      <td>82</td>\n",
              "      <td>Philippines</td>\n",
              "      <td>apparel</td>\n",
              "      <td>Fashion &amp; Retail</td>\n",
              "    </tr>\n",
              "    <tr>\n",
              "      <th>2597</th>\n",
              "      <td>2597</td>\n",
              "      <td>2578</td>\n",
              "      <td>Ramesh Genomal</td>\n",
              "      <td>$1 B</td>\n",
              "      <td>71</td>\n",
              "      <td>Philippines</td>\n",
              "      <td>apparel</td>\n",
              "      <td>Fashion &amp; Retail</td>\n",
              "    </tr>\n",
              "    <tr>\n",
              "      <th>2598</th>\n",
              "      <td>2598</td>\n",
              "      <td>2578</td>\n",
              "      <td>Sunder Genomal</td>\n",
              "      <td>$1 B</td>\n",
              "      <td>68</td>\n",
              "      <td>Philippines</td>\n",
              "      <td>garments</td>\n",
              "      <td>Fashion &amp; Retail</td>\n",
              "    </tr>\n",
              "    <tr>\n",
              "      <th>2599</th>\n",
              "      <td>2599</td>\n",
              "      <td>2578</td>\n",
              "      <td>Horst-Otto Gerberding</td>\n",
              "      <td>$1 B</td>\n",
              "      <td>69</td>\n",
              "      <td>Germany</td>\n",
              "      <td>flavors and fragrances</td>\n",
              "      <td>Food &amp; Beverage</td>\n",
              "    </tr>\n",
              "  </tbody>\n",
              "</table>\n",
              "<p>2600 rows × 8 columns</p>\n",
              "</div>"
            ],
            "text/plain": [
              "      Unnamed: 0  rank                       name networth  age  \\\n",
              "0              0     1                 Elon Musk    $219 B   50   \n",
              "1              1     2                Jeff Bezos    $171 B   58   \n",
              "2              2     3  Bernard Arnault & family    $158 B   73   \n",
              "3              3     4                Bill Gates    $129 B   66   \n",
              "4              4     5            Warren Buffett    $118 B   91   \n",
              "...          ...   ...                        ...      ...  ...   \n",
              "2595        2595  2578    Jorge Gallardo Ballart      $1 B   80   \n",
              "2596        2596  2578              Nari Genomal      $1 B   82   \n",
              "2597        2597  2578            Ramesh Genomal      $1 B   71   \n",
              "2598        2598  2578            Sunder Genomal      $1 B   68   \n",
              "2599        2599  2578     Horst-Otto Gerberding      $1 B   69   \n",
              "\n",
              "            country                  source                industry  \n",
              "0     United States           Tesla, SpaceX             Automotive   \n",
              "1     United States                  Amazon             Technology   \n",
              "2            France                    LVMH       Fashion & Retail   \n",
              "3     United States               Microsoft             Technology   \n",
              "4     United States      Berkshire Hathaway  Finance & Investments   \n",
              "...             ...                     ...                     ...  \n",
              "2595          Spain         pharmaceuticals             Healthcare   \n",
              "2596    Philippines                 apparel       Fashion & Retail   \n",
              "2597    Philippines                 apparel       Fashion & Retail   \n",
              "2598    Philippines                garments       Fashion & Retail   \n",
              "2599        Germany  flavors and fragrances        Food & Beverage   \n",
              "\n",
              "[2600 rows x 8 columns]"
            ]
          },
          "execution_count": 2,
          "metadata": {},
          "output_type": "execute_result"
        }
      ],
      "source": [
        "forbes = pd.read_csv('forbes_2022.csv')\n",
        "forbes"
      ]
    },
    {
      "cell_type": "markdown",
      "metadata": {
        "id": "745zRJ8agunC"
      },
      "source": [
        "#### 2. Inspect Data"
      ]
    },
    {
      "cell_type": "code",
      "execution_count": 3,
      "metadata": {
        "colab": {
          "base_uri": "https://localhost:8080/"
        },
        "id": "aOl8fsH6W51W",
        "outputId": "69466bb9-7c30-4b06-90b2-7c5f8ec05444"
      },
      "outputs": [
        {
          "data": {
            "text/plain": [
              "0       False\n",
              "1       False\n",
              "2       False\n",
              "3       False\n",
              "4       False\n",
              "        ...  \n",
              "2595    False\n",
              "2596    False\n",
              "2597    False\n",
              "2598    False\n",
              "2599    False\n",
              "Length: 2600, dtype: bool"
            ]
          },
          "execution_count": 3,
          "metadata": {},
          "output_type": "execute_result"
        }
      ],
      "source": [
        "#If True, means duplicate\n",
        "\n",
        "forbes.duplicated()"
      ]
    },
    {
      "cell_type": "code",
      "execution_count": 5,
      "metadata": {
        "colab": {
          "base_uri": "https://localhost:8080/"
        },
        "id": "SFQOa_IwW8m-",
        "outputId": "d830e4b8-0542-4b1c-cad5-a4302c405dc3"
      },
      "outputs": [
        {
          "data": {
            "text/plain": [
              "0"
            ]
          },
          "execution_count": 5,
          "metadata": {},
          "output_type": "execute_result"
        }
      ],
      "source": [
        "forbes.duplicated().sum()"
      ]
    },
    {
      "cell_type": "code",
      "execution_count": 7,
      "metadata": {
        "colab": {
          "base_uri": "https://localhost:8080/"
        },
        "id": "BYiWkQ46XEb5",
        "outputId": "294dd423-903f-4cf7-db4c-ffdcff3e8166"
      },
      "outputs": [
        {
          "data": {
            "text/plain": [
              "Unnamed: 0    0\n",
              "rank          0\n",
              "name          0\n",
              "networth      0\n",
              "age           0\n",
              "country       0\n",
              "source        0\n",
              "industry      0\n",
              "dtype: int64"
            ]
          },
          "execution_count": 7,
          "metadata": {},
          "output_type": "execute_result"
        }
      ],
      "source": [
        "forbes.isnull().sum()"
      ]
    },
    {
      "cell_type": "code",
      "execution_count": 6,
      "metadata": {
        "id": "nsRhAbMEalv8"
      },
      "outputs": [],
      "source": [
        "#if has null value\n",
        "#forbes.dropna()"
      ]
    },
    {
      "cell_type": "code",
      "execution_count": 9,
      "metadata": {
        "colab": {
          "base_uri": "https://localhost:8080/"
        },
        "id": "-SKw9TcOXIAr",
        "outputId": "49659bee-b129-43a1-f89a-d9c81a062f0e"
      },
      "outputs": [
        {
          "name": "stdout",
          "output_type": "stream",
          "text": [
            "<class 'pandas.core.frame.DataFrame'>\n",
            "RangeIndex: 2600 entries, 0 to 2599\n",
            "Data columns (total 8 columns):\n",
            " #   Column      Non-Null Count  Dtype \n",
            "---  ------      --------------  ----- \n",
            " 0   Unnamed: 0  2600 non-null   int64 \n",
            " 1   rank        2600 non-null   int64 \n",
            " 2   name        2600 non-null   object\n",
            " 3   networth    2600 non-null   object\n",
            " 4   age         2600 non-null   int64 \n",
            " 5   country     2600 non-null   object\n",
            " 6   source      2600 non-null   object\n",
            " 7   industry    2600 non-null   object\n",
            "dtypes: int64(3), object(5)\n",
            "memory usage: 162.6+ KB\n"
          ]
        }
      ],
      "source": [
        "#Check data type, see if the type makes sense\n",
        "forbes.info()"
      ]
    },
    {
      "cell_type": "code",
      "execution_count": null,
      "metadata": {},
      "outputs": [],
      "source": []
    },
    {
      "cell_type": "markdown",
      "metadata": {
        "id": "D_s1D22ig4S_"
      },
      "source": [
        "#### 3. Clean Data"
      ]
    },
    {
      "cell_type": "code",
      "execution_count": 11,
      "metadata": {
        "colab": {
          "base_uri": "https://localhost:8080/"
        },
        "id": "gUh5_VK9XjQt",
        "outputId": "603efde5-7299-481b-c8d0-95a214a296ec"
      },
      "outputs": [
        {
          "ename": "AttributeError",
          "evalue": "Can only use .str accessor with string values!",
          "output_type": "error",
          "traceback": [
            "\u001b[0;31m---------------------------------------------------------------------------\u001b[0m",
            "\u001b[0;31mAttributeError\u001b[0m                            Traceback (most recent call last)",
            "Cell \u001b[0;32mIn[11], line 6\u001b[0m\n\u001b[1;32m      1\u001b[0m \u001b[38;5;66;03m#Dtype is object indicates a generic type that can represent any Python object, including string, numbers..\u001b[39;00m\n\u001b[1;32m      2\u001b[0m \u001b[38;5;66;03m#for a dataframe in pandas, it usually represents string\u001b[39;00m\n\u001b[1;32m      3\u001b[0m \n\u001b[1;32m      4\u001b[0m \u001b[38;5;66;03m#Replace the $ and B with empty string\u001b[39;00m\n\u001b[1;32m      5\u001b[0m \u001b[38;5;66;03m#str.replace(oldvalue,newvalue,count)\u001b[39;00m\n\u001b[0;32m----> 6\u001b[0m forbes[\u001b[38;5;124m'\u001b[39m\u001b[38;5;124mnetworth\u001b[39m\u001b[38;5;124m'\u001b[39m] \u001b[38;5;241m=\u001b[39m forbes[\u001b[38;5;124m'\u001b[39m\u001b[38;5;124mnetworth\u001b[39m\u001b[38;5;124m'\u001b[39m]\u001b[38;5;241m.\u001b[39mstr\u001b[38;5;241m.\u001b[39mreplace(\u001b[38;5;124m'\u001b[39m\u001b[38;5;124m$\u001b[39m\u001b[38;5;124m'\u001b[39m,\u001b[38;5;124m'\u001b[39m\u001b[38;5;124m'\u001b[39m)\n\u001b[1;32m      7\u001b[0m forbes[\u001b[38;5;124m'\u001b[39m\u001b[38;5;124mnetworth\u001b[39m\u001b[38;5;124m'\u001b[39m] \u001b[38;5;241m=\u001b[39m forbes[\u001b[38;5;124m'\u001b[39m\u001b[38;5;124mnetworth\u001b[39m\u001b[38;5;124m'\u001b[39m]\u001b[38;5;241m.\u001b[39mstr\u001b[38;5;241m.\u001b[39mreplace(\u001b[38;5;124m'\u001b[39m\u001b[38;5;124mB\u001b[39m\u001b[38;5;124m'\u001b[39m,\u001b[38;5;124m'\u001b[39m\u001b[38;5;124m'\u001b[39m)\n\u001b[1;32m      9\u001b[0m \u001b[38;5;66;03m#Change type to numeric\u001b[39;00m\n",
            "File \u001b[0;32m~/anaconda3/lib/python3.11/site-packages/pandas/core/generic.py:6299\u001b[0m, in \u001b[0;36mNDFrame.__getattr__\u001b[0;34m(self, name)\u001b[0m\n\u001b[1;32m   6292\u001b[0m \u001b[38;5;28;01mif\u001b[39;00m (\n\u001b[1;32m   6293\u001b[0m     name \u001b[38;5;129;01mnot\u001b[39;00m \u001b[38;5;129;01min\u001b[39;00m \u001b[38;5;28mself\u001b[39m\u001b[38;5;241m.\u001b[39m_internal_names_set\n\u001b[1;32m   6294\u001b[0m     \u001b[38;5;129;01mand\u001b[39;00m name \u001b[38;5;129;01mnot\u001b[39;00m \u001b[38;5;129;01min\u001b[39;00m \u001b[38;5;28mself\u001b[39m\u001b[38;5;241m.\u001b[39m_metadata\n\u001b[1;32m   6295\u001b[0m     \u001b[38;5;129;01mand\u001b[39;00m name \u001b[38;5;129;01mnot\u001b[39;00m \u001b[38;5;129;01min\u001b[39;00m \u001b[38;5;28mself\u001b[39m\u001b[38;5;241m.\u001b[39m_accessors\n\u001b[1;32m   6296\u001b[0m     \u001b[38;5;129;01mand\u001b[39;00m \u001b[38;5;28mself\u001b[39m\u001b[38;5;241m.\u001b[39m_info_axis\u001b[38;5;241m.\u001b[39m_can_hold_identifiers_and_holds_name(name)\n\u001b[1;32m   6297\u001b[0m ):\n\u001b[1;32m   6298\u001b[0m     \u001b[38;5;28;01mreturn\u001b[39;00m \u001b[38;5;28mself\u001b[39m[name]\n\u001b[0;32m-> 6299\u001b[0m \u001b[38;5;28;01mreturn\u001b[39;00m \u001b[38;5;28mobject\u001b[39m\u001b[38;5;241m.\u001b[39m\u001b[38;5;21m__getattribute__\u001b[39m(\u001b[38;5;28mself\u001b[39m, name)\n",
            "File \u001b[0;32m~/anaconda3/lib/python3.11/site-packages/pandas/core/accessor.py:224\u001b[0m, in \u001b[0;36mCachedAccessor.__get__\u001b[0;34m(self, obj, cls)\u001b[0m\n\u001b[1;32m    221\u001b[0m \u001b[38;5;28;01mif\u001b[39;00m obj \u001b[38;5;129;01mis\u001b[39;00m \u001b[38;5;28;01mNone\u001b[39;00m:\n\u001b[1;32m    222\u001b[0m     \u001b[38;5;66;03m# we're accessing the attribute of the class, i.e., Dataset.geo\u001b[39;00m\n\u001b[1;32m    223\u001b[0m     \u001b[38;5;28;01mreturn\u001b[39;00m \u001b[38;5;28mself\u001b[39m\u001b[38;5;241m.\u001b[39m_accessor\n\u001b[0;32m--> 224\u001b[0m accessor_obj \u001b[38;5;241m=\u001b[39m \u001b[38;5;28mself\u001b[39m\u001b[38;5;241m.\u001b[39m_accessor(obj)\n\u001b[1;32m    225\u001b[0m \u001b[38;5;66;03m# Replace the property with the accessor object. Inspired by:\u001b[39;00m\n\u001b[1;32m    226\u001b[0m \u001b[38;5;66;03m# https://www.pydanny.com/cached-property.html\u001b[39;00m\n\u001b[1;32m    227\u001b[0m \u001b[38;5;66;03m# We need to use object.__setattr__ because we overwrite __setattr__ on\u001b[39;00m\n\u001b[1;32m    228\u001b[0m \u001b[38;5;66;03m# NDFrame\u001b[39;00m\n\u001b[1;32m    229\u001b[0m \u001b[38;5;28mobject\u001b[39m\u001b[38;5;241m.\u001b[39m\u001b[38;5;21m__setattr__\u001b[39m(obj, \u001b[38;5;28mself\u001b[39m\u001b[38;5;241m.\u001b[39m_name, accessor_obj)\n",
            "File \u001b[0;32m~/anaconda3/lib/python3.11/site-packages/pandas/core/strings/accessor.py:191\u001b[0m, in \u001b[0;36mStringMethods.__init__\u001b[0;34m(self, data)\u001b[0m\n\u001b[1;32m    188\u001b[0m \u001b[38;5;28;01mdef\u001b[39;00m \u001b[38;5;21m__init__\u001b[39m(\u001b[38;5;28mself\u001b[39m, data) \u001b[38;5;241m-\u001b[39m\u001b[38;5;241m>\u001b[39m \u001b[38;5;28;01mNone\u001b[39;00m:\n\u001b[1;32m    189\u001b[0m     \u001b[38;5;28;01mfrom\u001b[39;00m \u001b[38;5;21;01mpandas\u001b[39;00m\u001b[38;5;21;01m.\u001b[39;00m\u001b[38;5;21;01mcore\u001b[39;00m\u001b[38;5;21;01m.\u001b[39;00m\u001b[38;5;21;01marrays\u001b[39;00m\u001b[38;5;21;01m.\u001b[39;00m\u001b[38;5;21;01mstring_\u001b[39;00m \u001b[38;5;28;01mimport\u001b[39;00m StringDtype\n\u001b[0;32m--> 191\u001b[0m     \u001b[38;5;28mself\u001b[39m\u001b[38;5;241m.\u001b[39m_inferred_dtype \u001b[38;5;241m=\u001b[39m \u001b[38;5;28mself\u001b[39m\u001b[38;5;241m.\u001b[39m_validate(data)\n\u001b[1;32m    192\u001b[0m     \u001b[38;5;28mself\u001b[39m\u001b[38;5;241m.\u001b[39m_is_categorical \u001b[38;5;241m=\u001b[39m \u001b[38;5;28misinstance\u001b[39m(data\u001b[38;5;241m.\u001b[39mdtype, CategoricalDtype)\n\u001b[1;32m    193\u001b[0m     \u001b[38;5;28mself\u001b[39m\u001b[38;5;241m.\u001b[39m_is_string \u001b[38;5;241m=\u001b[39m \u001b[38;5;28misinstance\u001b[39m(data\u001b[38;5;241m.\u001b[39mdtype, StringDtype)\n",
            "File \u001b[0;32m~/anaconda3/lib/python3.11/site-packages/pandas/core/strings/accessor.py:245\u001b[0m, in \u001b[0;36mStringMethods._validate\u001b[0;34m(data)\u001b[0m\n\u001b[1;32m    242\u001b[0m inferred_dtype \u001b[38;5;241m=\u001b[39m lib\u001b[38;5;241m.\u001b[39minfer_dtype(values, skipna\u001b[38;5;241m=\u001b[39m\u001b[38;5;28;01mTrue\u001b[39;00m)\n\u001b[1;32m    244\u001b[0m \u001b[38;5;28;01mif\u001b[39;00m inferred_dtype \u001b[38;5;129;01mnot\u001b[39;00m \u001b[38;5;129;01min\u001b[39;00m allowed_types:\n\u001b[0;32m--> 245\u001b[0m     \u001b[38;5;28;01mraise\u001b[39;00m \u001b[38;5;167;01mAttributeError\u001b[39;00m(\u001b[38;5;124m\"\u001b[39m\u001b[38;5;124mCan only use .str accessor with string values!\u001b[39m\u001b[38;5;124m\"\u001b[39m)\n\u001b[1;32m    246\u001b[0m \u001b[38;5;28;01mreturn\u001b[39;00m inferred_dtype\n",
            "\u001b[0;31mAttributeError\u001b[0m: Can only use .str accessor with string values!"
          ]
        }
      ],
      "source": [
        "#Dtype is object indicates a generic type that can represent any Python object, including string, numbers..\n",
        "#for a dataframe in pandas, it usually represents string\n",
        "\n",
        "#Replace the $ and B with empty string\n",
        "#str.replace(oldvalue,newvalue,count)\n",
        "forbes['networth'] = forbes['networth'].str.replace('$','')\n",
        "forbes['networth'] = forbes['networth'].str.replace('B','')\n",
        "\n",
        "#Change type to numeric\n",
        "forbes['networth'] = pd.to_numeric(forbes['networth'])\n"
      ]
    },
    {
      "cell_type": "markdown",
      "metadata": {
        "id": "S98esECag_5s"
      },
      "source": [
        "#### 4. Explore Data"
      ]
    },
    {
      "cell_type": "code",
      "execution_count": 13,
      "metadata": {
        "colab": {
          "base_uri": "https://localhost:8080/",
          "height": 206
        },
        "id": "E18asV1vYI9d",
        "outputId": "8bf8acff-3362-468f-ee1f-d889fe26405c"
      },
      "outputs": [
        {
          "data": {
            "text/html": [
              "<div>\n",
              "<style scoped>\n",
              "    .dataframe tbody tr th:only-of-type {\n",
              "        vertical-align: middle;\n",
              "    }\n",
              "\n",
              "    .dataframe tbody tr th {\n",
              "        vertical-align: top;\n",
              "    }\n",
              "\n",
              "    .dataframe thead th {\n",
              "        text-align: right;\n",
              "    }\n",
              "</style>\n",
              "<table border=\"1\" class=\"dataframe\">\n",
              "  <thead>\n",
              "    <tr style=\"text-align: right;\">\n",
              "      <th></th>\n",
              "      <th>Unnamed: 0</th>\n",
              "      <th>rank</th>\n",
              "      <th>name</th>\n",
              "      <th>networth</th>\n",
              "      <th>age</th>\n",
              "      <th>country</th>\n",
              "      <th>source</th>\n",
              "      <th>industry</th>\n",
              "    </tr>\n",
              "  </thead>\n",
              "  <tbody>\n",
              "    <tr>\n",
              "      <th>0</th>\n",
              "      <td>0</td>\n",
              "      <td>1</td>\n",
              "      <td>Elon Musk</td>\n",
              "      <td>219.0</td>\n",
              "      <td>50</td>\n",
              "      <td>United States</td>\n",
              "      <td>Tesla, SpaceX</td>\n",
              "      <td>Automotive</td>\n",
              "    </tr>\n",
              "    <tr>\n",
              "      <th>1</th>\n",
              "      <td>1</td>\n",
              "      <td>2</td>\n",
              "      <td>Jeff Bezos</td>\n",
              "      <td>171.0</td>\n",
              "      <td>58</td>\n",
              "      <td>United States</td>\n",
              "      <td>Amazon</td>\n",
              "      <td>Technology</td>\n",
              "    </tr>\n",
              "    <tr>\n",
              "      <th>2</th>\n",
              "      <td>2</td>\n",
              "      <td>3</td>\n",
              "      <td>Bernard Arnault &amp; family</td>\n",
              "      <td>158.0</td>\n",
              "      <td>73</td>\n",
              "      <td>France</td>\n",
              "      <td>LVMH</td>\n",
              "      <td>Fashion &amp; Retail</td>\n",
              "    </tr>\n",
              "    <tr>\n",
              "      <th>3</th>\n",
              "      <td>3</td>\n",
              "      <td>4</td>\n",
              "      <td>Bill Gates</td>\n",
              "      <td>129.0</td>\n",
              "      <td>66</td>\n",
              "      <td>United States</td>\n",
              "      <td>Microsoft</td>\n",
              "      <td>Technology</td>\n",
              "    </tr>\n",
              "    <tr>\n",
              "      <th>4</th>\n",
              "      <td>4</td>\n",
              "      <td>5</td>\n",
              "      <td>Warren Buffett</td>\n",
              "      <td>118.0</td>\n",
              "      <td>91</td>\n",
              "      <td>United States</td>\n",
              "      <td>Berkshire Hathaway</td>\n",
              "      <td>Finance &amp; Investments</td>\n",
              "    </tr>\n",
              "  </tbody>\n",
              "</table>\n",
              "</div>"
            ],
            "text/plain": [
              "   Unnamed: 0  rank                       name  networth  age        country  \\\n",
              "0           0     1                 Elon Musk      219.0   50  United States   \n",
              "1           1     2                Jeff Bezos      171.0   58  United States   \n",
              "2           2     3  Bernard Arnault & family      158.0   73         France   \n",
              "3           3     4                Bill Gates      129.0   66  United States   \n",
              "4           4     5            Warren Buffett      118.0   91  United States   \n",
              "\n",
              "               source                industry  \n",
              "0       Tesla, SpaceX             Automotive   \n",
              "1              Amazon             Technology   \n",
              "2                LVMH       Fashion & Retail   \n",
              "3           Microsoft             Technology   \n",
              "4  Berkshire Hathaway  Finance & Investments   "
            ]
          },
          "execution_count": 13,
          "metadata": {},
          "output_type": "execute_result"
        }
      ],
      "source": [
        "forbes.head()"
      ]
    },
    {
      "cell_type": "code",
      "execution_count": 18,
      "metadata": {
        "colab": {
          "base_uri": "https://localhost:8080/"
        },
        "id": "vyPuURZZYcAr",
        "outputId": "947eabd3-3834-4724-917d-6b11aa9eb806"
      },
      "outputs": [
        {
          "data": {
            "text/plain": [
              "<bound method Series.sort_index of country\n",
              "United States           719\n",
              "China                   515\n",
              "India                   161\n",
              "Germany                 130\n",
              "Russia                   81\n",
              "                       ... \n",
              "Venezuela                 1\n",
              "Portugal                  1\n",
              "Algeria                   1\n",
              "Eswatini (Swaziland)      1\n",
              "Estonia                   1\n",
              "Name: count, Length: 75, dtype: int64>"
            ]
          },
          "execution_count": 18,
          "metadata": {},
          "output_type": "execute_result"
        }
      ],
      "source": [
        "# Finding the industry with the highest number of billionaires\n",
        "#value_counts() counts the frequency of unique values in specific columns of a dataframe\n",
        "forbes['country'].value_counts().sort_index"
      ]
    },
    {
      "cell_type": "code",
      "execution_count": 24,
      "metadata": {
        "colab": {
          "base_uri": "https://localhost:8080/"
        },
        "id": "bBm50NQtYznW",
        "outputId": "d64deb66-1be0-4da3-f788-d71ba2c0e633"
      },
      "outputs": [
        {
          "data": {
            "text/plain": [
              "industry\n",
              "Finance & Investments     386\n",
              "Technology                329\n",
              "Manufacturing             322\n",
              "Fashion & Retail          246\n",
              "Healthcare                212\n",
              "Name: count, dtype: int64"
            ]
          },
          "execution_count": 24,
          "metadata": {},
          "output_type": "execute_result"
        }
      ],
      "source": [
        "# To display the top 5 industries with the most number of billionaires\n",
        "forbes['industry'].value_counts()[:5]"
      ]
    },
    {
      "cell_type": "code",
      "execution_count": 25,
      "metadata": {
        "colab": {
          "base_uri": "https://localhost:8080/",
          "height": 612
        },
        "id": "KayBfo93ZFtY",
        "outputId": "5756324d-41d1-4bfd-804a-9b2d209f3bfc"
      },
      "outputs": [
        {
          "data": {
            "text/plain": [
              "<Axes: xlabel='industry'>"
            ]
          },
          "execution_count": 25,
          "metadata": {},
          "output_type": "execute_result"
        },
        {
          "data": {
            "image/png": "[encoded data removed]",
            "text/plain": [
              "<Figure size 640x480 with 1 Axes>"
            ]
          },
          "metadata": {},
          "output_type": "display_data"
        }
      ],
      "source": [
        "# show the number of billionaires in each industry with bar chart\n",
        "forbes['industry'].value_counts().plot(kind='bar')"
      ]
    },
    {
      "cell_type": "code",
      "execution_count": 27,
      "metadata": {
        "colab": {
          "base_uri": "https://localhost:8080/",
          "height": 430
        },
        "id": "VE2oxd_wZmlN",
        "outputId": "622f495f-c776-47a2-b791-edbad9013769"
      },
      "outputs": [
        {
          "data": {
            "text/plain": [
              "<Axes: ylabel='industry'>"
            ]
          },
          "execution_count": 27,
          "metadata": {},
          "output_type": "execute_result"
        },
        {
          "data": {
            "image/png": "[encoded data removed]",
            "text/plain": [
              "<Figure size 640x480 with 1 Axes>"
            ]
          },
          "metadata": {},
          "output_type": "display_data"
        }
      ],
      "source": [
        "#Horizontal bar\n",
        "forbes['industry'].value_counts()[:5].plot(kind='barh')"
      ]
    },
    {
      "cell_type": "code",
      "execution_count": 29,
      "metadata": {
        "colab": {
          "base_uri": "https://localhost:8080/"
        },
        "id": "CTO16LAqZ0m4",
        "outputId": "e97f997d-75ff-4a23-9698-c3ce4a4ec802"
      },
      "outputs": [
        {
          "data": {
            "text/plain": [
              "<Axes: xlabel='country'>"
            ]
          },
          "execution_count": 29,
          "metadata": {},
          "output_type": "execute_result"
        },
        {
          "data": {
            "image/png": "[encoded data removed]",
            "text/plain": [
              "<Figure size 640x480 with 1 Axes>"
            ]
          },
          "metadata": {},
          "output_type": "display_data"
        }
      ],
      "source": [
        "# Finding the country with the highest number of billionaires\n",
        "forbes['country'].value_counts()[:5].plot(kind='bar')"
      ]
    },
    {
      "cell_type": "code",
      "execution_count": null,
      "metadata": {
        "colab": {
          "base_uri": "https://localhost:8080/"
        },
        "id": "MIGWloAgaLER",
        "outputId": "3d2bdf66-2150-4fd7-fb32-6889217157a7"
      },
      "outputs": [],
      "source": [
        "#display the top 3 countries with the most billionaries\n"
      ]
    },
    {
      "cell_type": "code",
      "execution_count": 30,
      "metadata": {
        "colab": {
          "base_uri": "https://localhost:8080/",
          "height": 676
        },
        "id": "tnojr-qBbMF_",
        "outputId": "741a93b0-e9ef-41f1-d071-1e6c2e28ca42"
      },
      "outputs": [
        {
          "data": {
            "text/html": [
              "<div>\n",
              "<style scoped>\n",
              "    .dataframe tbody tr th:only-of-type {\n",
              "        vertical-align: middle;\n",
              "    }\n",
              "\n",
              "    .dataframe tbody tr th {\n",
              "        vertical-align: top;\n",
              "    }\n",
              "\n",
              "    .dataframe thead th {\n",
              "        text-align: right;\n",
              "    }\n",
              "</style>\n",
              "<table border=\"1\" class=\"dataframe\">\n",
              "  <thead>\n",
              "    <tr style=\"text-align: right;\">\n",
              "      <th></th>\n",
              "      <th>Unnamed: 0</th>\n",
              "      <th>rank</th>\n",
              "      <th>name</th>\n",
              "      <th>networth</th>\n",
              "      <th>age</th>\n",
              "      <th>country</th>\n",
              "      <th>source</th>\n",
              "      <th>industry</th>\n",
              "    </tr>\n",
              "  </thead>\n",
              "  <tbody>\n",
              "    <tr>\n",
              "      <th>0</th>\n",
              "      <td>0</td>\n",
              "      <td>1</td>\n",
              "      <td>Elon Musk</td>\n",
              "      <td>219.0</td>\n",
              "      <td>50</td>\n",
              "      <td>United States</td>\n",
              "      <td>Tesla, SpaceX</td>\n",
              "      <td>Automotive</td>\n",
              "    </tr>\n",
              "    <tr>\n",
              "      <th>1</th>\n",
              "      <td>1</td>\n",
              "      <td>2</td>\n",
              "      <td>Jeff Bezos</td>\n",
              "      <td>171.0</td>\n",
              "      <td>58</td>\n",
              "      <td>United States</td>\n",
              "      <td>Amazon</td>\n",
              "      <td>Technology</td>\n",
              "    </tr>\n",
              "    <tr>\n",
              "      <th>2</th>\n",
              "      <td>2</td>\n",
              "      <td>3</td>\n",
              "      <td>Bernard Arnault &amp; family</td>\n",
              "      <td>158.0</td>\n",
              "      <td>73</td>\n",
              "      <td>France</td>\n",
              "      <td>LVMH</td>\n",
              "      <td>Fashion &amp; Retail</td>\n",
              "    </tr>\n",
              "    <tr>\n",
              "      <th>3</th>\n",
              "      <td>3</td>\n",
              "      <td>4</td>\n",
              "      <td>Bill Gates</td>\n",
              "      <td>129.0</td>\n",
              "      <td>66</td>\n",
              "      <td>United States</td>\n",
              "      <td>Microsoft</td>\n",
              "      <td>Technology</td>\n",
              "    </tr>\n",
              "    <tr>\n",
              "      <th>4</th>\n",
              "      <td>4</td>\n",
              "      <td>5</td>\n",
              "      <td>Warren Buffett</td>\n",
              "      <td>118.0</td>\n",
              "      <td>91</td>\n",
              "      <td>United States</td>\n",
              "      <td>Berkshire Hathaway</td>\n",
              "      <td>Finance &amp; Investments</td>\n",
              "    </tr>\n",
              "    <tr>\n",
              "      <th>5</th>\n",
              "      <td>5</td>\n",
              "      <td>6</td>\n",
              "      <td>Larry Page</td>\n",
              "      <td>111.0</td>\n",
              "      <td>49</td>\n",
              "      <td>United States</td>\n",
              "      <td>Google</td>\n",
              "      <td>Technology</td>\n",
              "    </tr>\n",
              "    <tr>\n",
              "      <th>6</th>\n",
              "      <td>6</td>\n",
              "      <td>7</td>\n",
              "      <td>Sergey Brin</td>\n",
              "      <td>107.0</td>\n",
              "      <td>48</td>\n",
              "      <td>United States</td>\n",
              "      <td>Google</td>\n",
              "      <td>Technology</td>\n",
              "    </tr>\n",
              "    <tr>\n",
              "      <th>7</th>\n",
              "      <td>7</td>\n",
              "      <td>8</td>\n",
              "      <td>Larry Ellison</td>\n",
              "      <td>106.0</td>\n",
              "      <td>77</td>\n",
              "      <td>United States</td>\n",
              "      <td>software</td>\n",
              "      <td>Technology</td>\n",
              "    </tr>\n",
              "    <tr>\n",
              "      <th>8</th>\n",
              "      <td>8</td>\n",
              "      <td>9</td>\n",
              "      <td>Steve Ballmer</td>\n",
              "      <td>91.4</td>\n",
              "      <td>66</td>\n",
              "      <td>United States</td>\n",
              "      <td>Microsoft</td>\n",
              "      <td>Technology</td>\n",
              "    </tr>\n",
              "    <tr>\n",
              "      <th>9</th>\n",
              "      <td>9</td>\n",
              "      <td>10</td>\n",
              "      <td>Mukesh Ambani</td>\n",
              "      <td>90.7</td>\n",
              "      <td>64</td>\n",
              "      <td>India</td>\n",
              "      <td>diversified</td>\n",
              "      <td>Diversified</td>\n",
              "    </tr>\n",
              "    <tr>\n",
              "      <th>10</th>\n",
              "      <td>10</td>\n",
              "      <td>11</td>\n",
              "      <td>Gautam Adani &amp; family</td>\n",
              "      <td>90.0</td>\n",
              "      <td>59</td>\n",
              "      <td>India</td>\n",
              "      <td>infrastructure, commodities</td>\n",
              "      <td>Diversified</td>\n",
              "    </tr>\n",
              "    <tr>\n",
              "      <th>11</th>\n",
              "      <td>11</td>\n",
              "      <td>12</td>\n",
              "      <td>Michael Bloomberg</td>\n",
              "      <td>82.0</td>\n",
              "      <td>80</td>\n",
              "      <td>United States</td>\n",
              "      <td>Bloomberg LP</td>\n",
              "      <td>Media &amp; Entertainment</td>\n",
              "    </tr>\n",
              "    <tr>\n",
              "      <th>12</th>\n",
              "      <td>12</td>\n",
              "      <td>13</td>\n",
              "      <td>Carlos Slim Helu &amp; family</td>\n",
              "      <td>81.2</td>\n",
              "      <td>82</td>\n",
              "      <td>Mexico</td>\n",
              "      <td>telecom</td>\n",
              "      <td>Telecom</td>\n",
              "    </tr>\n",
              "    <tr>\n",
              "      <th>13</th>\n",
              "      <td>13</td>\n",
              "      <td>14</td>\n",
              "      <td>Francoise Bettencourt Meyers &amp; family</td>\n",
              "      <td>74.8</td>\n",
              "      <td>68</td>\n",
              "      <td>France</td>\n",
              "      <td>L'Oréal</td>\n",
              "      <td>Fashion &amp; Retail</td>\n",
              "    </tr>\n",
              "    <tr>\n",
              "      <th>14</th>\n",
              "      <td>14</td>\n",
              "      <td>15</td>\n",
              "      <td>Mark Zuckerberg</td>\n",
              "      <td>67.3</td>\n",
              "      <td>37</td>\n",
              "      <td>United States</td>\n",
              "      <td>Facebook</td>\n",
              "      <td>Technology</td>\n",
              "    </tr>\n",
              "    <tr>\n",
              "      <th>15</th>\n",
              "      <td>15</td>\n",
              "      <td>16</td>\n",
              "      <td>Jim Walton</td>\n",
              "      <td>66.2</td>\n",
              "      <td>73</td>\n",
              "      <td>United States</td>\n",
              "      <td>Walmart</td>\n",
              "      <td>Fashion &amp; Retail</td>\n",
              "    </tr>\n",
              "    <tr>\n",
              "      <th>16</th>\n",
              "      <td>16</td>\n",
              "      <td>17</td>\n",
              "      <td>Zhong Shanshan</td>\n",
              "      <td>65.7</td>\n",
              "      <td>67</td>\n",
              "      <td>China</td>\n",
              "      <td>beverages, pharmaceuticals</td>\n",
              "      <td>Food &amp; Beverage</td>\n",
              "    </tr>\n",
              "    <tr>\n",
              "      <th>17</th>\n",
              "      <td>17</td>\n",
              "      <td>18</td>\n",
              "      <td>Alice Walton</td>\n",
              "      <td>65.3</td>\n",
              "      <td>72</td>\n",
              "      <td>United States</td>\n",
              "      <td>Walmart</td>\n",
              "      <td>Fashion &amp; Retail</td>\n",
              "    </tr>\n",
              "    <tr>\n",
              "      <th>18</th>\n",
              "      <td>18</td>\n",
              "      <td>19</td>\n",
              "      <td>Rob Walton</td>\n",
              "      <td>65.0</td>\n",
              "      <td>77</td>\n",
              "      <td>United States</td>\n",
              "      <td>Walmart</td>\n",
              "      <td>Fashion &amp; Retail</td>\n",
              "    </tr>\n",
              "    <tr>\n",
              "      <th>19</th>\n",
              "      <td>19</td>\n",
              "      <td>19</td>\n",
              "      <td>Changpeng Zhao</td>\n",
              "      <td>65.0</td>\n",
              "      <td>44</td>\n",
              "      <td>Canada</td>\n",
              "      <td>cryptocurrency exchange</td>\n",
              "      <td>Finance &amp; Investments</td>\n",
              "    </tr>\n",
              "    <tr>\n",
              "      <th>20</th>\n",
              "      <td>20</td>\n",
              "      <td>21</td>\n",
              "      <td>Charles Koch</td>\n",
              "      <td>60.0</td>\n",
              "      <td>86</td>\n",
              "      <td>United States</td>\n",
              "      <td>Koch Industries</td>\n",
              "      <td>Diversified</td>\n",
              "    </tr>\n",
              "    <tr>\n",
              "      <th>21</th>\n",
              "      <td>21</td>\n",
              "      <td>21</td>\n",
              "      <td>Julia Koch &amp; family</td>\n",
              "      <td>60.0</td>\n",
              "      <td>59</td>\n",
              "      <td>United States</td>\n",
              "      <td>Koch Industries</td>\n",
              "      <td>Diversified</td>\n",
              "    </tr>\n",
              "  </tbody>\n",
              "</table>\n",
              "</div>"
            ],
            "text/plain": [
              "    Unnamed: 0  rank                                    name  networth  age  \\\n",
              "0            0     1                              Elon Musk      219.0   50   \n",
              "1            1     2                             Jeff Bezos      171.0   58   \n",
              "2            2     3               Bernard Arnault & family      158.0   73   \n",
              "3            3     4                             Bill Gates      129.0   66   \n",
              "4            4     5                         Warren Buffett      118.0   91   \n",
              "5            5     6                             Larry Page      111.0   49   \n",
              "6            6     7                            Sergey Brin      107.0   48   \n",
              "7            7     8                          Larry Ellison      106.0   77   \n",
              "8            8     9                          Steve Ballmer       91.4   66   \n",
              "9            9    10                          Mukesh Ambani       90.7   64   \n",
              "10          10    11                  Gautam Adani & family       90.0   59   \n",
              "11          11    12                      Michael Bloomberg       82.0   80   \n",
              "12          12    13              Carlos Slim Helu & family       81.2   82   \n",
              "13          13    14  Francoise Bettencourt Meyers & family       74.8   68   \n",
              "14          14    15                        Mark Zuckerberg       67.3   37   \n",
              "15          15    16                             Jim Walton       66.2   73   \n",
              "16          16    17                         Zhong Shanshan       65.7   67   \n",
              "17          17    18                           Alice Walton       65.3   72   \n",
              "18          18    19                             Rob Walton       65.0   77   \n",
              "19          19    19                         Changpeng Zhao       65.0   44   \n",
              "20          20    21                           Charles Koch       60.0   86   \n",
              "21          21    21                    Julia Koch & family       60.0   59   \n",
              "\n",
              "          country                       source                industry  \n",
              "0   United States                Tesla, SpaceX             Automotive   \n",
              "1   United States                       Amazon             Technology   \n",
              "2          France                         LVMH       Fashion & Retail   \n",
              "3   United States                    Microsoft             Technology   \n",
              "4   United States           Berkshire Hathaway  Finance & Investments   \n",
              "5   United States                       Google             Technology   \n",
              "6   United States                       Google             Technology   \n",
              "7   United States                     software             Technology   \n",
              "8   United States                    Microsoft             Technology   \n",
              "9           India                  diversified            Diversified   \n",
              "10          India  infrastructure, commodities            Diversified   \n",
              "11  United States                 Bloomberg LP  Media & Entertainment   \n",
              "12         Mexico                      telecom                Telecom   \n",
              "13         France                      L'Oréal       Fashion & Retail   \n",
              "14  United States                     Facebook             Technology   \n",
              "15  United States                      Walmart       Fashion & Retail   \n",
              "16          China   beverages, pharmaceuticals        Food & Beverage   \n",
              "17  United States                      Walmart       Fashion & Retail   \n",
              "18  United States                      Walmart       Fashion & Retail   \n",
              "19         Canada      cryptocurrency exchange  Finance & Investments   \n",
              "20  United States              Koch Industries            Diversified   \n",
              "21  United States              Koch Industries            Diversified   "
            ]
          },
          "execution_count": 30,
          "metadata": {},
          "output_type": "execute_result"
        }
      ],
      "source": [
        "# Find the billionaires with networth more than 60 billion dollars\n",
        "#To filter a dataframe base on a condition, we need to use dataframe[condition] where the condition is a boolean expression\n",
        "#condition=forbes['networth']>=60,True-more than or equal 60, False-less than 60\n",
        "forbes[forbes['networth']>=60]\n",
        "# OR\n"
      ]
    },
    {
      "cell_type": "code",
      "execution_count": 35,
      "metadata": {
        "id": "8nz-weahLS6u"
      },
      "outputs": [
        {
          "data": {
            "text/html": [
              "<div>\n",
              "<style scoped>\n",
              "    .dataframe tbody tr th:only-of-type {\n",
              "        vertical-align: middle;\n",
              "    }\n",
              "\n",
              "    .dataframe tbody tr th {\n",
              "        vertical-align: top;\n",
              "    }\n",
              "\n",
              "    .dataframe thead th {\n",
              "        text-align: right;\n",
              "    }\n",
              "</style>\n",
              "<table border=\"1\" class=\"dataframe\">\n",
              "  <thead>\n",
              "    <tr style=\"text-align: right;\">\n",
              "      <th></th>\n",
              "      <th>Unnamed: 0</th>\n",
              "      <th>rank</th>\n",
              "      <th>name</th>\n",
              "      <th>networth</th>\n",
              "      <th>age</th>\n",
              "      <th>country</th>\n",
              "      <th>source</th>\n",
              "      <th>industry</th>\n",
              "    </tr>\n",
              "  </thead>\n",
              "  <tbody>\n",
              "    <tr>\n",
              "      <th>1311</th>\n",
              "      <td>1311</td>\n",
              "      <td>1292</td>\n",
              "      <td>Kevin David Lehmann</td>\n",
              "      <td>2.4</td>\n",
              "      <td>19</td>\n",
              "      <td>Germany</td>\n",
              "      <td>drugstores</td>\n",
              "      <td>Fashion &amp; Retail</td>\n",
              "    </tr>\n",
              "    <tr>\n",
              "      <th>2062</th>\n",
              "      <td>2062</td>\n",
              "      <td>1929</td>\n",
              "      <td>Wang Zelong</td>\n",
              "      <td>1.5</td>\n",
              "      <td>25</td>\n",
              "      <td>China</td>\n",
              "      <td>chemicals</td>\n",
              "      <td>Metals &amp; Mining</td>\n",
              "    </tr>\n",
              "    <tr>\n",
              "      <th>1975</th>\n",
              "      <td>1975</td>\n",
              "      <td>1929</td>\n",
              "      <td>Pedro Franceschi</td>\n",
              "      <td>1.5</td>\n",
              "      <td>25</td>\n",
              "      <td>Brazil</td>\n",
              "      <td>fintech</td>\n",
              "      <td>Finance &amp; Investments</td>\n",
              "    </tr>\n",
              "    <tr>\n",
              "      <th>2190</th>\n",
              "      <td>2190</td>\n",
              "      <td>2190</td>\n",
              "      <td>Alexandra Andresen</td>\n",
              "      <td>1.3</td>\n",
              "      <td>25</td>\n",
              "      <td>Norway</td>\n",
              "      <td>investments</td>\n",
              "      <td>Diversified</td>\n",
              "    </tr>\n",
              "    <tr>\n",
              "      <th>1961</th>\n",
              "      <td>1961</td>\n",
              "      <td>1929</td>\n",
              "      <td>Henrique Dubugras</td>\n",
              "      <td>1.5</td>\n",
              "      <td>26</td>\n",
              "      <td>Brazil</td>\n",
              "      <td>fintech</td>\n",
              "      <td>Finance &amp; Investments</td>\n",
              "    </tr>\n",
              "  </tbody>\n",
              "</table>\n",
              "</div>"
            ],
            "text/plain": [
              "      Unnamed: 0  rank                  name  networth  age  country  \\\n",
              "1311        1311  1292  Kevin David Lehmann        2.4   19  Germany   \n",
              "2062        2062  1929          Wang Zelong        1.5   25    China   \n",
              "1975        1975  1929     Pedro Franceschi        1.5   25   Brazil   \n",
              "2190        2190  2190   Alexandra Andresen        1.3   25   Norway   \n",
              "1961        1961  1929    Henrique Dubugras        1.5   26   Brazil   \n",
              "\n",
              "           source                industry  \n",
              "1311   drugstores       Fashion & Retail   \n",
              "2062    chemicals        Metals & Mining   \n",
              "1975      fintech  Finance & Investments   \n",
              "2190  investments            Diversified   \n",
              "1961      fintech  Finance & Investments   "
            ]
          },
          "execution_count": 35,
          "metadata": {},
          "output_type": "execute_result"
        }
      ],
      "source": [
        "#find the top 5 youngest billionaires\n",
        "forbes.sort_values(by=['age'])[:5]"
      ]
    },
    {
      "cell_type": "code",
      "execution_count": null,
      "metadata": {
        "colab": {
          "base_uri": "https://localhost:8080/"
        },
        "id": "K0daHMcucdip",
        "outputId": "75b15ed4-51df-4a4c-e134-19f91bedde15"
      },
      "outputs": [],
      "source": [
        "# rearrange the dataframe by ascending or descending order of specific column\n",
        "#parameter of sort_values: by-specify label to sort by, axis:0 or 1, ascending:True or False\n"
      ]
    },
    {
      "cell_type": "code",
      "execution_count": null,
      "metadata": {
        "colab": {
          "base_uri": "https://localhost:8080/"
        },
        "id": "algQ_z9Ecmsl",
        "outputId": "600addf2-6732-4a57-c399-909cc3d9655b"
      },
      "outputs": [],
      "source": []
    },
    {
      "cell_type": "code",
      "execution_count": 40,
      "metadata": {
        "colab": {
          "base_uri": "https://localhost:8080/",
          "height": 833
        },
        "id": "aiW0j3F4ddZ4",
        "outputId": "ad012bf9-8e9f-4b0e-eff8-636c49c88951"
      },
      "outputs": [
        {
          "data": {
            "text/html": [
              "<div>\n",
              "<style scoped>\n",
              "    .dataframe tbody tr th:only-of-type {\n",
              "        vertical-align: middle;\n",
              "    }\n",
              "\n",
              "    .dataframe tbody tr th {\n",
              "        vertical-align: top;\n",
              "    }\n",
              "\n",
              "    .dataframe thead th {\n",
              "        text-align: right;\n",
              "    }\n",
              "</style>\n",
              "<table border=\"1\" class=\"dataframe\">\n",
              "  <thead>\n",
              "    <tr style=\"text-align: right;\">\n",
              "      <th></th>\n",
              "      <th>Unnamed: 0</th>\n",
              "      <th>rank</th>\n",
              "      <th>name</th>\n",
              "      <th>networth</th>\n",
              "      <th>age</th>\n",
              "      <th>country</th>\n",
              "      <th>source</th>\n",
              "      <th>industry</th>\n",
              "    </tr>\n",
              "  </thead>\n",
              "  <tbody>\n",
              "    <tr>\n",
              "      <th>14</th>\n",
              "      <td>14</td>\n",
              "      <td>15</td>\n",
              "      <td>Mark Zuckerberg</td>\n",
              "      <td>67.3</td>\n",
              "      <td>37</td>\n",
              "      <td>United States</td>\n",
              "      <td>Facebook</td>\n",
              "      <td>Technology</td>\n",
              "    </tr>\n",
              "    <tr>\n",
              "      <th>24</th>\n",
              "      <td>24</td>\n",
              "      <td>25</td>\n",
              "      <td>Zhang Yiming</td>\n",
              "      <td>50.0</td>\n",
              "      <td>38</td>\n",
              "      <td>China</td>\n",
              "      <td>TikTok</td>\n",
              "      <td>Media &amp; Entertainment</td>\n",
              "    </tr>\n",
              "    <tr>\n",
              "      <th>19</th>\n",
              "      <td>19</td>\n",
              "      <td>19</td>\n",
              "      <td>Changpeng Zhao</td>\n",
              "      <td>65.0</td>\n",
              "      <td>44</td>\n",
              "      <td>Canada</td>\n",
              "      <td>cryptocurrency exchange</td>\n",
              "      <td>Finance &amp; Investments</td>\n",
              "    </tr>\n",
              "    <tr>\n",
              "      <th>6</th>\n",
              "      <td>6</td>\n",
              "      <td>7</td>\n",
              "      <td>Sergey Brin</td>\n",
              "      <td>107.0</td>\n",
              "      <td>48</td>\n",
              "      <td>United States</td>\n",
              "      <td>Google</td>\n",
              "      <td>Technology</td>\n",
              "    </tr>\n",
              "    <tr>\n",
              "      <th>5</th>\n",
              "      <td>5</td>\n",
              "      <td>6</td>\n",
              "      <td>Larry Page</td>\n",
              "      <td>111.0</td>\n",
              "      <td>49</td>\n",
              "      <td>United States</td>\n",
              "      <td>Google</td>\n",
              "      <td>Technology</td>\n",
              "    </tr>\n",
              "  </tbody>\n",
              "</table>\n",
              "</div>"
            ],
            "text/plain": [
              "    Unnamed: 0  rank              name  networth  age        country  \\\n",
              "14          14    15  Mark Zuckerberg       67.3   37  United States   \n",
              "24          24    25     Zhang Yiming       50.0   38          China   \n",
              "19          19    19   Changpeng Zhao       65.0   44         Canada   \n",
              "6            6     7      Sergey Brin      107.0   48  United States   \n",
              "5            5     6       Larry Page      111.0   49  United States   \n",
              "\n",
              "                     source                industry  \n",
              "14                 Facebook             Technology   \n",
              "24                   TikTok  Media & Entertainment   \n",
              "19  cryptocurrency exchange  Finance & Investments   \n",
              "6                    Google             Technology   \n",
              "5                    Google             Technology   "
            ]
          },
          "execution_count": 40,
          "metadata": {},
          "output_type": "execute_result"
        }
      ],
      "source": [
        "# Finding the top 5 youngest people who have networth of more than 50 billion\n",
        "forbes_50 = forbes[forbes['networth']>=50]\n",
        "forbes_50.sort_values(by=['age'])[:5]\n",
        "#Or"
      ]
    },
    {
      "cell_type": "code",
      "execution_count": 42,
      "metadata": {
        "colab": {
          "base_uri": "https://localhost:8080/"
        },
        "id": "gEo0lyzLdwxO",
        "outputId": "e3bd5f13-870e-4fb1-b698-3f12fd3f0d1b"
      },
      "outputs": [
        {
          "data": {
            "text/plain": [
              "<function matplotlib.pyplot.show(close=None, block=None)>"
            ]
          },
          "execution_count": 42,
          "metadata": {},
          "output_type": "execute_result"
        },
        {
          "data": {
            "image/png": "[encoded data removed]",
            "text/plain": [
              "<Figure size 1000x1000 with 1 Axes>"
            ]
          },
          "metadata": {},
          "output_type": "display_data"
        }
      ],
      "source": [
        "fig,ax = plt.subplots(figsize = (10,10))\n",
        "ax.hist(forbes.networth, bins = 20, edgecolor = 'black', color = 'yellow')\n",
        "plt.show"
      ]
    },
    {
      "cell_type": "code",
      "execution_count": 45,
      "metadata": {},
      "outputs": [
        {
          "data": {
            "text/plain": [
              "<Axes: ylabel='Frequency'>"
            ]
          },
          "execution_count": 45,
          "metadata": {},
          "output_type": "execute_result"
        },
        {
          "data": {
            "image/png": "[encoded data removed]",
            "text/plain": [
              "<Figure size 640x480 with 1 Axes>"
            ]
          },
          "metadata": {},
          "output_type": "display_data"
        }
      ],
      "source": [
        "forbes['networth'].plot(kind='hist', bins = 20)"
      ]
    },
    {
      "cell_type": "code",
      "execution_count": null,
      "metadata": {},
      "outputs": [],
      "source": []
    },
    {
      "cell_type": "code",
      "execution_count": null,
      "metadata": {},
      "outputs": [],
      "source": []
    },
    {
      "cell_type": "code",
      "execution_count": null,
      "metadata": {
        "colab": {
          "base_uri": "https://localhost:8080/"
        },
        "id": "aGMO3LD9cHdG",
        "outputId": "f8079eb8-51bd-4f09-ed8e-41ac09a364b3"
      },
      "outputs": [],
      "source": [
        "#Using the method we used previously\n",
        "\n",
        "# the higher the bin, the closer it is to the distribution plot which will be explained later\n",
        " #Notice the graphs are still similar to each other"
      ]
    },
    {
      "cell_type": "markdown",
      "metadata": {
        "id": "D3CMdsgledTN"
      },
      "source": [
        "##### Data Visualisation - Distribution Plot\n",
        "- Shows how a variable in your data is distributed"
      ]
    },
    {
      "cell_type": "markdown",
      "metadata": {
        "id": "Xs3_fcZjqByu"
      },
      "source": [
        "# Distribution Plot\n",
        "\n",
        "> parameter:\n",
        "* data: dataframe name\n",
        "* x,y,hue: variable name\n",
        "* kind:{“hist”, “kde”, “ecdf”} hist by default, same as histplot(), kdeplot(), ecdfplot(univariate data only)\n",
        "* color, palette, height...\n",
        "\n",
        "1.   kernel density estimation:KDE represents the data using a continuous probability density curve, more smooth\n",
        "2.    empirical cumulative distribution function: represents the proportion or counts of observations\n"
      ]
    },
    {
      "cell_type": "code",
      "execution_count": 46,
      "metadata": {
        "colab": {
          "base_uri": "https://localhost:8080/"
        },
        "id": "xejufrTReagm",
        "outputId": "da0aa71a-29e7-4f1e-aae9-569f49549205"
      },
      "outputs": [
        {
          "name": "stderr",
          "output_type": "stream",
          "text": [
            "/Users/iggyloh/anaconda3/lib/python3.11/site-packages/seaborn/_oldcore.py:1119: FutureWarning: use_inf_as_na option is deprecated and will be removed in a future version. Convert inf values to NaN before operating instead.\n",
            "  with pd.option_context('mode.use_inf_as_na', True):\n"
          ]
        },
        {
          "data": {
            "text/plain": [
              "<function matplotlib.pyplot.show(close=None, block=None)>"
            ]
          },
          "execution_count": 46,
          "metadata": {},
          "output_type": "execute_result"
        },
        {
          "data": {
            "image/png": "[encoded data removed]",
            "text/plain": [
              "<Figure size 500x500 with 1 Axes>"
            ]
          },
          "metadata": {},
          "output_type": "display_data"
        }
      ],
      "source": [
        "#Distribution plot of the age variable\n",
        "sns.displot(x='age', data=forbes)\n",
        "plt.show"
      ]
    },
    {
      "cell_type": "code",
      "execution_count": 47,
      "metadata": {},
      "outputs": [
        {
          "name": "stderr",
          "output_type": "stream",
          "text": [
            "/Users/iggyloh/anaconda3/lib/python3.11/site-packages/seaborn/_oldcore.py:1119: FutureWarning: use_inf_as_na option is deprecated and will be removed in a future version. Convert inf values to NaN before operating instead.\n",
            "  with pd.option_context('mode.use_inf_as_na', True):\n",
            "/Users/iggyloh/anaconda3/lib/python3.11/site-packages/seaborn/_oldcore.py:1075: FutureWarning: When grouping with a length-1 list-like, you will need to pass a length-1 tuple to get_group in a future version of pandas. Pass `(name,)` instead of `name` to silence this warning.\n",
            "  data_subset = grouped_data.get_group(pd_key)\n",
            "/Users/iggyloh/anaconda3/lib/python3.11/site-packages/seaborn/_oldcore.py:1075: FutureWarning: When grouping with a length-1 list-like, you will need to pass a length-1 tuple to get_group in a future version of pandas. Pass `(name,)` instead of `name` to silence this warning.\n",
            "  data_subset = grouped_data.get_group(pd_key)\n"
          ]
        },
        {
          "data": {
            "text/plain": [
              "<seaborn.axisgrid.FacetGrid at 0x1240d2650>"
            ]
          },
          "execution_count": 47,
          "metadata": {},
          "output_type": "execute_result"
        },
        {
          "data": {
            "image/png": "[encoded data removed]",
            "text/plain": [
              "<Figure size 745.5x500 with 1 Axes>"
            ]
          },
          "metadata": {},
          "output_type": "display_data"
        }
      ],
      "source": [
        "sns.displot(x='age',data=forbes, hue='industry',kind='ecdf', stat='count',complementary= True )"
      ]
    },
    {
      "cell_type": "markdown",
      "metadata": {
        "id": "2Hh7NsUlftPC"
      },
      "source": [
        "Observation from dataset:\n",
        "1. Most saturated industry/best industry (Finance & Investments)\n",
        "2. Country with the most opportunity (US) - may be too saturated\n",
        "3. Who to learn from (THose that really made it)\n",
        "4. Probable age for someone to get really rich (50-70 years old)"
      ]
    },
    {
      "cell_type": "markdown",
      "metadata": {
        "id": "-n_e6eCMmRiQ"
      },
      "source": [
        "### Example 2: Annual Sales 2018 Data"
      ]
    },
    {
      "cell_type": "markdown",
      "metadata": {
        "id": "PNa9tYcBhf1M"
      },
      "source": [
        "#### 1. Load Data"
      ]
    },
    {
      "cell_type": "code",
      "execution_count": 49,
      "metadata": {
        "colab": {
          "base_uri": "https://localhost:8080/",
          "height": 206
        },
        "id": "G4DiGLZFg9Ng",
        "outputId": "6965aa2f-4c7c-462e-f039-4dff75580b2e"
      },
      "outputs": [
        {
          "data": {
            "text/html": [
              "<div>\n",
              "<style scoped>\n",
              "    .dataframe tbody tr th:only-of-type {\n",
              "        vertical-align: middle;\n",
              "    }\n",
              "\n",
              "    .dataframe tbody tr th {\n",
              "        vertical-align: top;\n",
              "    }\n",
              "\n",
              "    .dataframe thead th {\n",
              "        text-align: right;\n",
              "    }\n",
              "</style>\n",
              "<table border=\"1\" class=\"dataframe\">\n",
              "  <thead>\n",
              "    <tr style=\"text-align: right;\">\n",
              "      <th></th>\n",
              "      <th>Unnamed: 0</th>\n",
              "      <th>Order ID</th>\n",
              "      <th>Product</th>\n",
              "      <th>Quantity Ordered</th>\n",
              "      <th>Price Each</th>\n",
              "      <th>Order Date</th>\n",
              "      <th>Purchase Address</th>\n",
              "    </tr>\n",
              "  </thead>\n",
              "  <tbody>\n",
              "    <tr>\n",
              "      <th>0</th>\n",
              "      <td>0</td>\n",
              "      <td>248151</td>\n",
              "      <td>AA Batteries (4-pack)</td>\n",
              "      <td>4</td>\n",
              "      <td>3.84</td>\n",
              "      <td>2018-09-17 14:44:00</td>\n",
              "      <td>883 West St, Boston, MA 02215</td>\n",
              "    </tr>\n",
              "    <tr>\n",
              "      <th>1</th>\n",
              "      <td>1</td>\n",
              "      <td>248152</td>\n",
              "      <td>USB-C Charging Cable</td>\n",
              "      <td>2</td>\n",
              "      <td>11.95</td>\n",
              "      <td>2018-09-29 10:19:00</td>\n",
              "      <td>71 Ridge St, New York City, NY 10001</td>\n",
              "    </tr>\n",
              "    <tr>\n",
              "      <th>2</th>\n",
              "      <td>2</td>\n",
              "      <td>248153</td>\n",
              "      <td>USB-C Charging Cable</td>\n",
              "      <td>1</td>\n",
              "      <td>11.95</td>\n",
              "      <td>2018-09-16 17:48:00</td>\n",
              "      <td>372 Spruce St, Portland, OR 97035</td>\n",
              "    </tr>\n",
              "    <tr>\n",
              "      <th>3</th>\n",
              "      <td>3</td>\n",
              "      <td>248154</td>\n",
              "      <td>27in FHD Monitor</td>\n",
              "      <td>1</td>\n",
              "      <td>149.99</td>\n",
              "      <td>2018-09-27 07:52:00</td>\n",
              "      <td>315 Meadow St, Atlanta, GA 30301</td>\n",
              "    </tr>\n",
              "    <tr>\n",
              "      <th>4</th>\n",
              "      <td>4</td>\n",
              "      <td>248155</td>\n",
              "      <td>USB-C Charging Cable</td>\n",
              "      <td>1</td>\n",
              "      <td>11.95</td>\n",
              "      <td>2018-09-01 19:03:00</td>\n",
              "      <td>408 Lake St, San Francisco, CA 94016</td>\n",
              "    </tr>\n",
              "  </tbody>\n",
              "</table>\n",
              "</div>"
            ],
            "text/plain": [
              "   Unnamed: 0  Order ID                Product  Quantity Ordered  Price Each  \\\n",
              "0           0    248151  AA Batteries (4-pack)                 4        3.84   \n",
              "1           1    248152   USB-C Charging Cable                 2       11.95   \n",
              "2           2    248153   USB-C Charging Cable                 1       11.95   \n",
              "3           3    248154       27in FHD Monitor                 1      149.99   \n",
              "4           4    248155   USB-C Charging Cable                 1       11.95   \n",
              "\n",
              "            Order Date                      Purchase Address  \n",
              "0  2018-09-17 14:44:00         883 West St, Boston, MA 02215  \n",
              "1  2018-09-29 10:19:00  71 Ridge St, New York City, NY 10001  \n",
              "2  2018-09-16 17:48:00     372 Spruce St, Portland, OR 97035  \n",
              "3  2018-09-27 07:52:00      315 Meadow St, Atlanta, GA 30301  \n",
              "4  2018-09-01 19:03:00  408 Lake St, San Francisco, CA 94016  "
            ]
          },
          "execution_count": 49,
          "metadata": {},
          "output_type": "execute_result"
        }
      ],
      "source": [
        "data = pd.read_csv('2018_annual.csv')\n",
        "data.head()"
      ]
    },
    {
      "cell_type": "code",
      "execution_count": 97,
      "metadata": {
        "colab": {
          "base_uri": "https://localhost:8080/",
          "height": 206
        },
        "id": "rQOhiJNXmyQg",
        "outputId": "363c6d9e-3d9f-48ff-82d0-58ff4affc479"
      },
      "outputs": [
        {
          "data": {
            "text/html": [
              "<div>\n",
              "<style scoped>\n",
              "    .dataframe tbody tr th:only-of-type {\n",
              "        vertical-align: middle;\n",
              "    }\n",
              "\n",
              "    .dataframe tbody tr th {\n",
              "        vertical-align: top;\n",
              "    }\n",
              "\n",
              "    .dataframe thead th {\n",
              "        text-align: right;\n",
              "    }\n",
              "</style>\n",
              "<table border=\"1\" class=\"dataframe\">\n",
              "  <thead>\n",
              "    <tr style=\"text-align: right;\">\n",
              "      <th></th>\n",
              "      <th>Order ID</th>\n",
              "      <th>Product</th>\n",
              "      <th>Quantity Ordered</th>\n",
              "      <th>Price Each</th>\n",
              "      <th>Order Date</th>\n",
              "      <th>Purchase Address</th>\n",
              "    </tr>\n",
              "  </thead>\n",
              "  <tbody>\n",
              "    <tr>\n",
              "      <th>0</th>\n",
              "      <td>248151</td>\n",
              "      <td>AA Batteries (4-pack)</td>\n",
              "      <td>4</td>\n",
              "      <td>3.84</td>\n",
              "      <td>2018-09-17 14:44:00</td>\n",
              "      <td>883 West St, Boston, MA 02215</td>\n",
              "    </tr>\n",
              "    <tr>\n",
              "      <th>1</th>\n",
              "      <td>248152</td>\n",
              "      <td>USB-C Charging Cable</td>\n",
              "      <td>2</td>\n",
              "      <td>11.95</td>\n",
              "      <td>2018-09-29 10:19:00</td>\n",
              "      <td>71 Ridge St, New York City, NY 10001</td>\n",
              "    </tr>\n",
              "    <tr>\n",
              "      <th>2</th>\n",
              "      <td>248153</td>\n",
              "      <td>USB-C Charging Cable</td>\n",
              "      <td>1</td>\n",
              "      <td>11.95</td>\n",
              "      <td>2018-09-16 17:48:00</td>\n",
              "      <td>372 Spruce St, Portland, OR 97035</td>\n",
              "    </tr>\n",
              "    <tr>\n",
              "      <th>3</th>\n",
              "      <td>248154</td>\n",
              "      <td>27in FHD Monitor</td>\n",
              "      <td>1</td>\n",
              "      <td>149.99</td>\n",
              "      <td>2018-09-27 07:52:00</td>\n",
              "      <td>315 Meadow St, Atlanta, GA 30301</td>\n",
              "    </tr>\n",
              "    <tr>\n",
              "      <th>4</th>\n",
              "      <td>248155</td>\n",
              "      <td>USB-C Charging Cable</td>\n",
              "      <td>1</td>\n",
              "      <td>11.95</td>\n",
              "      <td>2018-09-01 19:03:00</td>\n",
              "      <td>408 Lake St, San Francisco, CA 94016</td>\n",
              "    </tr>\n",
              "    <tr>\n",
              "      <th>...</th>\n",
              "      <td>...</td>\n",
              "      <td>...</td>\n",
              "      <td>...</td>\n",
              "      <td>...</td>\n",
              "      <td>...</td>\n",
              "      <td>...</td>\n",
              "    </tr>\n",
              "    <tr>\n",
              "      <th>185945</th>\n",
              "      <td>150497</td>\n",
              "      <td>20in Monitor</td>\n",
              "      <td>1</td>\n",
              "      <td>109.99</td>\n",
              "      <td>2018-01-26 19:09:00</td>\n",
              "      <td>697 West St, Dallas, TX 75001</td>\n",
              "    </tr>\n",
              "    <tr>\n",
              "      <th>185946</th>\n",
              "      <td>150498</td>\n",
              "      <td>27in FHD Monitor</td>\n",
              "      <td>1</td>\n",
              "      <td>149.99</td>\n",
              "      <td>2018-01-10 22:58:00</td>\n",
              "      <td>611 Meadow St, Portland, OR 97035</td>\n",
              "    </tr>\n",
              "    <tr>\n",
              "      <th>185947</th>\n",
              "      <td>150499</td>\n",
              "      <td>ThinkPad Laptop</td>\n",
              "      <td>1</td>\n",
              "      <td>999.99</td>\n",
              "      <td>2018-01-21 14:31:00</td>\n",
              "      <td>346 14th St, San Francisco, CA 94016</td>\n",
              "    </tr>\n",
              "    <tr>\n",
              "      <th>185948</th>\n",
              "      <td>150500</td>\n",
              "      <td>AAA Batteries (4-pack)</td>\n",
              "      <td>2</td>\n",
              "      <td>2.99</td>\n",
              "      <td>2018-01-15 14:21:00</td>\n",
              "      <td>789 Center St, Atlanta, GA 30301</td>\n",
              "    </tr>\n",
              "    <tr>\n",
              "      <th>185949</th>\n",
              "      <td>150501</td>\n",
              "      <td>Google Phone</td>\n",
              "      <td>1</td>\n",
              "      <td>600.00</td>\n",
              "      <td>2018-01-13 16:43:00</td>\n",
              "      <td>79 Cherry St, San Francisco, CA 94016</td>\n",
              "    </tr>\n",
              "  </tbody>\n",
              "</table>\n",
              "<p>185950 rows × 6 columns</p>\n",
              "</div>"
            ],
            "text/plain": [
              "        Order ID                 Product  Quantity Ordered  Price Each  \\\n",
              "0         248151   AA Batteries (4-pack)                 4        3.84   \n",
              "1         248152    USB-C Charging Cable                 2       11.95   \n",
              "2         248153    USB-C Charging Cable                 1       11.95   \n",
              "3         248154        27in FHD Monitor                 1      149.99   \n",
              "4         248155    USB-C Charging Cable                 1       11.95   \n",
              "...          ...                     ...               ...         ...   \n",
              "185945    150497            20in Monitor                 1      109.99   \n",
              "185946    150498        27in FHD Monitor                 1      149.99   \n",
              "185947    150499         ThinkPad Laptop                 1      999.99   \n",
              "185948    150500  AAA Batteries (4-pack)                 2        2.99   \n",
              "185949    150501            Google Phone                 1      600.00   \n",
              "\n",
              "                 Order Date                       Purchase Address  \n",
              "0       2018-09-17 14:44:00          883 West St, Boston, MA 02215  \n",
              "1       2018-09-29 10:19:00   71 Ridge St, New York City, NY 10001  \n",
              "2       2018-09-16 17:48:00      372 Spruce St, Portland, OR 97035  \n",
              "3       2018-09-27 07:52:00       315 Meadow St, Atlanta, GA 30301  \n",
              "4       2018-09-01 19:03:00   408 Lake St, San Francisco, CA 94016  \n",
              "...                     ...                                    ...  \n",
              "185945  2018-01-26 19:09:00          697 West St, Dallas, TX 75001  \n",
              "185946  2018-01-10 22:58:00      611 Meadow St, Portland, OR 97035  \n",
              "185947  2018-01-21 14:31:00   346 14th St, San Francisco, CA 94016  \n",
              "185948  2018-01-15 14:21:00       789 Center St, Atlanta, GA 30301  \n",
              "185949  2018-01-13 16:43:00  79 Cherry St, San Francisco, CA 94016  \n",
              "\n",
              "[185950 rows x 6 columns]"
            ]
          },
          "execution_count": 97,
          "metadata": {},
          "output_type": "execute_result"
        }
      ],
      "source": [
        "#parameter of drop: label, axis: 1 for column, 0 for index, default 0\n",
        "#Better to name it with another variable so that you can keep the original dataset under the variable 'data'\n",
        "df = data.drop('Unnamed: 0', axis=1)\n",
        "df"
      ]
    },
    {
      "cell_type": "markdown",
      "metadata": {
        "id": "51DKtOeWhlgI"
      },
      "source": [
        "#### 2. Inspect Data"
      ]
    },
    {
      "cell_type": "code",
      "execution_count": 98,
      "metadata": {
        "colab": {
          "base_uri": "https://localhost:8080/"
        },
        "id": "eKnFKiI8nieV",
        "outputId": "9d5ef896-a4d7-4939-a6cb-79c9d745905f"
      },
      "outputs": [
        {
          "name": "stdout",
          "output_type": "stream",
          "text": [
            "<class 'pandas.core.frame.DataFrame'>\n",
            "RangeIndex: 185950 entries, 0 to 185949\n",
            "Data columns (total 6 columns):\n",
            " #   Column            Non-Null Count   Dtype  \n",
            "---  ------            --------------   -----  \n",
            " 0   Order ID          185950 non-null  int64  \n",
            " 1   Product           185950 non-null  object \n",
            " 2   Quantity Ordered  185950 non-null  int64  \n",
            " 3   Price Each        185950 non-null  float64\n",
            " 4   Order Date        185950 non-null  object \n",
            " 5   Purchase Address  185950 non-null  object \n",
            "dtypes: float64(1), int64(2), object(3)\n",
            "memory usage: 8.5+ MB\n"
          ]
        }
      ],
      "source": [
        "df.info()"
      ]
    },
    {
      "cell_type": "code",
      "execution_count": 56,
      "metadata": {},
      "outputs": [
        {
          "data": {
            "text/html": [
              "<div>\n",
              "<style scoped>\n",
              "    .dataframe tbody tr th:only-of-type {\n",
              "        vertical-align: middle;\n",
              "    }\n",
              "\n",
              "    .dataframe tbody tr th {\n",
              "        vertical-align: top;\n",
              "    }\n",
              "\n",
              "    .dataframe thead th {\n",
              "        text-align: right;\n",
              "    }\n",
              "</style>\n",
              "<table border=\"1\" class=\"dataframe\">\n",
              "  <thead>\n",
              "    <tr style=\"text-align: right;\">\n",
              "      <th></th>\n",
              "      <th>Order ID</th>\n",
              "      <th>Product</th>\n",
              "      <th>Quantity Ordered</th>\n",
              "      <th>Price Each</th>\n",
              "      <th>Order Date</th>\n",
              "      <th>Purchase Address</th>\n",
              "    </tr>\n",
              "  </thead>\n",
              "  <tbody>\n",
              "    <tr>\n",
              "      <th>0</th>\n",
              "      <td>248151</td>\n",
              "      <td>AA Batteries (4-pack)</td>\n",
              "      <td>4</td>\n",
              "      <td>3.84</td>\n",
              "      <td>2018-09-17 14:44:00</td>\n",
              "      <td>883 West St, Boston, MA 02215</td>\n",
              "    </tr>\n",
              "    <tr>\n",
              "      <th>1</th>\n",
              "      <td>248152</td>\n",
              "      <td>USB-C Charging Cable</td>\n",
              "      <td>2</td>\n",
              "      <td>11.95</td>\n",
              "      <td>2018-09-29 10:19:00</td>\n",
              "      <td>71 Ridge St, New York City, NY 10001</td>\n",
              "    </tr>\n",
              "    <tr>\n",
              "      <th>2</th>\n",
              "      <td>248153</td>\n",
              "      <td>USB-C Charging Cable</td>\n",
              "      <td>1</td>\n",
              "      <td>11.95</td>\n",
              "      <td>2018-09-16 17:48:00</td>\n",
              "      <td>372 Spruce St, Portland, OR 97035</td>\n",
              "    </tr>\n",
              "    <tr>\n",
              "      <th>3</th>\n",
              "      <td>248154</td>\n",
              "      <td>27in FHD Monitor</td>\n",
              "      <td>1</td>\n",
              "      <td>149.99</td>\n",
              "      <td>2018-09-27 07:52:00</td>\n",
              "      <td>315 Meadow St, Atlanta, GA 30301</td>\n",
              "    </tr>\n",
              "    <tr>\n",
              "      <th>4</th>\n",
              "      <td>248155</td>\n",
              "      <td>USB-C Charging Cable</td>\n",
              "      <td>1</td>\n",
              "      <td>11.95</td>\n",
              "      <td>2018-09-01 19:03:00</td>\n",
              "      <td>408 Lake St, San Francisco, CA 94016</td>\n",
              "    </tr>\n",
              "  </tbody>\n",
              "</table>\n",
              "</div>"
            ],
            "text/plain": [
              "   Order ID                Product  Quantity Ordered  Price Each  \\\n",
              "0    248151  AA Batteries (4-pack)                 4        3.84   \n",
              "1    248152   USB-C Charging Cable                 2       11.95   \n",
              "2    248153   USB-C Charging Cable                 1       11.95   \n",
              "3    248154       27in FHD Monitor                 1      149.99   \n",
              "4    248155   USB-C Charging Cable                 1       11.95   \n",
              "\n",
              "           Order Date                      Purchase Address  \n",
              "0 2018-09-17 14:44:00         883 West St, Boston, MA 02215  \n",
              "1 2018-09-29 10:19:00  71 Ridge St, New York City, NY 10001  \n",
              "2 2018-09-16 17:48:00     372 Spruce St, Portland, OR 97035  \n",
              "3 2018-09-27 07:52:00      315 Meadow St, Atlanta, GA 30301  \n",
              "4 2018-09-01 19:03:00  408 Lake St, San Francisco, CA 94016  "
            ]
          },
          "execution_count": 56,
          "metadata": {},
          "output_type": "execute_result"
        }
      ],
      "source": []
    },
    {
      "cell_type": "code",
      "execution_count": null,
      "metadata": {},
      "outputs": [],
      "source": []
    },
    {
      "cell_type": "markdown",
      "metadata": {
        "id": "B6VEowJ2hq3W"
      },
      "source": [
        "#### 3. Clean Data"
      ]
    },
    {
      "cell_type": "code",
      "execution_count": 101,
      "metadata": {
        "colab": {
          "base_uri": "https://localhost:8080/"
        },
        "id": "x3uI9hQrnoaL",
        "outputId": "7e7529b3-9b51-4342-c946-179484ed02c3"
      },
      "outputs": [],
      "source": [
        "#Convert 'Order Date' column into datetime type\n",
        "df['Order Date']=df['Order Date'].apply(pd.to_datetime)\n"
      ]
    },
    {
      "cell_type": "markdown",
      "metadata": {
        "id": "FFdsR8izhzL8"
      },
      "source": [
        "#### 4. Explore Data"
      ]
    },
    {
      "cell_type": "code",
      "execution_count": 102,
      "metadata": {
        "colab": {
          "base_uri": "https://localhost:8080/",
          "height": 206
        },
        "id": "AUL_CUbkok9K",
        "outputId": "3ce27ae3-c0fb-406f-b398-d293f75dfe11"
      },
      "outputs": [
        {
          "data": {
            "text/html": [
              "<div>\n",
              "<style scoped>\n",
              "    .dataframe tbody tr th:only-of-type {\n",
              "        vertical-align: middle;\n",
              "    }\n",
              "\n",
              "    .dataframe tbody tr th {\n",
              "        vertical-align: top;\n",
              "    }\n",
              "\n",
              "    .dataframe thead th {\n",
              "        text-align: right;\n",
              "    }\n",
              "</style>\n",
              "<table border=\"1\" class=\"dataframe\">\n",
              "  <thead>\n",
              "    <tr style=\"text-align: right;\">\n",
              "      <th></th>\n",
              "      <th>Order ID</th>\n",
              "      <th>Product</th>\n",
              "      <th>Quantity Ordered</th>\n",
              "      <th>Price Each</th>\n",
              "      <th>Order Date</th>\n",
              "      <th>Purchase Address</th>\n",
              "      <th>Year</th>\n",
              "    </tr>\n",
              "  </thead>\n",
              "  <tbody>\n",
              "    <tr>\n",
              "      <th>0</th>\n",
              "      <td>248151</td>\n",
              "      <td>AA Batteries (4-pack)</td>\n",
              "      <td>4</td>\n",
              "      <td>3.84</td>\n",
              "      <td>2018-09-17 14:44:00</td>\n",
              "      <td>883 West St, Boston, MA 02215</td>\n",
              "      <td>2018</td>\n",
              "    </tr>\n",
              "    <tr>\n",
              "      <th>1</th>\n",
              "      <td>248152</td>\n",
              "      <td>USB-C Charging Cable</td>\n",
              "      <td>2</td>\n",
              "      <td>11.95</td>\n",
              "      <td>2018-09-29 10:19:00</td>\n",
              "      <td>71 Ridge St, New York City, NY 10001</td>\n",
              "      <td>2018</td>\n",
              "    </tr>\n",
              "    <tr>\n",
              "      <th>2</th>\n",
              "      <td>248153</td>\n",
              "      <td>USB-C Charging Cable</td>\n",
              "      <td>1</td>\n",
              "      <td>11.95</td>\n",
              "      <td>2018-09-16 17:48:00</td>\n",
              "      <td>372 Spruce St, Portland, OR 97035</td>\n",
              "      <td>2018</td>\n",
              "    </tr>\n",
              "    <tr>\n",
              "      <th>3</th>\n",
              "      <td>248154</td>\n",
              "      <td>27in FHD Monitor</td>\n",
              "      <td>1</td>\n",
              "      <td>149.99</td>\n",
              "      <td>2018-09-27 07:52:00</td>\n",
              "      <td>315 Meadow St, Atlanta, GA 30301</td>\n",
              "      <td>2018</td>\n",
              "    </tr>\n",
              "    <tr>\n",
              "      <th>4</th>\n",
              "      <td>248155</td>\n",
              "      <td>USB-C Charging Cable</td>\n",
              "      <td>1</td>\n",
              "      <td>11.95</td>\n",
              "      <td>2018-09-01 19:03:00</td>\n",
              "      <td>408 Lake St, San Francisco, CA 94016</td>\n",
              "      <td>2018</td>\n",
              "    </tr>\n",
              "  </tbody>\n",
              "</table>\n",
              "</div>"
            ],
            "text/plain": [
              "   Order ID                Product  Quantity Ordered  Price Each  \\\n",
              "0    248151  AA Batteries (4-pack)                 4        3.84   \n",
              "1    248152   USB-C Charging Cable                 2       11.95   \n",
              "2    248153   USB-C Charging Cable                 1       11.95   \n",
              "3    248154       27in FHD Monitor                 1      149.99   \n",
              "4    248155   USB-C Charging Cable                 1       11.95   \n",
              "\n",
              "           Order Date                      Purchase Address  Year  \n",
              "0 2018-09-17 14:44:00         883 West St, Boston, MA 02215  2018  \n",
              "1 2018-09-29 10:19:00  71 Ridge St, New York City, NY 10001  2018  \n",
              "2 2018-09-16 17:48:00     372 Spruce St, Portland, OR 97035  2018  \n",
              "3 2018-09-27 07:52:00      315 Meadow St, Atlanta, GA 30301  2018  \n",
              "4 2018-09-01 19:03:00  408 Lake St, San Francisco, CA 94016  2018  "
            ]
          },
          "execution_count": 102,
          "metadata": {},
          "output_type": "execute_result"
        }
      ],
      "source": [
        "# series.dt can be used to access the values of the series as datetimelike and return several properties\n",
        "#dt.year will return year, dt.weekday will return the day of \n",
        "df['Year'] = df['Order Date'].dt.year\n",
        "df.head()"
      ]
    },
    {
      "cell_type": "code",
      "execution_count": 103,
      "metadata": {
        "colab": {
          "base_uri": "https://localhost:8080/",
          "height": 206
        },
        "id": "EHC6nTTKpamd",
        "outputId": "badf861e-8f38-4075-e378-6c33c68a10ef"
      },
      "outputs": [
        {
          "data": {
            "text/html": [
              "<div>\n",
              "<style scoped>\n",
              "    .dataframe tbody tr th:only-of-type {\n",
              "        vertical-align: middle;\n",
              "    }\n",
              "\n",
              "    .dataframe tbody tr th {\n",
              "        vertical-align: top;\n",
              "    }\n",
              "\n",
              "    .dataframe thead th {\n",
              "        text-align: right;\n",
              "    }\n",
              "</style>\n",
              "<table border=\"1\" class=\"dataframe\">\n",
              "  <thead>\n",
              "    <tr style=\"text-align: right;\">\n",
              "      <th></th>\n",
              "      <th>Order ID</th>\n",
              "      <th>Product</th>\n",
              "      <th>Quantity Ordered</th>\n",
              "      <th>Price Each</th>\n",
              "      <th>Order Date</th>\n",
              "      <th>Purchase Address</th>\n",
              "      <th>Year</th>\n",
              "      <th>Month</th>\n",
              "    </tr>\n",
              "  </thead>\n",
              "  <tbody>\n",
              "    <tr>\n",
              "      <th>0</th>\n",
              "      <td>248151</td>\n",
              "      <td>AA Batteries (4-pack)</td>\n",
              "      <td>4</td>\n",
              "      <td>3.84</td>\n",
              "      <td>2018-09-17 14:44:00</td>\n",
              "      <td>883 West St, Boston, MA 02215</td>\n",
              "      <td>2018</td>\n",
              "      <td>9</td>\n",
              "    </tr>\n",
              "    <tr>\n",
              "      <th>1</th>\n",
              "      <td>248152</td>\n",
              "      <td>USB-C Charging Cable</td>\n",
              "      <td>2</td>\n",
              "      <td>11.95</td>\n",
              "      <td>2018-09-29 10:19:00</td>\n",
              "      <td>71 Ridge St, New York City, NY 10001</td>\n",
              "      <td>2018</td>\n",
              "      <td>9</td>\n",
              "    </tr>\n",
              "    <tr>\n",
              "      <th>2</th>\n",
              "      <td>248153</td>\n",
              "      <td>USB-C Charging Cable</td>\n",
              "      <td>1</td>\n",
              "      <td>11.95</td>\n",
              "      <td>2018-09-16 17:48:00</td>\n",
              "      <td>372 Spruce St, Portland, OR 97035</td>\n",
              "      <td>2018</td>\n",
              "      <td>9</td>\n",
              "    </tr>\n",
              "    <tr>\n",
              "      <th>3</th>\n",
              "      <td>248154</td>\n",
              "      <td>27in FHD Monitor</td>\n",
              "      <td>1</td>\n",
              "      <td>149.99</td>\n",
              "      <td>2018-09-27 07:52:00</td>\n",
              "      <td>315 Meadow St, Atlanta, GA 30301</td>\n",
              "      <td>2018</td>\n",
              "      <td>9</td>\n",
              "    </tr>\n",
              "    <tr>\n",
              "      <th>4</th>\n",
              "      <td>248155</td>\n",
              "      <td>USB-C Charging Cable</td>\n",
              "      <td>1</td>\n",
              "      <td>11.95</td>\n",
              "      <td>2018-09-01 19:03:00</td>\n",
              "      <td>408 Lake St, San Francisco, CA 94016</td>\n",
              "      <td>2018</td>\n",
              "      <td>9</td>\n",
              "    </tr>\n",
              "  </tbody>\n",
              "</table>\n",
              "</div>"
            ],
            "text/plain": [
              "   Order ID                Product  Quantity Ordered  Price Each  \\\n",
              "0    248151  AA Batteries (4-pack)                 4        3.84   \n",
              "1    248152   USB-C Charging Cable                 2       11.95   \n",
              "2    248153   USB-C Charging Cable                 1       11.95   \n",
              "3    248154       27in FHD Monitor                 1      149.99   \n",
              "4    248155   USB-C Charging Cable                 1       11.95   \n",
              "\n",
              "           Order Date                      Purchase Address  Year  Month  \n",
              "0 2018-09-17 14:44:00         883 West St, Boston, MA 02215  2018      9  \n",
              "1 2018-09-29 10:19:00  71 Ridge St, New York City, NY 10001  2018      9  \n",
              "2 2018-09-16 17:48:00     372 Spruce St, Portland, OR 97035  2018      9  \n",
              "3 2018-09-27 07:52:00      315 Meadow St, Atlanta, GA 30301  2018      9  \n",
              "4 2018-09-01 19:03:00  408 Lake St, San Francisco, CA 94016  2018      9  "
            ]
          },
          "execution_count": 103,
          "metadata": {},
          "output_type": "execute_result"
        }
      ],
      "source": [
        "#Which month had the best sales?\n",
        "df['Month'] = df[\"Order Date\"].dt.month\n",
        "df.head()"
      ]
    },
    {
      "cell_type": "code",
      "execution_count": 104,
      "metadata": {},
      "outputs": [
        {
          "data": {
            "text/html": [
              "<div>\n",
              "<style scoped>\n",
              "    .dataframe tbody tr th:only-of-type {\n",
              "        vertical-align: middle;\n",
              "    }\n",
              "\n",
              "    .dataframe tbody tr th {\n",
              "        vertical-align: top;\n",
              "    }\n",
              "\n",
              "    .dataframe thead th {\n",
              "        text-align: right;\n",
              "    }\n",
              "</style>\n",
              "<table border=\"1\" class=\"dataframe\">\n",
              "  <thead>\n",
              "    <tr style=\"text-align: right;\">\n",
              "      <th></th>\n",
              "      <th>Order ID</th>\n",
              "      <th>Product</th>\n",
              "      <th>Quantity Ordered</th>\n",
              "      <th>Price Each</th>\n",
              "      <th>Order Date</th>\n",
              "      <th>Purchase Address</th>\n",
              "      <th>Year</th>\n",
              "      <th>Month</th>\n",
              "      <th>Day</th>\n",
              "    </tr>\n",
              "  </thead>\n",
              "  <tbody>\n",
              "    <tr>\n",
              "      <th>0</th>\n",
              "      <td>248151</td>\n",
              "      <td>AA Batteries (4-pack)</td>\n",
              "      <td>4</td>\n",
              "      <td>3.84</td>\n",
              "      <td>2018-09-17 14:44:00</td>\n",
              "      <td>883 West St, Boston, MA 02215</td>\n",
              "      <td>2018</td>\n",
              "      <td>9</td>\n",
              "      <td>17</td>\n",
              "    </tr>\n",
              "    <tr>\n",
              "      <th>1</th>\n",
              "      <td>248152</td>\n",
              "      <td>USB-C Charging Cable</td>\n",
              "      <td>2</td>\n",
              "      <td>11.95</td>\n",
              "      <td>2018-09-29 10:19:00</td>\n",
              "      <td>71 Ridge St, New York City, NY 10001</td>\n",
              "      <td>2018</td>\n",
              "      <td>9</td>\n",
              "      <td>29</td>\n",
              "    </tr>\n",
              "    <tr>\n",
              "      <th>2</th>\n",
              "      <td>248153</td>\n",
              "      <td>USB-C Charging Cable</td>\n",
              "      <td>1</td>\n",
              "      <td>11.95</td>\n",
              "      <td>2018-09-16 17:48:00</td>\n",
              "      <td>372 Spruce St, Portland, OR 97035</td>\n",
              "      <td>2018</td>\n",
              "      <td>9</td>\n",
              "      <td>16</td>\n",
              "    </tr>\n",
              "    <tr>\n",
              "      <th>3</th>\n",
              "      <td>248154</td>\n",
              "      <td>27in FHD Monitor</td>\n",
              "      <td>1</td>\n",
              "      <td>149.99</td>\n",
              "      <td>2018-09-27 07:52:00</td>\n",
              "      <td>315 Meadow St, Atlanta, GA 30301</td>\n",
              "      <td>2018</td>\n",
              "      <td>9</td>\n",
              "      <td>27</td>\n",
              "    </tr>\n",
              "    <tr>\n",
              "      <th>4</th>\n",
              "      <td>248155</td>\n",
              "      <td>USB-C Charging Cable</td>\n",
              "      <td>1</td>\n",
              "      <td>11.95</td>\n",
              "      <td>2018-09-01 19:03:00</td>\n",
              "      <td>408 Lake St, San Francisco, CA 94016</td>\n",
              "      <td>2018</td>\n",
              "      <td>9</td>\n",
              "      <td>1</td>\n",
              "    </tr>\n",
              "  </tbody>\n",
              "</table>\n",
              "</div>"
            ],
            "text/plain": [
              "   Order ID                Product  Quantity Ordered  Price Each  \\\n",
              "0    248151  AA Batteries (4-pack)                 4        3.84   \n",
              "1    248152   USB-C Charging Cable                 2       11.95   \n",
              "2    248153   USB-C Charging Cable                 1       11.95   \n",
              "3    248154       27in FHD Monitor                 1      149.99   \n",
              "4    248155   USB-C Charging Cable                 1       11.95   \n",
              "\n",
              "           Order Date                      Purchase Address  Year  Month  Day  \n",
              "0 2018-09-17 14:44:00         883 West St, Boston, MA 02215  2018      9   17  \n",
              "1 2018-09-29 10:19:00  71 Ridge St, New York City, NY 10001  2018      9   29  \n",
              "2 2018-09-16 17:48:00     372 Spruce St, Portland, OR 97035  2018      9   16  \n",
              "3 2018-09-27 07:52:00      315 Meadow St, Atlanta, GA 30301  2018      9   27  \n",
              "4 2018-09-01 19:03:00  408 Lake St, San Francisco, CA 94016  2018      9    1  "
            ]
          },
          "execution_count": 104,
          "metadata": {},
          "output_type": "execute_result"
        }
      ],
      "source": [
        "df['Day'] = df['Order Date'].dt.day\n",
        "df.head()"
      ]
    },
    {
      "cell_type": "code",
      "execution_count": null,
      "metadata": {},
      "outputs": [],
      "source": []
    },
    {
      "cell_type": "code",
      "execution_count": 105,
      "metadata": {
        "colab": {
          "base_uri": "https://localhost:8080/",
          "height": 206
        },
        "id": "CQyqUhe-p942",
        "outputId": "1b171123-1e57-4cdc-ef3b-2ad268fd0e5a"
      },
      "outputs": [
        {
          "data": {
            "text/html": [
              "<div>\n",
              "<style scoped>\n",
              "    .dataframe tbody tr th:only-of-type {\n",
              "        vertical-align: middle;\n",
              "    }\n",
              "\n",
              "    .dataframe tbody tr th {\n",
              "        vertical-align: top;\n",
              "    }\n",
              "\n",
              "    .dataframe thead th {\n",
              "        text-align: right;\n",
              "    }\n",
              "</style>\n",
              "<table border=\"1\" class=\"dataframe\">\n",
              "  <thead>\n",
              "    <tr style=\"text-align: right;\">\n",
              "      <th></th>\n",
              "      <th>Order ID</th>\n",
              "      <th>Product</th>\n",
              "      <th>Quantity Ordered</th>\n",
              "      <th>Price Each</th>\n",
              "      <th>Order Date</th>\n",
              "      <th>Purchase Address</th>\n",
              "      <th>Year</th>\n",
              "      <th>Month</th>\n",
              "      <th>Day</th>\n",
              "      <th>Sale</th>\n",
              "    </tr>\n",
              "  </thead>\n",
              "  <tbody>\n",
              "    <tr>\n",
              "      <th>0</th>\n",
              "      <td>248151</td>\n",
              "      <td>AA Batteries (4-pack)</td>\n",
              "      <td>4</td>\n",
              "      <td>3.84</td>\n",
              "      <td>2018-09-17 14:44:00</td>\n",
              "      <td>883 West St, Boston, MA 02215</td>\n",
              "      <td>2018</td>\n",
              "      <td>9</td>\n",
              "      <td>17</td>\n",
              "      <td>15.36</td>\n",
              "    </tr>\n",
              "    <tr>\n",
              "      <th>1</th>\n",
              "      <td>248152</td>\n",
              "      <td>USB-C Charging Cable</td>\n",
              "      <td>2</td>\n",
              "      <td>11.95</td>\n",
              "      <td>2018-09-29 10:19:00</td>\n",
              "      <td>71 Ridge St, New York City, NY 10001</td>\n",
              "      <td>2018</td>\n",
              "      <td>9</td>\n",
              "      <td>29</td>\n",
              "      <td>23.90</td>\n",
              "    </tr>\n",
              "    <tr>\n",
              "      <th>2</th>\n",
              "      <td>248153</td>\n",
              "      <td>USB-C Charging Cable</td>\n",
              "      <td>1</td>\n",
              "      <td>11.95</td>\n",
              "      <td>2018-09-16 17:48:00</td>\n",
              "      <td>372 Spruce St, Portland, OR 97035</td>\n",
              "      <td>2018</td>\n",
              "      <td>9</td>\n",
              "      <td>16</td>\n",
              "      <td>11.95</td>\n",
              "    </tr>\n",
              "    <tr>\n",
              "      <th>3</th>\n",
              "      <td>248154</td>\n",
              "      <td>27in FHD Monitor</td>\n",
              "      <td>1</td>\n",
              "      <td>149.99</td>\n",
              "      <td>2018-09-27 07:52:00</td>\n",
              "      <td>315 Meadow St, Atlanta, GA 30301</td>\n",
              "      <td>2018</td>\n",
              "      <td>9</td>\n",
              "      <td>27</td>\n",
              "      <td>149.99</td>\n",
              "    </tr>\n",
              "    <tr>\n",
              "      <th>4</th>\n",
              "      <td>248155</td>\n",
              "      <td>USB-C Charging Cable</td>\n",
              "      <td>1</td>\n",
              "      <td>11.95</td>\n",
              "      <td>2018-09-01 19:03:00</td>\n",
              "      <td>408 Lake St, San Francisco, CA 94016</td>\n",
              "      <td>2018</td>\n",
              "      <td>9</td>\n",
              "      <td>1</td>\n",
              "      <td>11.95</td>\n",
              "    </tr>\n",
              "  </tbody>\n",
              "</table>\n",
              "</div>"
            ],
            "text/plain": [
              "   Order ID                Product  Quantity Ordered  Price Each  \\\n",
              "0    248151  AA Batteries (4-pack)                 4        3.84   \n",
              "1    248152   USB-C Charging Cable                 2       11.95   \n",
              "2    248153   USB-C Charging Cable                 1       11.95   \n",
              "3    248154       27in FHD Monitor                 1      149.99   \n",
              "4    248155   USB-C Charging Cable                 1       11.95   \n",
              "\n",
              "           Order Date                      Purchase Address  Year  Month  Day  \\\n",
              "0 2018-09-17 14:44:00         883 West St, Boston, MA 02215  2018      9   17   \n",
              "1 2018-09-29 10:19:00  71 Ridge St, New York City, NY 10001  2018      9   29   \n",
              "2 2018-09-16 17:48:00     372 Spruce St, Portland, OR 97035  2018      9   16   \n",
              "3 2018-09-27 07:52:00      315 Meadow St, Atlanta, GA 30301  2018      9   27   \n",
              "4 2018-09-01 19:03:00  408 Lake St, San Francisco, CA 94016  2018      9    1   \n",
              "\n",
              "     Sale  \n",
              "0   15.36  \n",
              "1   23.90  \n",
              "2   11.95  \n",
              "3  149.99  \n",
              "4   11.95  "
            ]
          },
          "execution_count": 105,
          "metadata": {},
          "output_type": "execute_result"
        }
      ],
      "source": [
        "#creat a new column called Sale\n",
        "df['Sale'] = df['Quantity Ordered'] * df['Price Each']\n",
        "df.head()"
      ]
    },
    {
      "cell_type": "code",
      "execution_count": 106,
      "metadata": {
        "colab": {
          "base_uri": "https://localhost:8080/"
        },
        "id": "33TRyDgpq3gf",
        "outputId": "8e540e56-bdb6-47c6-a974-c8fd9b5b869c"
      },
      "outputs": [
        {
          "name": "stdout",
          "output_type": "stream",
          "text": [
            "Month\n",
            "1     1816846.41\n",
            "9     2091892.33\n",
            "2     2195978.76\n",
            "8     2239309.25\n",
            "6     2570410.65\n",
            "7     2641281.10\n",
            "3     2800592.49\n",
            "5     3144348.98\n",
            "11    3190667.83\n",
            "4     3378020.92\n",
            "10    3727769.15\n",
            "12    4603683.90\n",
            "Name: Sale, dtype: float64\n"
          ]
        }
      ],
      "source": [
        "df['Month'] = df['Order Date'].dt.month\n",
        "\n",
        "#Group by 'Month'\n",
        "groupby_month = df.groupby('Month')\n",
        "\n",
        "#Sum sales for each month\n",
        "gross_sales_by_month = groupby_month['Sale'].sum().sort_values()\n",
        "\n",
        "#Display result\n",
        "print(gross_sales_by_month)"
      ]
    },
    {
      "cell_type": "code",
      "execution_count": null,
      "metadata": {
        "id": "uiGs_i16m9Wx"
      },
      "outputs": [],
      "source": [
        "#here Month is index label not variable\n"
      ]
    },
    {
      "cell_type": "markdown",
      "metadata": {
        "id": "fsNOPtif1eKO"
      },
      "source": [
        "###### ***HOW THE PREVIOUS CODE LOOK LIKE (STEP BY STEP)***"
      ]
    },
    {
      "cell_type": "code",
      "execution_count": null,
      "metadata": {
        "colab": {
          "base_uri": "https://localhost:8080/",
          "height": 513
        },
        "id": "lHzGPpTZ1Cvq",
        "outputId": "a963d71b-2e28-41a8-ca1d-2c9a63744f11"
      },
      "outputs": [],
      "source": [
        "#How it looks like, ingore the rest of the table except for Sales"
      ]
    },
    {
      "cell_type": "code",
      "execution_count": null,
      "metadata": {
        "colab": {
          "base_uri": "https://localhost:8080/",
          "height": 513
        },
        "id": "uJMhs2h31P-m",
        "outputId": "ba575b46-bf05-4b09-eda2-d8f2a33d86dc"
      },
      "outputs": [],
      "source": [
        " #Rearranging the sales amount in ascending amount"
      ]
    },
    {
      "cell_type": "code",
      "execution_count": null,
      "metadata": {
        "colab": {
          "base_uri": "https://localhost:8080/"
        },
        "id": "_XL7RjHb1aW9",
        "outputId": "8a1c58a0-63ec-415f-8ea1-3d7623b2d7b4"
      },
      "outputs": [],
      "source": [
        " #Get only the 'Sales' column"
      ]
    },
    {
      "cell_type": "markdown",
      "metadata": {
        "id": "rGnn1mEBvjzm"
      },
      "source": [
        "#### Data Visualisation"
      ]
    },
    {
      "cell_type": "code",
      "execution_count": null,
      "metadata": {
        "colab": {
          "base_uri": "https://localhost:8080/",
          "height": 445
        },
        "id": "0qFGyJCDs8jZ",
        "outputId": "eb7ececf-6ac8-4b49-f373-3bd289720d8a"
      },
      "outputs": [],
      "source": [
        "#Data Visualisation\n"
      ]
    },
    {
      "cell_type": "markdown",
      "metadata": {
        "id": "Q4LJdCdAqAfF"
      },
      "source": [
        "# what is def\n",
        "  * def function name(argument):\n",
        "  * statement\n",
        "  * return expression"
      ]
    },
    {
      "cell_type": "code",
      "execution_count": 42,
      "metadata": {
        "id": "ogWnCK5ZnMyZ"
      },
      "outputs": [],
      "source": [
        "#example\n"
      ]
    },
    {
      "cell_type": "code",
      "execution_count": null,
      "metadata": {
        "id": "5RDq1fbznTUX"
      },
      "outputs": [],
      "source": []
    },
    {
      "cell_type": "code",
      "execution_count": 107,
      "metadata": {
        "colab": {
          "base_uri": "https://localhost:8080/",
          "height": 206
        },
        "id": "38e7AQTauZk8",
        "outputId": "ec22a2c6-52e6-46c1-90da-362fab55d9ec"
      },
      "outputs": [
        {
          "data": {
            "text/html": [
              "<div>\n",
              "<style scoped>\n",
              "    .dataframe tbody tr th:only-of-type {\n",
              "        vertical-align: middle;\n",
              "    }\n",
              "\n",
              "    .dataframe tbody tr th {\n",
              "        vertical-align: top;\n",
              "    }\n",
              "\n",
              "    .dataframe thead th {\n",
              "        text-align: right;\n",
              "    }\n",
              "</style>\n",
              "<table border=\"1\" class=\"dataframe\">\n",
              "  <thead>\n",
              "    <tr style=\"text-align: right;\">\n",
              "      <th></th>\n",
              "      <th>Order ID</th>\n",
              "      <th>Product</th>\n",
              "      <th>Quantity Ordered</th>\n",
              "      <th>Price Each</th>\n",
              "      <th>Order Date</th>\n",
              "      <th>Purchase Address</th>\n",
              "      <th>Year</th>\n",
              "      <th>Month</th>\n",
              "      <th>Day</th>\n",
              "      <th>Sale</th>\n",
              "      <th>City</th>\n",
              "    </tr>\n",
              "  </thead>\n",
              "  <tbody>\n",
              "    <tr>\n",
              "      <th>0</th>\n",
              "      <td>248151</td>\n",
              "      <td>AA Batteries (4-pack)</td>\n",
              "      <td>4</td>\n",
              "      <td>3.84</td>\n",
              "      <td>2018-09-17 14:44:00</td>\n",
              "      <td>883 West St, Boston, MA 02215</td>\n",
              "      <td>2018</td>\n",
              "      <td>9</td>\n",
              "      <td>17</td>\n",
              "      <td>15.36</td>\n",
              "      <td>Boston</td>\n",
              "    </tr>\n",
              "    <tr>\n",
              "      <th>1</th>\n",
              "      <td>248152</td>\n",
              "      <td>USB-C Charging Cable</td>\n",
              "      <td>2</td>\n",
              "      <td>11.95</td>\n",
              "      <td>2018-09-29 10:19:00</td>\n",
              "      <td>71 Ridge St, New York City, NY 10001</td>\n",
              "      <td>2018</td>\n",
              "      <td>9</td>\n",
              "      <td>29</td>\n",
              "      <td>23.90</td>\n",
              "      <td>New York City</td>\n",
              "    </tr>\n",
              "    <tr>\n",
              "      <th>2</th>\n",
              "      <td>248153</td>\n",
              "      <td>USB-C Charging Cable</td>\n",
              "      <td>1</td>\n",
              "      <td>11.95</td>\n",
              "      <td>2018-09-16 17:48:00</td>\n",
              "      <td>372 Spruce St, Portland, OR 97035</td>\n",
              "      <td>2018</td>\n",
              "      <td>9</td>\n",
              "      <td>16</td>\n",
              "      <td>11.95</td>\n",
              "      <td>Portland</td>\n",
              "    </tr>\n",
              "    <tr>\n",
              "      <th>3</th>\n",
              "      <td>248154</td>\n",
              "      <td>27in FHD Monitor</td>\n",
              "      <td>1</td>\n",
              "      <td>149.99</td>\n",
              "      <td>2018-09-27 07:52:00</td>\n",
              "      <td>315 Meadow St, Atlanta, GA 30301</td>\n",
              "      <td>2018</td>\n",
              "      <td>9</td>\n",
              "      <td>27</td>\n",
              "      <td>149.99</td>\n",
              "      <td>Atlanta</td>\n",
              "    </tr>\n",
              "    <tr>\n",
              "      <th>4</th>\n",
              "      <td>248155</td>\n",
              "      <td>USB-C Charging Cable</td>\n",
              "      <td>1</td>\n",
              "      <td>11.95</td>\n",
              "      <td>2018-09-01 19:03:00</td>\n",
              "      <td>408 Lake St, San Francisco, CA 94016</td>\n",
              "      <td>2018</td>\n",
              "      <td>9</td>\n",
              "      <td>1</td>\n",
              "      <td>11.95</td>\n",
              "      <td>San Francisco</td>\n",
              "    </tr>\n",
              "  </tbody>\n",
              "</table>\n",
              "</div>"
            ],
            "text/plain": [
              "   Order ID                Product  Quantity Ordered  Price Each  \\\n",
              "0    248151  AA Batteries (4-pack)                 4        3.84   \n",
              "1    248152   USB-C Charging Cable                 2       11.95   \n",
              "2    248153   USB-C Charging Cable                 1       11.95   \n",
              "3    248154       27in FHD Monitor                 1      149.99   \n",
              "4    248155   USB-C Charging Cable                 1       11.95   \n",
              "\n",
              "           Order Date                      Purchase Address  Year  Month  Day  \\\n",
              "0 2018-09-17 14:44:00         883 West St, Boston, MA 02215  2018      9   17   \n",
              "1 2018-09-29 10:19:00  71 Ridge St, New York City, NY 10001  2018      9   29   \n",
              "2 2018-09-16 17:48:00     372 Spruce St, Portland, OR 97035  2018      9   16   \n",
              "3 2018-09-27 07:52:00      315 Meadow St, Atlanta, GA 30301  2018      9   27   \n",
              "4 2018-09-01 19:03:00  408 Lake St, San Francisco, CA 94016  2018      9    1   \n",
              "\n",
              "     Sale           City  \n",
              "0   15.36         Boston  \n",
              "1   23.90  New York City  \n",
              "2   11.95       Portland  \n",
              "3  149.99        Atlanta  \n",
              "4   11.95  San Francisco  "
            ]
          },
          "execution_count": 107,
          "metadata": {},
          "output_type": "execute_result"
        }
      ],
      "source": [
        "#Finding the orders where the production city is the same as the city in the purchase address\n",
        "\n",
        "\n",
        "  #address patteern is street,city,postal code\n",
        "  #split() split a string into a list of substrings, the parameter is separator\n",
        "\n",
        "def city_from_address(address):\n",
        "    substrs=address.split(',')\n",
        "    city = substrs[1].strip()\n",
        "\n",
        "    return city\n",
        "\n",
        "df['City'] = df['Purchase Address'].apply(city_from_address)\n",
        "df.head()\n",
        " #you can apply a function you defined earlier in the dataset, the parameter: func\n"
      ]
    },
    {
      "cell_type": "code",
      "execution_count": 108,
      "metadata": {
        "colab": {
          "base_uri": "https://localhost:8080/"
        },
        "id": "saHrBm1fvg4T",
        "outputId": "2cc91df7-5204-4cf3-fa80-e6d588c2a713"
      },
      "outputs": [
        {
          "data": {
            "text/plain": [
              "City\n",
              "Atlanta          2725675.42\n",
              "Austin           1895729.79\n",
              "Boston           3704885.70\n",
              "Dallas           2739846.70\n",
              "Los Angeles      5484179.49\n",
              "New York City    4560903.07\n",
              "Portland         2304056.11\n",
              "San Francisco    8235163.62\n",
              "Seattle          2750361.87\n",
              "Name: Sale, dtype: float64"
            ]
          },
          "execution_count": 108,
          "metadata": {},
          "output_type": "execute_result"
        }
      ],
      "source": [
        "#Group data by cities\n",
        "groupby_city = df.groupby('City')\n",
        "gross_sales_by_city = groupby_city['Sale'].sum()\n",
        "gross_sales_by_city"
      ]
    },
    {
      "cell_type": "code",
      "execution_count": 110,
      "metadata": {
        "colab": {
          "base_uri": "https://localhost:8080/"
        },
        "id": "NVjBL0VGws73",
        "outputId": "89e766b9-c344-434c-d119-61ab20321d84"
      },
      "outputs": [
        {
          "data": {
            "text/plain": [
              "Month  City         \n",
              "1      Atlanta           140897.76\n",
              "       Austin            108931.35\n",
              "       Boston            195159.63\n",
              "       Dallas            149855.22\n",
              "       Los Angeles       283262.80\n",
              "                           ...    \n",
              "12     Los Angeles       738315.55\n",
              "       New York City     601734.15\n",
              "       Portland          327456.56\n",
              "       San Francisco    1102080.28\n",
              "       Seattle           388580.13\n",
              "Name: Sale, Length: 108, dtype: float64"
            ]
          },
          "execution_count": 110,
          "metadata": {},
          "output_type": "execute_result"
        }
      ],
      "source": [
        "#Which city makes the best sales across all 12 months\n",
        "df['Order Date'] = pd.to_numeric(df['Order Date'])\n",
        "groupby_data = df.groupby(['Month','City']).sum()['Sale']\n",
        "groupby_data\n"
      ]
    },
    {
      "cell_type": "code",
      "execution_count": 96,
      "metadata": {
        "colab": {
          "base_uri": "https://localhost:8080/"
        },
        "id": "71ZkD3Zmxwmm",
        "outputId": "987e30c1-14d3-49d0-dc94-43fd05ea15ad"
      },
      "outputs": [
        {
          "name": "stdout",
          "output_type": "stream",
          "text": [
            "<class 'pandas.core.frame.DataFrame'>\n",
            "RangeIndex: 185950 entries, 0 to 185949\n",
            "Data columns (total 11 columns):\n",
            " #   Column            Non-Null Count   Dtype         \n",
            "---  ------            --------------   -----         \n",
            " 0   Order ID          185950 non-null  int64         \n",
            " 1   Product           185950 non-null  object        \n",
            " 2   Quantity Ordered  185950 non-null  int64         \n",
            " 3   Price Each        185950 non-null  float64       \n",
            " 4   Order Date        185950 non-null  datetime64[ns]\n",
            " 5   Purchase Address  185950 non-null  object        \n",
            " 6   Year              185950 non-null  int32         \n",
            " 7   Month             185950 non-null  int32         \n",
            " 8   Day               185950 non-null  int32         \n",
            " 9   Sale              185950 non-null  float64       \n",
            " 10  City              185950 non-null  object        \n",
            "dtypes: datetime64[ns](1), float64(2), int32(3), int64(2), object(3)\n",
            "memory usage: 13.5+ MB\n"
          ]
        }
      ],
      "source": [
        "#display information of gross sales in every city for 1st 3 months\n",
        "#loc, accedd a group of rows based on positional index\n",
        "# group_data.loc[3,:] means select a specific row based on 3 and all its columns\n",
        "#why use []? In pandas, using [] to access elements form df, () for function calls\n"
      ]
    },
    {
      "cell_type": "code",
      "execution_count": null,
      "metadata": {
        "colab": {
          "base_uri": "https://localhost:8080/"
        },
        "id": "xAKu2BX3x7vU",
        "outputId": "9740ff80-8ba2-4100-a6dd-cfc8d0799500"
      },
      "outputs": [],
      "source": [
        "# Can query individual cities (Example: Atlanta)\n"
      ]
    },
    {
      "cell_type": "code",
      "execution_count": null,
      "metadata": {
        "colab": {
          "base_uri": "https://localhost:8080/"
        },
        "id": "uLMMgstpyjbP",
        "outputId": "6d8bfbc6-b99a-4193-e389-e778fdd19757"
      },
      "outputs": [],
      "source": [
        "#query each month sales for specific city\n"
      ]
    },
    {
      "cell_type": "markdown",
      "metadata": {
        "id": "UJxUqHPks1le"
      },
      "source": [
        "# create a line chart to show how the sale change in each city for 12 months?"
      ]
    },
    {
      "cell_type": "code",
      "execution_count": null,
      "metadata": {
        "colab": {
          "base_uri": "https://localhost:8080/"
        },
        "id": "_4PzKSipyxJO",
        "outputId": "188cb766-890a-4543-e523-43f41284e0a2"
      },
      "outputs": [],
      "source": [
        "# Get a list of cities\n",
        " #so there will be no duplicate\n"
      ]
    },
    {
      "cell_type": "code",
      "execution_count": 115,
      "metadata": {
        "colab": {
          "base_uri": "https://localhost:8080/",
          "height": 691
        },
        "id": "yf_pwt7Ky_bM",
        "outputId": "c93967fe-f8e2-43e3-914e-d1c1f6d7a535"
      },
      "outputs": [
        {
          "data": {
            "image/png": "[encoded data removed]",
            "text/plain": [
              "<Figure size 1500x800 with 1 Axes>"
            ]
          },
          "metadata": {},
          "output_type": "display_data"
        }
      ],
      "source": [
        "\n",
        "  #Get the city's 12 months of sales\n",
        "\n",
        "\n",
        "  #Plot line plot for this city\n",
        "  #parameter: only y is required\n",
        "cities = df['City'].unique()\n",
        "cities\n",
        "\n",
        "fig, ax = plt.subplots(figsize = (15,8))\n",
        "\n",
        "for city in cities:\n",
        "    current_sales = groupby_data.loc[:,city]\n",
        "    \n",
        "    ax.plot(current_sales, label=city)\n",
        "\n",
        "plt.grid()\n",
        "plt.legend()\n",
        "plt.show()"
      ]
    }
  ],
  "metadata": {
    "colab": {
      "collapsed_sections": [
        "HNTBgtOLgLyY"
      ],
      "provenance": []
    },
    "kernelspec": {
      "display_name": "Python 3",
      "name": "python3"
    },
    "language_info": {
      "codemirror_mode": {
        "name": "ipython",
        "version": 3
      },
      "file_extension": ".py",
      "mimetype": "text/x-python",
      "name": "python",
      "nbconvert_exporter": "python",
      "pygments_lexer": "ipython3",
      "version": "3.11.4"
    }
  },
  "nbformat": 4,
  "nbformat_minor": 0
}
