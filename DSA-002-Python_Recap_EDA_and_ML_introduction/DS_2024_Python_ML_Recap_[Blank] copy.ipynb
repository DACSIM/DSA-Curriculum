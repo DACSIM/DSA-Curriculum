{
  "cells": [
    {
      "cell_type": "markdown",
      "metadata": {
        "id": "gOYmK7LCkh8N"
      },
      "source": [
        "## Intro to Machine Learning\n",
        "\n",
        "*Welcome to Machine Learning Housing Corp.! Your task is to predict median house values in Californian districts, given a number of features from these districts.*"
      ]
    },
    {
      "cell_type": "markdown",
      "metadata": {
        "id": "t8j6n_dIkh8O"
      },
      "source": [
        "# Setup"
      ]
    },
    {
      "cell_type": "markdown",
      "metadata": {
        "id": "OWdlG3bYkh8O"
      },
      "source": [
        "First, let's import a few common modules, ensure MatplotLib plots figures inline and prepare a function to save the figures. We also check that Python 3.5 or later is installed (although Python 2.x may work, it is deprecated so we strongly recommend you use Python 3 instead), as well as Scikit-Learn ≥0.20."
      ]
    },
    {
      "cell_type": "code",
      "execution_count": 656,
      "metadata": {
        "id": "TzmcC8okkh8O"
      },
      "outputs": [],
      "source": [
        "# Python ≥3.5 is required\n",
        "\n",
        "\n",
        "# Scikit-Learn ≥0.20 is required\n",
        "\n",
        "\n",
        "# Common imports\n",
        "# To plot pretty figures\n",
        "\n",
        "\n",
        "# Where to save the figures\n",
        "\n",
        "\n",
        "# Define a function to save the figures\n"
      ]
    },
    {
      "cell_type": "markdown",
      "metadata": {
        "id": "qdyYQK_Lkh8P"
      },
      "source": [
        "# Get the Data"
      ]
    },
    {
      "cell_type": "markdown",
      "metadata": {
        "id": "0CNSxCX-kh8P"
      },
      "source": [
        "## Download the Data"
      ]
    },
    {
      "cell_type": "code",
      "execution_count": 657,
      "metadata": {
        "id": "hFPLoyWQkh8P"
      },
      "outputs": [],
      "source": [
        "# Import the necessary libraries\n",
        "\n",
        "\n",
        "#Get the path to the file\n",
        "\n",
        "\n",
        "# Write and call a function to fetch the data\n"
      ]
    },
    {
      "cell_type": "code",
      "execution_count": 659,
      "metadata": {
        "id": "s56q8GCTkh8P"
      },
      "outputs": [],
      "source": [
        "# Write and call a function to load the data\n"
      ]
    },
    {
      "cell_type": "markdown",
      "metadata": {
        "id": "JGBJXm4Jkh8P"
      },
      "source": [
        "## Take a Quick Look at the Data Structure"
      ]
    },
    {
      "cell_type": "code",
      "execution_count": null,
      "metadata": {
        "id": "ECWeGc3ekh8P",
        "outputId": "90d107ab-42d7-4a89-a959-d53ea1726110"
      },
      "outputs": [],
      "source": []
    },
    {
      "cell_type": "markdown",
      "metadata": {
        "id": "FCJLEiC_kh8Q"
      },
      "source": [
        "## Create a Test Set"
      ]
    },
    {
      "cell_type": "code",
      "execution_count": 665,
      "metadata": {
        "id": "gxXEyKTbkh8Q"
      },
      "outputs": [],
      "source": [
        "# to make this notebook's output identical at every run\n"
      ]
    },
    {
      "cell_type": "code",
      "execution_count": 666,
      "metadata": {
        "id": "iSeWrDYnkh8Q"
      },
      "outputs": [],
      "source": [
        "# Write and call a function to split the training set\n"
      ]
    },
    {
      "cell_type": "code",
      "execution_count": null,
      "metadata": {
        "id": "4w1qVQj5kh8Q",
        "outputId": "25bf0340-7d46-4e22-aaee-06322b9bb7b9"
      },
      "outputs": [],
      "source": [
        "# What is the length of the training set?\n"
      ]
    },
    {
      "cell_type": "code",
      "execution_count": null,
      "metadata": {
        "id": "jF8mGDfLkh8Q",
        "outputId": "ff8a93c1-c1c4-4fd8-e344-641977a7d281"
      },
      "outputs": [],
      "source": [
        "# What is the length of the test set?"
      ]
    },
    {
      "cell_type": "code",
      "execution_count": 669,
      "metadata": {
        "id": "15mM6ReIkh8Q"
      },
      "outputs": [],
      "source": [
        "# check the test set\n",
        "\n",
        "# splitting the trainning set by id\n"
      ]
    },
    {
      "cell_type": "code",
      "execution_count": 674,
      "metadata": {
        "id": "gFJD1AkFkh8R"
      },
      "outputs": [],
      "source": [
        "# splitting the data using stratified shuffle split\n"
      ]
    },
    {
      "cell_type": "markdown",
      "metadata": {
        "id": "1uuAzzckkh8Z"
      },
      "source": [
        "# Discover and Visualize the Data to Gain Insights"
      ]
    },
    {
      "cell_type": "code",
      "execution_count": 680,
      "metadata": {
        "id": "Hjj9kKyKkh8Z"
      },
      "outputs": [],
      "source": []
    },
    {
      "cell_type": "markdown",
      "metadata": {
        "id": "FMMvHnd5kh8Z"
      },
      "source": [
        "## Visualizing Geographical Data"
      ]
    },
    {
      "cell_type": "code",
      "execution_count": null,
      "metadata": {
        "id": "sGlrOq12kh8Z",
        "outputId": "91a8ecc4-c850-41ce-c1a9-8d77968a83e9"
      },
      "outputs": [],
      "source": []
    },
    {
      "cell_type": "code",
      "execution_count": null,
      "metadata": {
        "id": "69qlh0nikh8Z",
        "outputId": "98ebd987-2a9f-401d-98a2-d9fb1ce3cfd4"
      },
      "outputs": [],
      "source": []
    },
    {
      "cell_type": "markdown",
      "metadata": {
        "id": "3SW_0eQOkh8Z"
      },
      "source": [
        "The argument `sharex=False` fixes a display bug (the x-axis values and legend were not displayed). "
      ]
    },
    {
      "cell_type": "code",
      "execution_count": null,
      "metadata": {
        "id": "SALy4HDnkh8Z",
        "outputId": "f42133d3-1828-4142-bf87-df0913140b64"
      },
      "outputs": [],
      "source": []
    },
    {
      "cell_type": "code",
      "execution_count": null,
      "metadata": {
        "id": "tP_ojEonkh8Z",
        "outputId": "95a3e895-4d80-4238-ebb7-56ebbbb44a1d"
      },
      "outputs": [],
      "source": [
        "# Download the California image\n"
      ]
    },
    {
      "cell_type": "code",
      "execution_count": null,
      "metadata": {
        "id": "hMCWNjdVkh8a",
        "outputId": "91387ec4-2ebc-4995-f764-cf077846120b"
      },
      "outputs": [],
      "source": []
    },
    {
      "cell_type": "markdown",
      "metadata": {
        "id": "0-wdWAFbkh8a"
      },
      "source": [
        "## Looking for Correlations"
      ]
    },
    {
      "cell_type": "code",
      "execution_count": 686,
      "metadata": {
        "id": "upkC1zQ0kh8a"
      },
      "outputs": [],
      "source": []
    },
    {
      "cell_type": "code",
      "execution_count": null,
      "metadata": {
        "id": "uGwt8rECkh8a",
        "outputId": "69c6d53e-b70e-4964-f29d-6634ff179ad1"
      },
      "outputs": [],
      "source": []
    },
    {
      "cell_type": "code",
      "execution_count": null,
      "metadata": {
        "id": "V-YWoecFkh8a",
        "outputId": "f9a04249-bb9f-46e6-d5c1-fe42d3e6b3a3"
      },
      "outputs": [],
      "source": [
        "# from pandas.tools.plotting import scatter_matrix # For older versions of Pandas\n"
      ]
    },
    {
      "cell_type": "code",
      "execution_count": null,
      "metadata": {
        "id": "rOgUMxfIkh8a",
        "outputId": "997aaa56-30e0-4902-d36f-251ad26390d2"
      },
      "outputs": [],
      "source": []
    },
    {
      "cell_type": "markdown",
      "metadata": {
        "id": "NUE0Z57xkh8a"
      },
      "source": [
        "## Experimenting with Attribute Combinations"
      ]
    },
    {
      "cell_type": "code",
      "execution_count": 690,
      "metadata": {
        "id": "j9TKJqWrkh8a"
      },
      "outputs": [],
      "source": []
    },
    {
      "cell_type": "code",
      "execution_count": null,
      "metadata": {
        "id": "tLcXD8n4kh8a",
        "outputId": "fb5ca2e1-2f76-4937-b603-5b0d836a8eec"
      },
      "outputs": [],
      "source": []
    },
    {
      "cell_type": "code",
      "execution_count": null,
      "metadata": {
        "id": "uUclm5kGkh8a",
        "outputId": "48841b81-8b8e-41c4-f05d-bff9c5c97428"
      },
      "outputs": [],
      "source": []
    },
    {
      "cell_type": "code",
      "execution_count": null,
      "metadata": {
        "id": "2dHcMb_akh8a",
        "outputId": "c779d194-1791-450c-fe1c-034727ed74b5"
      },
      "outputs": [],
      "source": []
    },
    {
      "cell_type": "markdown",
      "metadata": {
        "id": "UGH-SvWEkh8a"
      },
      "source": [
        "# Prepare the Data for Machine Learning Algorithms"
      ]
    },
    {
      "cell_type": "code",
      "execution_count": 694,
      "metadata": {
        "id": "r2j9oQZEkh8a"
      },
      "outputs": [],
      "source": [
        " # drop labels for training set\n"
      ]
    },
    {
      "cell_type": "markdown",
      "metadata": {
        "id": "DnWXbDZlkh8a"
      },
      "source": [
        "## Data Cleaning"
      ]
    },
    {
      "cell_type": "code",
      "execution_count": null,
      "metadata": {
        "id": "isNfRQPvkh8b",
        "outputId": "7d0e67e4-84a4-4189-f7cf-0cfe7b18611f"
      },
      "outputs": [],
      "source": []
    },
    {
      "cell_type": "code",
      "execution_count": 700,
      "metadata": {
        "id": "sun9w5mOkh8b"
      },
      "outputs": [],
      "source": []
    },
    {
      "cell_type": "markdown",
      "metadata": {
        "id": "KCmSPs9Jkh8b"
      },
      "source": [
        "Remove the text attribute because median can only be calculated on numerical attributes:"
      ]
    },
    {
      "cell_type": "code",
      "execution_count": 701,
      "metadata": {
        "id": "41CZsidykh8b"
      },
      "outputs": [],
      "source": [
        "\n",
        "# alternatively: housing_num = housing.select_dtypes(include=[np.number])"
      ]
    },
    {
      "cell_type": "code",
      "execution_count": null,
      "metadata": {
        "id": "PLyz4egxkh8b",
        "outputId": "274af218-24ee-4759-d715-38d799a1ae89"
      },
      "outputs": [],
      "source": []
    },
    {
      "cell_type": "code",
      "execution_count": null,
      "metadata": {
        "id": "gE5dxOWykh8b",
        "outputId": "ad795028-e463-483a-88cf-69b8403aef08"
      },
      "outputs": [],
      "source": []
    },
    {
      "cell_type": "markdown",
      "metadata": {
        "id": "3zyvfTM_kh8b"
      },
      "source": [
        "Check that this is the same as manually computing the median of each attribute:"
      ]
    },
    {
      "cell_type": "code",
      "execution_count": null,
      "metadata": {
        "id": "jS6w0sRIkh8b",
        "outputId": "46d356aa-670a-4049-be75-a3e5936c9356"
      },
      "outputs": [],
      "source": []
    },
    {
      "cell_type": "markdown",
      "metadata": {
        "id": "3ULbpULJkh8b"
      },
      "source": [
        "Transform the training set:"
      ]
    },
    {
      "cell_type": "code",
      "execution_count": 705,
      "metadata": {
        "id": "lnSEVOFikh8b"
      },
      "outputs": [],
      "source": []
    },
    {
      "cell_type": "markdown",
      "metadata": {
        "id": "_5RYuKcVkh8b"
      },
      "source": [
        "## Handling Text and Categorical Attributes"
      ]
    },
    {
      "cell_type": "markdown",
      "metadata": {
        "id": "YqtCAIQgkh8b"
      },
      "source": [
        "Now let's preprocess the categorical input feature, `ocean_proximity`:"
      ]
    },
    {
      "cell_type": "code",
      "execution_count": null,
      "metadata": {
        "id": "ZKR4KJ2ckh8b",
        "outputId": "639be355-dd7a-4332-ac0d-56fccf5e6b3f"
      },
      "outputs": [],
      "source": []
    },
    {
      "cell_type": "markdown",
      "metadata": {
        "id": "6gM2itx2kh8c"
      },
      "source": [
        "By default, the `OneHotEncoder` class returns a sparse array, but we can convert it to a dense array if needed by calling the `toarray()` method:"
      ]
    },
    {
      "cell_type": "code",
      "execution_count": null,
      "metadata": {
        "id": "XVn0QvK6kh8c",
        "outputId": "a7fe5cc2-2f6d-4fb4-b9ac-1218dda84a54"
      },
      "outputs": [],
      "source": []
    },
    {
      "cell_type": "markdown",
      "metadata": {
        "id": "oN1mY88Akh8c"
      },
      "source": [
        "Alternatively, you can set `sparse=False` when creating the `OneHotEncoder`:"
      ]
    },
    {
      "cell_type": "code",
      "execution_count": null,
      "metadata": {
        "id": "giL4DwGakh8c",
        "outputId": "43808a58-53a9-4aa8-bed0-b519022417ab"
      },
      "outputs": [],
      "source": []
    },
    {
      "cell_type": "markdown",
      "metadata": {
        "id": "hAB7WJB8kh8c"
      },
      "source": [
        "## Custom Transformers"
      ]
    },
    {
      "cell_type": "markdown",
      "metadata": {
        "id": "JfIx4gjlkh8c"
      },
      "source": [
        "Let's create a custom transformer to add extra attributes:"
      ]
    },
    {
      "cell_type": "code",
      "execution_count": 718,
      "metadata": {
        "id": "NMv6EBH_kh8c"
      },
      "outputs": [],
      "source": []
    },
    {
      "cell_type": "markdown",
      "metadata": {
        "id": "qVveTHkikh8c"
      },
      "source": [
        "Note that I hard coded the indices (3, 4, 5, 6) for concision and clarity in the book, but it would be much cleaner to get them dynamically, like this:"
      ]
    },
    {
      "cell_type": "code",
      "execution_count": 719,
      "metadata": {
        "id": "v9d2ZTHVkh8c"
      },
      "outputs": [],
      "source": []
    },
    {
      "cell_type": "markdown",
      "metadata": {
        "id": "43P8_9U1kh8c"
      },
      "source": [
        "Also, `housing_extra_attribs` is a NumPy array, we've lost the column names (unfortunately, that's a problem with Scikit-Learn). To recover a `DataFrame`, you could run this:"
      ]
    },
    {
      "cell_type": "code",
      "execution_count": null,
      "metadata": {
        "id": "EObqnm7Ckh8c",
        "outputId": "192166f2-966e-44e6-ee1b-39ed4bf6bdc6"
      },
      "outputs": [],
      "source": []
    },
    {
      "cell_type": "markdown",
      "metadata": {
        "id": "KtXrAbBMkh8c"
      },
      "source": [
        "## Transformation Pipelines"
      ]
    },
    {
      "cell_type": "markdown",
      "metadata": {
        "id": "HuhljqlJkh8c"
      },
      "source": [
        "Now let's build a pipeline for preprocessing the numerical attributes:"
      ]
    },
    {
      "cell_type": "code",
      "execution_count": 721,
      "metadata": {
        "id": "aVdduV5akh8c"
      },
      "outputs": [],
      "source": []
    },
    {
      "cell_type": "markdown",
      "metadata": {
        "id": "qDkYYS7Wkh8d"
      },
      "source": [
        "For reference, here is the old solution based on a `DataFrameSelector` transformer (to just select a subset of the Pandas `DataFrame` columns), and a `FeatureUnion`:"
      ]
    },
    {
      "cell_type": "code",
      "execution_count": 726,
      "metadata": {
        "id": "G-lmtsRakh8d"
      },
      "outputs": [],
      "source": [
        "\n",
        "\n",
        "# Create a class to select numerical or categorical columns\n"
      ]
    },
    {
      "cell_type": "markdown",
      "metadata": {
        "id": "eCzVzM-Fkh8d"
      },
      "source": [
        "Now let's join all these components into a big pipeline that will preprocess both the numerical and the categorical features:"
      ]
    },
    {
      "cell_type": "code",
      "execution_count": 727,
      "metadata": {
        "id": "H-H_H7bZkh8d"
      },
      "outputs": [],
      "source": []
    },
    {
      "cell_type": "markdown",
      "metadata": {
        "id": "CVRfZ_Fbkh8d"
      },
      "source": [
        "The result is the same as with the `ColumnTransformer`:"
      ]
    },
    {
      "cell_type": "code",
      "execution_count": null,
      "metadata": {
        "id": "0CTMf5hDkh8d",
        "outputId": "343f107e-066a-46c7-cdba-483c22ba2bd0"
      },
      "outputs": [],
      "source": []
    },
    {
      "cell_type": "markdown",
      "metadata": {
        "id": "BpJL_9j1kh8d"
      },
      "source": [
        "# Select and Train a Model"
      ]
    },
    {
      "cell_type": "markdown",
      "metadata": {
        "id": "h3ofM81Hkh8d"
      },
      "source": [
        "## Training and Evaluating on the Training Set"
      ]
    },
    {
      "cell_type": "code",
      "execution_count": null,
      "metadata": {
        "id": "H2IHVw6ckh8d",
        "outputId": "8c99c681-fe6a-4f02-a21a-b02a86fbe9ac"
      },
      "outputs": [],
      "source": []
    },
    {
      "cell_type": "code",
      "execution_count": null,
      "metadata": {
        "id": "5ywqrxKnkh8d",
        "outputId": "1e9b557f-178d-4f4b-be71-a28d41504a54"
      },
      "outputs": [],
      "source": [
        "# let's try the full preprocessing pipeline on a few training instances\n"
      ]
    },
    {
      "cell_type": "markdown",
      "metadata": {
        "id": "5vW2eVk-kh8d"
      },
      "source": [
        "Compare against the actual values:"
      ]
    },
    {
      "cell_type": "code",
      "execution_count": null,
      "metadata": {
        "id": "3bFNXWUWkh8d",
        "outputId": "1916e1dd-6e6b-4ea5-deaf-3c7194b8ac60"
      },
      "outputs": [],
      "source": []
    },
    {
      "cell_type": "markdown",
      "metadata": {
        "id": "gGijJAMskh8d"
      },
      "source": [
        "**Note**: since Scikit-Learn 0.22, you can get the RMSE directly by calling the `mean_squared_error()` function with `squared=False`."
      ]
    },
    {
      "cell_type": "code",
      "execution_count": null,
      "metadata": {
        "id": "g1-itUAZkh8d",
        "outputId": "3613ee4a-c38c-4a19-e773-2c2541f36f84"
      },
      "outputs": [],
      "source": []
    },
    {
      "cell_type": "markdown",
      "metadata": {
        "id": "V7mMNaIjkh8e"
      },
      "source": [
        "## Better Evaluation Using Cross-Validation"
      ]
    },
    {
      "cell_type": "code",
      "execution_count": 739,
      "metadata": {
        "id": "aRC93Ctnkh8e"
      },
      "outputs": [],
      "source": []
    },
    {
      "cell_type": "markdown",
      "metadata": {
        "id": "uUIhYk1Vkh8e"
      },
      "source": [
        "**Note**: we specify `n_estimators=100` to be future-proof since the default value is going to change to 100 in Scikit-Learn 0.22 (for simplicity, this is not shown in the book)."
      ]
    },
    {
      "cell_type": "code",
      "execution_count": null,
      "metadata": {
        "id": "DcVEHyc1kh8e",
        "outputId": "9e480c1d-fc74-4007-cc21-641eafa7cc06"
      },
      "outputs": [],
      "source": []
    },
    {
      "cell_type": "markdown",
      "metadata": {
        "id": "hc344ZuLkh8e"
      },
      "source": [
        "# Fine-Tune Your Model"
      ]
    },
    {
      "cell_type": "markdown",
      "metadata": {
        "id": "FmKXsU8ckh8e"
      },
      "source": [
        "## Grid Search"
      ]
    },
    {
      "cell_type": "code",
      "execution_count": null,
      "metadata": {
        "id": "U0ThCgtxkh8e",
        "outputId": "973bb694-2569-4c59-c234-0abfbf7e51c0"
      },
      "outputs": [],
      "source": [
        "    # try 12 (3×4) combinations of hyperparameters\n",
        "    # then try 6 (2×3) combinations with bootstrap set as False\n",
        "\n",
        "# train across 5 folds, that's a total of (12+6)*5=90 rounds of training\n"
      ]
    },
    {
      "cell_type": "markdown",
      "metadata": {
        "id": "Dnw57Ttlkh8e"
      },
      "source": [
        "The best hyperparameter combination found:"
      ]
    },
    {
      "cell_type": "code",
      "execution_count": null,
      "metadata": {
        "id": "Ae3WVLIZkh8e",
        "outputId": "7d1ce6e0-2ae9-40e5-89aa-6890c232eac6"
      },
      "outputs": [],
      "source": []
    },
    {
      "cell_type": "markdown",
      "metadata": {
        "id": "LtnRNyjzkh8e"
      },
      "source": [
        "Let's look at the score of each hyperparameter combination tested during the grid search:"
      ]
    },
    {
      "cell_type": "code",
      "execution_count": null,
      "metadata": {
        "id": "uWDfqqw1kh8e",
        "outputId": "03b4d338-7104-45de-8b73-5574e32d2316"
      },
      "outputs": [],
      "source": []
    },
    {
      "cell_type": "markdown",
      "metadata": {
        "id": "TbTAy8D-kh8e"
      },
      "source": [
        "## Randomized Search"
      ]
    },
    {
      "cell_type": "code",
      "execution_count": null,
      "metadata": {
        "id": "NWHiy75-kh8e",
        "outputId": "80ff68e8-71cc-4540-9706-b7b9218114c5"
      },
      "outputs": [],
      "source": []
    },
    {
      "cell_type": "markdown",
      "metadata": {
        "id": "f1H7jx1kkh8f"
      },
      "source": [
        "## Analyze the Best Models and Their Errors"
      ]
    },
    {
      "cell_type": "code",
      "execution_count": null,
      "metadata": {
        "id": "NPCVDyQlkh8f",
        "outputId": "bb3b9a8a-60c8-422b-d31a-37266d2a8d1c"
      },
      "outputs": [],
      "source": []
    },
    {
      "cell_type": "markdown",
      "metadata": {
        "id": "zWmdKOkOkh8f"
      },
      "source": [
        "## Evaluate Your System on the Test Set"
      ]
    },
    {
      "cell_type": "code",
      "execution_count": 756,
      "metadata": {
        "id": "vBRte5T0kh8f"
      },
      "outputs": [],
      "source": []
    },
    {
      "cell_type": "code",
      "execution_count": null,
      "metadata": {
        "id": "WoPdNxXfkh8f",
        "outputId": "d27a6fd7-67e6-4597-da70-9312092f7c55"
      },
      "outputs": [],
      "source": []
    },
    {
      "cell_type": "markdown",
      "metadata": {
        "id": "a0hGbsTrkh8f"
      },
      "source": [
        "We can compute a 95% confidence interval for the test RMSE:"
      ]
    },
    {
      "cell_type": "code",
      "execution_count": null,
      "metadata": {
        "id": "23l7ucynkh8f",
        "outputId": "9ccb58e5-f3fc-4765-8426-dd85dfaed640"
      },
      "outputs": [],
      "source": []
    },
    {
      "cell_type": "markdown",
      "metadata": {
        "id": "84_mh-6gkh8f"
      },
      "source": [
        "We could compute the interval manually like this:"
      ]
    },
    {
      "cell_type": "code",
      "execution_count": null,
      "metadata": {
        "id": "17T56uk-kh8f",
        "outputId": "fbc861e1-0b50-4a95-97be-ca6a000fad8d"
      },
      "outputs": [],
      "source": []
    },
    {
      "cell_type": "markdown",
      "metadata": {
        "id": "JqqyO5l5kh8f"
      },
      "source": [
        "Alternatively, we could use a z-scores rather than t-scores:"
      ]
    },
    {
      "cell_type": "code",
      "execution_count": null,
      "metadata": {
        "id": "MbfJ0yp9kh8f",
        "outputId": "40a5d235-bfb0-4c34-cccd-afe7f46ad941"
      },
      "outputs": [],
      "source": []
    },
    {
      "cell_type": "markdown",
      "metadata": {
        "id": "7CND7lF8kh8f"
      },
      "source": [
        "# Extra material"
      ]
    },
    {
      "cell_type": "markdown",
      "metadata": {
        "id": "c3PHINJZkh8f"
      },
      "source": [
        "## A full pipeline with both preparation and prediction"
      ]
    },
    {
      "cell_type": "code",
      "execution_count": null,
      "metadata": {
        "id": "eCJrSkPpkh8f",
        "outputId": "808054e9-56e7-4f8e-b7cc-330bb9312545"
      },
      "outputs": [],
      "source": []
    },
    {
      "cell_type": "markdown",
      "metadata": {
        "id": "a0QIFU-Lkh8f"
      },
      "source": [
        "## Model persistence using joblib"
      ]
    },
    {
      "cell_type": "code",
      "execution_count": 762,
      "metadata": {
        "id": "7-xtcnJTkh8f"
      },
      "outputs": [],
      "source": []
    },
    {
      "cell_type": "code",
      "execution_count": 763,
      "metadata": {
        "id": "uleZmmkZkh8f"
      },
      "outputs": [],
      "source": [
        "\n",
        " # DIFF\n",
        "#...\n",
        " # DIFF"
      ]
    },
    {
      "cell_type": "markdown",
      "metadata": {
        "id": "Umq4xESKkh8f"
      },
      "source": [
        "## Example SciPy distributions for `RandomizedSearchCV`"
      ]
    },
    {
      "cell_type": "code",
      "execution_count": null,
      "metadata": {
        "id": "bgTPAyKhkh8f",
        "outputId": "1dc70db4-5d2a-41bb-b0f1-e010015fe9da"
      },
      "outputs": [],
      "source": []
    },
    {
      "cell_type": "markdown",
      "metadata": {
        "id": "X93YdG4_kh8g"
      },
      "source": [
        "# Exercises"
      ]
    },
    {
      "cell_type": "markdown",
      "metadata": {
        "id": "jW56wZqxkh8h"
      },
      "source": [
        "## 1."
      ]
    },
    {
      "cell_type": "markdown",
      "metadata": {
        "id": "k41-znPGkh8h"
      },
      "source": [
        "Question: Try adding a transformer in the preparation pipeline to select only the most important attributes."
      ]
    },
    {
      "cell_type": "code",
      "execution_count": 765,
      "metadata": {
        "id": "fPfvRElzkh8h"
      },
      "outputs": [],
      "source": []
    },
    {
      "cell_type": "markdown",
      "metadata": {
        "id": "ZONHT6Kckh8h"
      },
      "source": [
        "Note: this feature selector assumes that you have already computed the feature importances somehow (for example using a `RandomForestRegressor`). You may be tempted to compute them directly in the `TopFeatureSelector`'s `fit()` method, however this would likely slow down grid/randomized search since the feature importances would have to be computed for every hyperparameter combination (unless you implement some sort of cache)."
      ]
    },
    {
      "cell_type": "markdown",
      "metadata": {
        "id": "LQURwawHkh8h"
      },
      "source": [
        "Let's define the number of top features we want to keep:"
      ]
    },
    {
      "cell_type": "code",
      "execution_count": 766,
      "metadata": {
        "id": "D4nujM6akh8h"
      },
      "outputs": [],
      "source": []
    },
    {
      "cell_type": "markdown",
      "metadata": {
        "id": "wekVAfEckh8h"
      },
      "source": [
        "Now let's look for the indices of the top k features:"
      ]
    },
    {
      "cell_type": "code",
      "execution_count": null,
      "metadata": {
        "id": "zzKDR9rPkh8h",
        "outputId": "47e4d34d-accb-4e1b-d014-244ed4805558"
      },
      "outputs": [],
      "source": []
    },
    {
      "cell_type": "code",
      "execution_count": null,
      "metadata": {
        "id": "5MWzA9ockh8h",
        "outputId": "db479ff7-8421-4354-ed60-fb0e4fc97830"
      },
      "outputs": [],
      "source": []
    },
    {
      "cell_type": "markdown",
      "metadata": {
        "id": "NthGgGBZkh8h"
      },
      "source": [
        "Let's double check that these are indeed the top k features:"
      ]
    },
    {
      "cell_type": "code",
      "execution_count": null,
      "metadata": {
        "id": "5-6ARp3kkh8h",
        "outputId": "e0e0817f-150b-4332-8d0c-b66192a56352"
      },
      "outputs": [],
      "source": []
    },
    {
      "cell_type": "markdown",
      "metadata": {
        "id": "yXXHWTqFkh8h"
      },
      "source": [
        "Looking good... Now let's create a new pipeline that runs the previously defined preparation pipeline, and adds top k feature selection:"
      ]
    },
    {
      "cell_type": "code",
      "execution_count": 770,
      "metadata": {
        "id": "vaOBXbc-kh8h"
      },
      "outputs": [],
      "source": []
    },
    {
      "cell_type": "code",
      "execution_count": 771,
      "metadata": {
        "id": "yKOCbfqWkh8h"
      },
      "outputs": [],
      "source": []
    },
    {
      "cell_type": "markdown",
      "metadata": {
        "id": "FGCQhX6kkh8h"
      },
      "source": [
        "Let's look at the features of the first 3 instances:"
      ]
    },
    {
      "cell_type": "code",
      "execution_count": null,
      "metadata": {
        "id": "I9X11yclkh8h",
        "outputId": "6b13f996-2c23-4649-90e1-9b187d961834"
      },
      "outputs": [],
      "source": []
    },
    {
      "cell_type": "markdown",
      "metadata": {
        "id": "i58jGHAokh8i"
      },
      "source": [
        "Now let's double check that these are indeed the top k features:"
      ]
    },
    {
      "cell_type": "code",
      "execution_count": null,
      "metadata": {
        "id": "xoN271hLkh8i",
        "outputId": "352f908f-6c44-4b36-f937-afc5df6ff1d6"
      },
      "outputs": [],
      "source": []
    },
    {
      "cell_type": "markdown",
      "metadata": {
        "id": "ovDQZIO0kh8i"
      },
      "source": [
        "Works great!  :)"
      ]
    }
  ],
  "metadata": {
    "colab": {
      "provenance": []
    },
    "kernelspec": {
      "display_name": "Python 3",
      "language": "python",
      "name": "python3"
    },
    "language_info": {
      "codemirror_mode": {
        "name": "ipython",
        "version": 3
      },
      "file_extension": ".py",
      "mimetype": "text/x-python",
      "name": "python",
      "nbconvert_exporter": "python",
      "pygments_lexer": "ipython3",
      "version": "3.8.5"
    },
    "nav_menu": {
      "height": "279px",
      "width": "309px"
    },
    "toc": {
      "nav_menu": {},
      "number_sections": true,
      "sideBar": true,
      "skip_h1_title": false,
      "toc_cell": false,
      "toc_position": {},
      "toc_section_display": "block",
      "toc_window_display": false
    }
  },
  "nbformat": 4,
  "nbformat_minor": 0
}
