{
  "cells": [
    {
      "cell_type": "markdown",
      "metadata": {
        "id": "HNTBgtOLgLyY"
      },
      "source": [
        "## Data Visualisation with Python"
      ]
    },
    {
      "cell_type": "code",
      "execution_count": 1,
      "metadata": {
        "id": "yNKPBDvgViTh"
      },
      "outputs": [],
      "source": [
        "# Import the necessary libraries\n"
      ]
    },
    {
      "cell_type": "markdown",
      "metadata": {
        "id": "gEyMH6nrV5Y8"
      },
      "source": [
        "## Step Process\n",
        "1. Load Data\n",
        "2. Inspect Data\n",
        "3. Clean Data (if needed)\n",
        "4. Explore + Visualise Data\n",
        "5. Derive insights from Data Exploration/Visualisation"
      ]
    },
    {
      "cell_type": "markdown",
      "metadata": {
        "id": "PTcprhAQWQgA"
      },
      "source": [
        "### Example 1: Forbes 2022 Data"
      ]
    },
    {
      "cell_type": "markdown",
      "metadata": {
        "id": "S3jz6Jbhgq6l"
      },
      "source": [
        "#### 1. Load Data"
      ]
    },
    {
      "cell_type": "code",
      "execution_count": null,
      "metadata": {
        "colab": {
          "base_uri": "https://localhost:8080/",
          "height": 423
        },
        "id": "fPbuxzJdVvB-",
        "outputId": "6c081aa6-5017-4629-de3a-0bf8b30248f4"
      },
      "outputs": [],
      "source": []
    },
    {
      "cell_type": "markdown",
      "metadata": {
        "id": "745zRJ8agunC"
      },
      "source": [
        "#### 2. Inspect Data"
      ]
    },
    {
      "cell_type": "code",
      "execution_count": null,
      "metadata": {
        "colab": {
          "base_uri": "https://localhost:8080/"
        },
        "id": "aOl8fsH6W51W",
        "outputId": "69466bb9-7c30-4b06-90b2-7c5f8ec05444"
      },
      "outputs": [],
      "source": [
        "#If True, means duplicate"
      ]
    },
    {
      "cell_type": "code",
      "execution_count": null,
      "metadata": {
        "colab": {
          "base_uri": "https://localhost:8080/"
        },
        "id": "SFQOa_IwW8m-",
        "outputId": "d830e4b8-0542-4b1c-cad5-a4302c405dc3"
      },
      "outputs": [],
      "source": []
    },
    {
      "cell_type": "code",
      "execution_count": null,
      "metadata": {
        "colab": {
          "base_uri": "https://localhost:8080/"
        },
        "id": "BYiWkQ46XEb5",
        "outputId": "294dd423-903f-4cf7-db4c-ffdcff3e8166"
      },
      "outputs": [],
      "source": []
    },
    {
      "cell_type": "code",
      "execution_count": 6,
      "metadata": {
        "id": "nsRhAbMEalv8"
      },
      "outputs": [],
      "source": [
        "#if has null value\n",
        "#forbes.dropna()"
      ]
    },
    {
      "cell_type": "code",
      "execution_count": null,
      "metadata": {
        "colab": {
          "base_uri": "https://localhost:8080/"
        },
        "id": "-SKw9TcOXIAr",
        "outputId": "49659bee-b129-43a1-f89a-d9c81a062f0e"
      },
      "outputs": [],
      "source": [
        "#Check data type, see if the type makes sense\n"
      ]
    },
    {
      "cell_type": "markdown",
      "metadata": {
        "id": "D_s1D22ig4S_"
      },
      "source": [
        "#### 3. Clean Data"
      ]
    },
    {
      "cell_type": "code",
      "execution_count": 8,
      "metadata": {
        "colab": {
          "base_uri": "https://localhost:8080/"
        },
        "id": "gUh5_VK9XjQt",
        "outputId": "603efde5-7299-481b-c8d0-95a214a296ec"
      },
      "outputs": [],
      "source": [
        "#Dtype is object indicates a generic type that can represent any Python object, including string, numbers..\n",
        "#for a dataframe in pandas, it usually represents string\n",
        "\n",
        "#Replace the $ and B with empty string\n",
        "#str.replace(oldvalue,newvalue,count)\n",
        "\n",
        "\n",
        "#Change type to numeric\n"
      ]
    },
    {
      "cell_type": "markdown",
      "metadata": {
        "id": "S98esECag_5s"
      },
      "source": [
        "#### 4. Explore Data"
      ]
    },
    {
      "cell_type": "code",
      "execution_count": null,
      "metadata": {
        "colab": {
          "base_uri": "https://localhost:8080/",
          "height": 206
        },
        "id": "E18asV1vYI9d",
        "outputId": "8bf8acff-3362-468f-ee1f-d889fe26405c"
      },
      "outputs": [],
      "source": []
    },
    {
      "cell_type": "code",
      "execution_count": null,
      "metadata": {
        "colab": {
          "base_uri": "https://localhost:8080/"
        },
        "id": "vyPuURZZYcAr",
        "outputId": "947eabd3-3834-4724-917d-6b11aa9eb806"
      },
      "outputs": [],
      "source": [
        "# Finding the industry with the highest number of billionaires\n",
        "#value_counts() counts the frequency of unique values in specific columns of a dataframe\n"
      ]
    },
    {
      "cell_type": "code",
      "execution_count": null,
      "metadata": {
        "colab": {
          "base_uri": "https://localhost:8080/"
        },
        "id": "bBm50NQtYznW",
        "outputId": "d64deb66-1be0-4da3-f788-d71ba2c0e633"
      },
      "outputs": [],
      "source": [
        "# To display the top 5 industries with the most number of billionaires\n"
      ]
    },
    {
      "cell_type": "code",
      "execution_count": null,
      "metadata": {
        "colab": {
          "base_uri": "https://localhost:8080/",
          "height": 612
        },
        "id": "KayBfo93ZFtY",
        "outputId": "5756324d-41d1-4bfd-804a-9b2d209f3bfc"
      },
      "outputs": [],
      "source": [
        "# show the number of billionaires in each industry with bar chart\n"
      ]
    },
    {
      "cell_type": "code",
      "execution_count": null,
      "metadata": {
        "colab": {
          "base_uri": "https://localhost:8080/",
          "height": 430
        },
        "id": "VE2oxd_wZmlN",
        "outputId": "622f495f-c776-47a2-b791-edbad9013769"
      },
      "outputs": [],
      "source": [
        "#Horizontal bar\n"
      ]
    },
    {
      "cell_type": "code",
      "execution_count": null,
      "metadata": {
        "colab": {
          "base_uri": "https://localhost:8080/"
        },
        "id": "CTO16LAqZ0m4",
        "outputId": "e97f997d-75ff-4a23-9698-c3ce4a4ec802"
      },
      "outputs": [],
      "source": [
        "# Finding the country with the highest number of billionaires\n"
      ]
    },
    {
      "cell_type": "code",
      "execution_count": null,
      "metadata": {
        "colab": {
          "base_uri": "https://localhost:8080/"
        },
        "id": "MIGWloAgaLER",
        "outputId": "3d2bdf66-2150-4fd7-fb32-6889217157a7"
      },
      "outputs": [],
      "source": [
        "#display the top 3 countries with the most billionaries\n"
      ]
    },
    {
      "cell_type": "code",
      "execution_count": null,
      "metadata": {
        "colab": {
          "base_uri": "https://localhost:8080/",
          "height": 676
        },
        "id": "tnojr-qBbMF_",
        "outputId": "741a93b0-e9ef-41f1-d071-1e6c2e28ca42"
      },
      "outputs": [],
      "source": [
        "# Find the billionaires with networth more than 60 billion dollars\n",
        "#To filter a dataframe base on a condition, we need to use dataframe[condition] where the condition is a boolean expression\n",
        "#condition=forbes['networth']>=60,True-more than or equal 60, False-less than 60\n",
        "\n",
        "# OR\n"
      ]
    },
    {
      "cell_type": "code",
      "execution_count": 19,
      "metadata": {
        "id": "8nz-weahLS6u"
      },
      "outputs": [],
      "source": [
        "#find the top 5 youngest billionaires"
      ]
    },
    {
      "cell_type": "code",
      "execution_count": null,
      "metadata": {
        "colab": {
          "base_uri": "https://localhost:8080/"
        },
        "id": "K0daHMcucdip",
        "outputId": "75b15ed4-51df-4a4c-e134-19f91bedde15"
      },
      "outputs": [],
      "source": [
        "# rearrange the dataframe by ascending or descending order of specific column\n",
        "#parameter of sort_values: by-specify label to sort by, axis:0 or 1, ascending:True or False\n"
      ]
    },
    {
      "cell_type": "code",
      "execution_count": null,
      "metadata": {
        "colab": {
          "base_uri": "https://localhost:8080/"
        },
        "id": "algQ_z9Ecmsl",
        "outputId": "600addf2-6732-4a57-c399-909cc3d9655b"
      },
      "outputs": [],
      "source": []
    },
    {
      "cell_type": "code",
      "execution_count": null,
      "metadata": {
        "colab": {
          "base_uri": "https://localhost:8080/",
          "height": 833
        },
        "id": "aiW0j3F4ddZ4",
        "outputId": "ad012bf9-8e9f-4b0e-eff8-636c49c88951"
      },
      "outputs": [],
      "source": [
        "# Finding the top 5 youngest people who have networth of more than 50 billion\n",
        "\n",
        "\n",
        "#Or"
      ]
    },
    {
      "cell_type": "code",
      "execution_count": null,
      "metadata": {
        "colab": {
          "base_uri": "https://localhost:8080/"
        },
        "id": "gEo0lyzLdwxO",
        "outputId": "e3bd5f13-870e-4fb1-b698-3f12fd3f0d1b"
      },
      "outputs": [],
      "source": []
    },
    {
      "cell_type": "code",
      "execution_count": null,
      "metadata": {
        "colab": {
          "base_uri": "https://localhost:8080/"
        },
        "id": "aGMO3LD9cHdG",
        "outputId": "f8079eb8-51bd-4f09-ed8e-41ac09a364b3"
      },
      "outputs": [],
      "source": [
        "#Using the method we used previously\n",
        "\n",
        "# the higher the bin, the closer it is to the distribution plot which will be explained later\n",
        " #Notice the graphs are still similar to each other"
      ]
    },
    {
      "cell_type": "markdown",
      "metadata": {
        "id": "D3CMdsgledTN"
      },
      "source": [
        "##### Data Visualisation - Distribution Plot\n",
        "- Shows how a variable in your data is distributed"
      ]
    },
    {
      "cell_type": "markdown",
      "metadata": {
        "id": "Xs3_fcZjqByu"
      },
      "source": [
        "# Distribution Plot\n",
        "\n",
        "> parameter:\n",
        "* data: dataframe name\n",
        "* x,y,hue: variable name\n",
        "* kind:{“hist”, “kde”, “ecdf”} hist by default, same as histplot(), kdeplot(), ecdfplot(univariate data only)\n",
        "* color, palette, height...\n",
        "\n",
        "1.   kernel density estimation:KDE represents the data using a continuous probability density curve, more smooth\n",
        "2.    empirical cumulative distribution function: represents the proportion or counts of observations\n"
      ]
    },
    {
      "cell_type": "code",
      "execution_count": null,
      "metadata": {
        "colab": {
          "base_uri": "https://localhost:8080/"
        },
        "id": "xejufrTReagm",
        "outputId": "da0aa71a-29e7-4f1e-aae9-569f49549205"
      },
      "outputs": [],
      "source": [
        "#Distribution plot of the age variable\n"
      ]
    },
    {
      "cell_type": "markdown",
      "metadata": {
        "id": "2Hh7NsUlftPC"
      },
      "source": [
        "Observation from dataset:\n",
        "1. Most saturated industry/best industry (Finance & Investments)\n",
        "2. Country with the most opportunity (US) - may be too saturated\n",
        "3. Who to learn from (THose that really made it)\n",
        "4. Probable age for someone to get really rich (50-70 years old)"
      ]
    },
    {
      "cell_type": "markdown",
      "metadata": {
        "id": "-n_e6eCMmRiQ"
      },
      "source": [
        "### Example 2: Annual Sales 2018 Data"
      ]
    },
    {
      "cell_type": "markdown",
      "metadata": {
        "id": "PNa9tYcBhf1M"
      },
      "source": [
        "#### 1. Load Data"
      ]
    },
    {
      "cell_type": "code",
      "execution_count": null,
      "metadata": {
        "colab": {
          "base_uri": "https://localhost:8080/",
          "height": 206
        },
        "id": "G4DiGLZFg9Ng",
        "outputId": "6965aa2f-4c7c-462e-f039-4dff75580b2e"
      },
      "outputs": [],
      "source": []
    },
    {
      "cell_type": "code",
      "execution_count": null,
      "metadata": {
        "colab": {
          "base_uri": "https://localhost:8080/",
          "height": 206
        },
        "id": "rQOhiJNXmyQg",
        "outputId": "363c6d9e-3d9f-48ff-82d0-58ff4affc479"
      },
      "outputs": [],
      "source": [
        "#parameter of drop: label, axis: 1 for column, 0 for index, default 0\n",
        "#Better to name it with another variable so that you can keep the original dataset under the variable 'data'\n"
      ]
    },
    {
      "cell_type": "markdown",
      "metadata": {
        "id": "51DKtOeWhlgI"
      },
      "source": [
        "#### 2. Inspect Data"
      ]
    },
    {
      "cell_type": "code",
      "execution_count": null,
      "metadata": {
        "colab": {
          "base_uri": "https://localhost:8080/"
        },
        "id": "eKnFKiI8nieV",
        "outputId": "9d5ef896-a4d7-4939-a6cb-79c9d745905f"
      },
      "outputs": [],
      "source": []
    },
    {
      "cell_type": "markdown",
      "metadata": {
        "id": "B6VEowJ2hq3W"
      },
      "source": [
        "#### 3. Clean Data"
      ]
    },
    {
      "cell_type": "code",
      "execution_count": null,
      "metadata": {
        "colab": {
          "base_uri": "https://localhost:8080/"
        },
        "id": "x3uI9hQrnoaL",
        "outputId": "7e7529b3-9b51-4342-c946-179484ed02c3"
      },
      "outputs": [],
      "source": [
        "#Convert 'Order Date' column into datetime type\n"
      ]
    },
    {
      "cell_type": "markdown",
      "metadata": {
        "id": "FFdsR8izhzL8"
      },
      "source": [
        "#### 4. Explore Data"
      ]
    },
    {
      "cell_type": "code",
      "execution_count": null,
      "metadata": {
        "colab": {
          "base_uri": "https://localhost:8080/",
          "height": 206
        },
        "id": "AUL_CUbkok9K",
        "outputId": "3ce27ae3-c0fb-406f-b398-d293f75dfe11"
      },
      "outputs": [],
      "source": [
        "# series.dt can be used to access the values of the series as datetimelike and return several properties\n",
        "#dt.year will return year, dt.weekday will return the day of week"
      ]
    },
    {
      "cell_type": "code",
      "execution_count": null,
      "metadata": {
        "colab": {
          "base_uri": "https://localhost:8080/",
          "height": 206
        },
        "id": "EHC6nTTKpamd",
        "outputId": "badf861e-8f38-4075-e378-6c33c68a10ef"
      },
      "outputs": [],
      "source": [
        "#Which month had the best sales?"
      ]
    },
    {
      "cell_type": "code",
      "execution_count": null,
      "metadata": {
        "colab": {
          "base_uri": "https://localhost:8080/",
          "height": 206
        },
        "id": "CQyqUhe-p942",
        "outputId": "1b171123-1e57-4cdc-ef3b-2ad268fd0e5a"
      },
      "outputs": [],
      "source": [
        "#creat a new column called Sale"
      ]
    },
    {
      "cell_type": "code",
      "execution_count": null,
      "metadata": {
        "colab": {
          "base_uri": "https://localhost:8080/"
        },
        "id": "33TRyDgpq3gf",
        "outputId": "8e540e56-bdb6-47c6-a974-c8fd9b5b869c"
      },
      "outputs": [],
      "source": []
    },
    {
      "cell_type": "code",
      "execution_count": null,
      "metadata": {
        "id": "uiGs_i16m9Wx"
      },
      "outputs": [],
      "source": [
        "#here Month is index label not variable\n"
      ]
    },
    {
      "cell_type": "markdown",
      "metadata": {
        "id": "fsNOPtif1eKO"
      },
      "source": [
        "###### ***HOW THE PREVIOUS CODE LOOK LIKE (STEP BY STEP)***"
      ]
    },
    {
      "cell_type": "code",
      "execution_count": null,
      "metadata": {
        "colab": {
          "base_uri": "https://localhost:8080/",
          "height": 513
        },
        "id": "lHzGPpTZ1Cvq",
        "outputId": "a963d71b-2e28-41a8-ca1d-2c9a63744f11"
      },
      "outputs": [],
      "source": [
        "#How it looks like, ingore the rest of the table except for Sales"
      ]
    },
    {
      "cell_type": "code",
      "execution_count": null,
      "metadata": {
        "colab": {
          "base_uri": "https://localhost:8080/",
          "height": 513
        },
        "id": "uJMhs2h31P-m",
        "outputId": "ba575b46-bf05-4b09-eda2-d8f2a33d86dc"
      },
      "outputs": [],
      "source": [
        " #Rearranging the sales amount in ascending amount"
      ]
    },
    {
      "cell_type": "code",
      "execution_count": null,
      "metadata": {
        "colab": {
          "base_uri": "https://localhost:8080/"
        },
        "id": "_XL7RjHb1aW9",
        "outputId": "8a1c58a0-63ec-415f-8ea1-3d7623b2d7b4"
      },
      "outputs": [],
      "source": [
        " #Get only the 'Sales' column"
      ]
    },
    {
      "cell_type": "markdown",
      "metadata": {
        "id": "rGnn1mEBvjzm"
      },
      "source": [
        "#### Data Visualisation"
      ]
    },
    {
      "cell_type": "code",
      "execution_count": null,
      "metadata": {
        "colab": {
          "base_uri": "https://localhost:8080/",
          "height": 445
        },
        "id": "0qFGyJCDs8jZ",
        "outputId": "eb7ececf-6ac8-4b49-f373-3bd289720d8a"
      },
      "outputs": [],
      "source": [
        "#Data Visualisation\n"
      ]
    },
    {
      "cell_type": "markdown",
      "metadata": {
        "id": "Q4LJdCdAqAfF"
      },
      "source": [
        "# what is def\n",
        "  * def function name(argument):\n",
        "  * statement\n",
        "  * return expression"
      ]
    },
    {
      "cell_type": "code",
      "execution_count": 42,
      "metadata": {
        "id": "ogWnCK5ZnMyZ"
      },
      "outputs": [],
      "source": [
        "#example\n"
      ]
    },
    {
      "cell_type": "code",
      "execution_count": null,
      "metadata": {
        "id": "5RDq1fbznTUX"
      },
      "outputs": [],
      "source": []
    },
    {
      "cell_type": "code",
      "execution_count": null,
      "metadata": {
        "colab": {
          "base_uri": "https://localhost:8080/",
          "height": 206
        },
        "id": "38e7AQTauZk8",
        "outputId": "ec22a2c6-52e6-46c1-90da-362fab55d9ec"
      },
      "outputs": [],
      "source": [
        "#Finding the orders where the production city is the same as the city in the purchase address\n",
        "\n",
        "\n",
        "  #address patteern is street,city,postal code\n",
        "  #split() split a string into a list of substrings, the parameter is separator\n",
        "\n",
        "\n",
        "\n",
        "\n",
        " #you can apply a function you defined earlier in the dataset, the parameter: func\n"
      ]
    },
    {
      "cell_type": "code",
      "execution_count": null,
      "metadata": {
        "colab": {
          "base_uri": "https://localhost:8080/"
        },
        "id": "saHrBm1fvg4T",
        "outputId": "2cc91df7-5204-4cf3-fa80-e6d588c2a713"
      },
      "outputs": [],
      "source": [
        "#Group data by cities\n"
      ]
    },
    {
      "cell_type": "code",
      "execution_count": null,
      "metadata": {
        "colab": {
          "base_uri": "https://localhost:8080/"
        },
        "id": "NVjBL0VGws73",
        "outputId": "89e766b9-c344-434c-d119-61ab20321d84"
      },
      "outputs": [],
      "source": [
        "#Which city makes the best sales across all 12 months\n",
        "\n"
      ]
    },
    {
      "cell_type": "code",
      "execution_count": null,
      "metadata": {
        "colab": {
          "base_uri": "https://localhost:8080/"
        },
        "id": "71ZkD3Zmxwmm",
        "outputId": "987e30c1-14d3-49d0-dc94-43fd05ea15ad"
      },
      "outputs": [],
      "source": [
        "#display information of gross sales in every city for 1st 3 months\n",
        "#loc, accedd a group of rows based on positional index\n",
        "# group_data.loc[3,:] means select a specific row based on 3 and all its columns\n",
        "#why use []? In pandas, using [] to access elements form df, () for function calls\n"
      ]
    },
    {
      "cell_type": "code",
      "execution_count": null,
      "metadata": {
        "colab": {
          "base_uri": "https://localhost:8080/"
        },
        "id": "xAKu2BX3x7vU",
        "outputId": "9740ff80-8ba2-4100-a6dd-cfc8d0799500"
      },
      "outputs": [],
      "source": [
        "# Can query individual cities (Example: Atlanta)\n"
      ]
    },
    {
      "cell_type": "code",
      "execution_count": null,
      "metadata": {
        "colab": {
          "base_uri": "https://localhost:8080/"
        },
        "id": "uLMMgstpyjbP",
        "outputId": "6d8bfbc6-b99a-4193-e389-e778fdd19757"
      },
      "outputs": [],
      "source": [
        "#query each month sales for specific city\n"
      ]
    },
    {
      "cell_type": "markdown",
      "metadata": {
        "id": "UJxUqHPks1le"
      },
      "source": [
        "# create a line chart to show how the sale change in each city for 12 months?"
      ]
    },
    {
      "cell_type": "code",
      "execution_count": null,
      "metadata": {
        "colab": {
          "base_uri": "https://localhost:8080/"
        },
        "id": "_4PzKSipyxJO",
        "outputId": "188cb766-890a-4543-e523-43f41284e0a2"
      },
      "outputs": [],
      "source": [
        "# Get a list of cities\n",
        " #so there will be no duplicate\n"
      ]
    },
    {
      "cell_type": "code",
      "execution_count": null,
      "metadata": {
        "colab": {
          "base_uri": "https://localhost:8080/",
          "height": 691
        },
        "id": "yf_pwt7Ky_bM",
        "outputId": "c93967fe-f8e2-43e3-914e-d1c1f6d7a535"
      },
      "outputs": [],
      "source": [
        "\n",
        "  #Get the city's 12 months of sales\n",
        "\n",
        "\n",
        "  #Plot line plot for this city\n",
        "  #parameter: only y is required\n"
      ]
    }
  ],
  "metadata": {
    "colab": {
      "collapsed_sections": [
        "HNTBgtOLgLyY"
      ],
      "provenance": []
    },
    "kernelspec": {
      "display_name": "Python 3",
      "name": "python3"
    },
    "language_info": {
      "codemirror_mode": {
        "name": "ipython",
        "version": 3
      },
      "file_extension": ".py",
      "mimetype": "text/x-python",
      "name": "python",
      "nbconvert_exporter": "python",
      "pygments_lexer": "ipython3",
      "version": "3.8.5"
    }
  },
  "nbformat": 4,
  "nbformat_minor": 0
}
